{
 "cells": [
  {
   "cell_type": "code",
   "execution_count": 1,
   "id": "f2cbb4f5",
   "metadata": {},
   "outputs": [],
   "source": [
    "from tensorflow.keras.datasets import mnist\n",
    "(train_images, train_labels), (test_images, test_labels) = mnist.load_data()"
   ]
  },
  {
   "cell_type": "code",
   "execution_count": 2,
   "id": "efe9966a",
   "metadata": {},
   "outputs": [
    {
     "data": {
      "text/plain": [
       "(60000, 28, 28)"
      ]
     },
     "execution_count": 2,
     "metadata": {},
     "output_type": "execute_result"
    }
   ],
   "source": [
    "train_images.shape"
   ]
  },
  {
   "cell_type": "code",
   "execution_count": 3,
   "id": "6ce8e545",
   "metadata": {},
   "outputs": [
    {
     "data": {
      "text/plain": [
       "60000"
      ]
     },
     "execution_count": 3,
     "metadata": {},
     "output_type": "execute_result"
    }
   ],
   "source": [
    "len(train_labels)"
   ]
  },
  {
   "cell_type": "code",
   "execution_count": 4,
   "id": "7c89b76b",
   "metadata": {},
   "outputs": [
    {
     "data": {
      "text/plain": [
       "array([5, 0, 4, ..., 5, 6, 8], dtype=uint8)"
      ]
     },
     "execution_count": 4,
     "metadata": {},
     "output_type": "execute_result"
    }
   ],
   "source": [
    "train_labels"
   ]
  },
  {
   "cell_type": "code",
   "execution_count": 5,
   "id": "fa5cfb0f",
   "metadata": {},
   "outputs": [
    {
     "data": {
      "text/plain": [
       "(10000, 28, 28)"
      ]
     },
     "execution_count": 5,
     "metadata": {},
     "output_type": "execute_result"
    }
   ],
   "source": [
    "test_images.shape"
   ]
  },
  {
   "cell_type": "code",
   "execution_count": 6,
   "id": "e7750847",
   "metadata": {},
   "outputs": [
    {
     "data": {
      "text/plain": [
       "10000"
      ]
     },
     "execution_count": 6,
     "metadata": {},
     "output_type": "execute_result"
    }
   ],
   "source": [
    "len(test_labels)"
   ]
  },
  {
   "cell_type": "code",
   "execution_count": 7,
   "id": "d75743e8",
   "metadata": {},
   "outputs": [
    {
     "data": {
      "text/plain": [
       "array([7, 2, 1, ..., 4, 5, 6], dtype=uint8)"
      ]
     },
     "execution_count": 7,
     "metadata": {},
     "output_type": "execute_result"
    }
   ],
   "source": [
    "test_labels"
   ]
  },
  {
   "cell_type": "code",
   "execution_count": 8,
   "id": "0e8f3021",
   "metadata": {},
   "outputs": [],
   "source": [
    "#신경망 구조\n",
    "from tensorflow import keras\n",
    "from tensorflow.keras import layers\n",
    "model = keras.Sequential([\n",
    "    layers.Dense(512, activation=\"relu\"),\n",
    "    layers.Dense(10, activation=\"softmax\")\n",
    "])"
   ]
  },
  {
   "cell_type": "code",
   "execution_count": 9,
   "id": "55766a71",
   "metadata": {},
   "outputs": [],
   "source": [
    "# 컴파일 단계\n",
    "model.compile(optimizer=\"rmsprop\",\n",
    "             loss = \"sparse_categorical_crossentropy\",\n",
    "             metrics=[\"accuracy\"])"
   ]
  },
  {
   "cell_type": "code",
   "execution_count": 10,
   "id": "8c3062b4",
   "metadata": {},
   "outputs": [],
   "source": [
    "# 이미지 데이터 준비하기\n",
    "train_images = train_images.reshape((60000, 28 * 28))\n",
    "train_images = train_images.astype(\"float32\") / 255\n",
    "test_images = test_images.reshape((10000, 28 * 28))\n",
    "test_images = test_images.astype(\"float32\") / 255"
   ]
  },
  {
   "cell_type": "code",
   "execution_count": 11,
   "id": "426b4ea2",
   "metadata": {},
   "outputs": [
    {
     "name": "stdout",
     "output_type": "stream",
     "text": [
      "Epoch 1/5\n",
      "469/469 [==============================] - 5s 10ms/step - loss: 0.2517 - accuracy: 0.9271\n",
      "Epoch 2/5\n",
      "469/469 [==============================] - 5s 10ms/step - loss: 0.1035 - accuracy: 0.9689\n",
      "Epoch 3/5\n",
      "469/469 [==============================] - 5s 10ms/step - loss: 0.0671 - accuracy: 0.9796\n",
      "Epoch 4/5\n",
      "469/469 [==============================] - 5s 10ms/step - loss: 0.0496 - accuracy: 0.9851\n",
      "Epoch 5/5\n",
      "469/469 [==============================] - 5s 10ms/step - loss: 0.0378 - accuracy: 0.9884\n"
     ]
    },
    {
     "data": {
      "text/plain": [
       "<keras.callbacks.History at 0x7fc9c3381d30>"
      ]
     },
     "execution_count": 11,
     "metadata": {},
     "output_type": "execute_result"
    }
   ],
   "source": [
    "# 모델 훈련\n",
    "model.fit(train_images, train_labels, epochs=5, batch_size=128)"
   ]
  },
  {
   "cell_type": "code",
   "execution_count": 12,
   "id": "823a424f",
   "metadata": {},
   "outputs": [
    {
     "data": {
      "text/plain": [
       "array([3.7737133e-09, 2.7240499e-10, 1.4449645e-06, 2.8688373e-05,\n",
       "       3.6833657e-12, 2.7907589e-08, 2.5042380e-14, 9.9996948e-01,\n",
       "       4.4513342e-08, 3.1107243e-07], dtype=float32)"
      ]
     },
     "execution_count": 12,
     "metadata": {},
     "output_type": "execute_result"
    }
   ],
   "source": [
    "test_digits = test_images[0:10]\n",
    "predictions = model.predict(test_digits)\n",
    "predictions[0]"
   ]
  },
  {
   "cell_type": "code",
   "execution_count": 13,
   "id": "0c33e32f",
   "metadata": {},
   "outputs": [
    {
     "data": {
      "text/plain": [
       "7"
      ]
     },
     "execution_count": 13,
     "metadata": {},
     "output_type": "execute_result"
    }
   ],
   "source": [
    "predictions[0].argmax()"
   ]
  },
  {
   "cell_type": "code",
   "execution_count": 14,
   "id": "7507bc95",
   "metadata": {},
   "outputs": [
    {
     "data": {
      "text/plain": [
       "0.9999695"
      ]
     },
     "execution_count": 14,
     "metadata": {},
     "output_type": "execute_result"
    }
   ],
   "source": [
    "predictions[0][7]"
   ]
  },
  {
   "cell_type": "code",
   "execution_count": 15,
   "id": "b1d30f3d",
   "metadata": {},
   "outputs": [
    {
     "data": {
      "text/plain": [
       "7"
      ]
     },
     "execution_count": 15,
     "metadata": {},
     "output_type": "execute_result"
    }
   ],
   "source": [
    "test_labels[0]"
   ]
  },
  {
   "cell_type": "code",
   "execution_count": 16,
   "id": "b4c91ffd",
   "metadata": {},
   "outputs": [
    {
     "name": "stdout",
     "output_type": "stream",
     "text": [
      "313/313 [==============================] - 1s 2ms/step - loss: 0.0670 - accuracy: 0.9800\n",
      "테스트 정확도: 0.9800000190734863\n"
     ]
    }
   ],
   "source": [
    "# 새로운 데이터에서 모델 평가하기\n",
    "test_loss, test_acc = model.evaluate(test_images, test_labels)\n",
    "print(f\"테스트 정확도: {test_acc}\")"
   ]
  },
  {
   "cell_type": "code",
   "execution_count": 17,
   "id": "9ed3518a",
   "metadata": {},
   "outputs": [
    {
     "data": {
      "text/plain": [
       "array(12)"
      ]
     },
     "execution_count": 17,
     "metadata": {},
     "output_type": "execute_result"
    }
   ],
   "source": [
    "# 스칼라 (랭크-0 텐서)\n",
    "import numpy as np\n",
    "x = np.array(12)\n",
    "x"
   ]
  },
  {
   "cell_type": "code",
   "execution_count": 18,
   "id": "589409aa",
   "metadata": {},
   "outputs": [
    {
     "data": {
      "text/plain": [
       "0"
      ]
     },
     "execution_count": 18,
     "metadata": {},
     "output_type": "execute_result"
    }
   ],
   "source": [
    "x.ndim"
   ]
  },
  {
   "cell_type": "code",
   "execution_count": 19,
   "id": "9e207ebc",
   "metadata": {},
   "outputs": [
    {
     "data": {
      "text/plain": [
       "array([12,  3,  6, 14,  7])"
      ]
     },
     "execution_count": 19,
     "metadata": {},
     "output_type": "execute_result"
    }
   ],
   "source": [
    "x = np.array([12,3,6,14,7])\n",
    "x"
   ]
  },
  {
   "cell_type": "code",
   "execution_count": 20,
   "id": "d8861774",
   "metadata": {},
   "outputs": [
    {
     "data": {
      "text/plain": [
       "1"
      ]
     },
     "execution_count": 20,
     "metadata": {},
     "output_type": "execute_result"
    }
   ],
   "source": [
    "x.ndim"
   ]
  },
  {
   "cell_type": "code",
   "execution_count": 21,
   "id": "42780cf1",
   "metadata": {},
   "outputs": [
    {
     "data": {
      "text/plain": [
       "2"
      ]
     },
     "execution_count": 21,
     "metadata": {},
     "output_type": "execute_result"
    }
   ],
   "source": [
    "x = np.array([[5, 78, 2, 34, 0],\n",
    "             [6, 79, 3, 35, 1],\n",
    "             [7, 80, 4, 36,2]])\n",
    "x.ndim"
   ]
  },
  {
   "cell_type": "code",
   "execution_count": 22,
   "id": "4a50c87e",
   "metadata": {},
   "outputs": [
    {
     "data": {
      "text/plain": [
       "3"
      ]
     },
     "execution_count": 22,
     "metadata": {},
     "output_type": "execute_result"
    }
   ],
   "source": [
    "# 랭크-3 텐서와 더 높은 랭크의 텐서\n",
    "x = np.array([[[5, 78, 2, 34, 0],\n",
    "               [6, 79, 3, 35, 1],\n",
    "               [7, 80, 4, 36, 2]],\n",
    "              [[5, 78, 2, 34, 0],\n",
    "               [6, 79, 3, 35, 1],\n",
    "               [7, 80, 4, 36, 2]],\n",
    "              [[5, 78, 2, 34, 0],\n",
    "               [6, 79, 3, 35, 1],\n",
    "               [7, 80, 4, 36, 2]]])\n",
    "x.ndim"
   ]
  },
  {
   "cell_type": "code",
   "execution_count": 23,
   "id": "6324371c",
   "metadata": {},
   "outputs": [],
   "source": [
    "# 핵심 속성\n",
    "from tensorflow.keras.datasets import mnist\n",
    "(train_images, train_labels), (test_images, test_labels) = mnist.load_data()"
   ]
  },
  {
   "cell_type": "code",
   "execution_count": 24,
   "id": "c743180d",
   "metadata": {},
   "outputs": [
    {
     "data": {
      "text/plain": [
       "3"
      ]
     },
     "execution_count": 24,
     "metadata": {},
     "output_type": "execute_result"
    }
   ],
   "source": [
    "train_images.ndim"
   ]
  },
  {
   "cell_type": "code",
   "execution_count": 25,
   "id": "c1bd5a1c",
   "metadata": {},
   "outputs": [
    {
     "data": {
      "text/plain": [
       "(60000, 28, 28)"
      ]
     },
     "execution_count": 25,
     "metadata": {},
     "output_type": "execute_result"
    }
   ],
   "source": [
    "train_images.shape"
   ]
  },
  {
   "cell_type": "code",
   "execution_count": 26,
   "id": "5230744e",
   "metadata": {},
   "outputs": [
    {
     "data": {
      "text/plain": [
       "dtype('uint8')"
      ]
     },
     "execution_count": 26,
     "metadata": {},
     "output_type": "execute_result"
    }
   ],
   "source": [
    "train_images.dtype"
   ]
  },
  {
   "cell_type": "code",
   "execution_count": 27,
   "id": "decf8b08",
   "metadata": {},
   "outputs": [
    {
     "data": {
      "image/png": "[encoded data removed]",
      "text/plain": [
       "<Figure size 432x288 with 1 Axes>"
      ]
     },
     "metadata": {
      "needs_background": "light"
     },
     "output_type": "display_data"
    }
   ],
   "source": [
    "import matplotlib.pyplot as plt\n",
    "digit = train_images[4]\n",
    "plt.imshow(digit, cmap=plt.cm.binary)\n",
    "plt.show()"
   ]
  },
  {
   "cell_type": "code",
   "execution_count": 28,
   "id": "58a9b096",
   "metadata": {},
   "outputs": [
    {
     "data": {
      "text/plain": [
       "9"
      ]
     },
     "execution_count": 28,
     "metadata": {},
     "output_type": "execute_result"
    }
   ],
   "source": [
    "train_labels[4]"
   ]
  },
  {
   "cell_type": "code",
   "execution_count": 29,
   "id": "5e53ea6d",
   "metadata": {},
   "outputs": [
    {
     "data": {
      "text/plain": [
       "(90, 28, 28)"
      ]
     },
     "execution_count": 29,
     "metadata": {},
     "output_type": "execute_result"
    }
   ],
   "source": [
    "# 넘파이로 텐서 조작하기\n",
    "my_slice = train_images[10:100]\n",
    "my_slice.shape"
   ]
  },
  {
   "cell_type": "code",
   "execution_count": 30,
   "id": "68bd06b9",
   "metadata": {},
   "outputs": [
    {
     "data": {
      "text/plain": [
       "(90, 28, 28)"
      ]
     },
     "execution_count": 30,
     "metadata": {},
     "output_type": "execute_result"
    }
   ],
   "source": [
    "my_slice = train_images[10:100,:,:]\n",
    "my_slice.shape"
   ]
  },
  {
   "cell_type": "code",
   "execution_count": 31,
   "id": "abf61ef3",
   "metadata": {},
   "outputs": [
    {
     "data": {
      "text/plain": [
       "(90, 28, 28)"
      ]
     },
     "execution_count": 31,
     "metadata": {},
     "output_type": "execute_result"
    }
   ],
   "source": [
    "my_slice = train_images[10:100, 0:28, 0:28]\n",
    "my_slice.shape"
   ]
  },
  {
   "cell_type": "code",
   "execution_count": 32,
   "id": "cd8aca37",
   "metadata": {},
   "outputs": [],
   "source": [
    "my_slice = train_images[:, 14:, 14:]"
   ]
  },
  {
   "cell_type": "code",
   "execution_count": 33,
   "id": "9326a579",
   "metadata": {},
   "outputs": [],
   "source": [
    "my_slice = train_images[:, 7:-7, 7:-7]"
   ]
  },
  {
   "cell_type": "code",
   "execution_count": 34,
   "id": "8478e57b",
   "metadata": {},
   "outputs": [],
   "source": [
    "#배치 데이터\n",
    "batch = train_images[:128]"
   ]
  },
  {
   "cell_type": "code",
   "execution_count": 35,
   "id": "1022b71c",
   "metadata": {},
   "outputs": [],
   "source": [
    "batch = train_images[128:256]"
   ]
  },
  {
   "cell_type": "code",
   "execution_count": 36,
   "id": "0c99b497",
   "metadata": {},
   "outputs": [],
   "source": [
    "n=3\n",
    "batch = train_images[128 * n:128 * (n+1)]"
   ]
  },
  {
   "cell_type": "code",
   "execution_count": 37,
   "id": "84215b9c",
   "metadata": {},
   "outputs": [],
   "source": [
    "# 원소별 연산\n",
    "def naive_relu(x):\n",
    "    assert len(x.shape) ==2\n",
    "    x = x.copy()\n",
    "    for i in range(x.shape[0]):\n",
    "        for j in range(x.shape[1]):\n",
    "            x[i, j] = max(x[i,j],0)\n",
    "    return x"
   ]
  },
  {
   "cell_type": "code",
   "execution_count": 38,
   "id": "815de6de",
   "metadata": {},
   "outputs": [],
   "source": [
    "def naive_add(x,y):\n",
    "    assert len(x.shape) == 2\n",
    "    assert x.shape == y.shape\n",
    "    x = x.copy()\n",
    "    for i in range(x.shape[0]):\n",
    "        for j in range(x.shape[1]):\n",
    "            x[i, j] += y[i,j]\n",
    "    return x"
   ]
  },
  {
   "cell_type": "code",
   "execution_count": 39,
   "id": "18ebc89d",
   "metadata": {},
   "outputs": [
    {
     "name": "stdout",
     "output_type": "stream",
     "text": [
      "걸린 시간:  0.00 s\n",
      "걸린 시간:  0.00 s\n",
      "걸린 시간:  0.00 s\n",
      "걸린 시간:  0.01 s\n",
      "걸린 시간:  0.01 s\n",
      "걸린 시간:  0.01 s\n",
      "걸린 시간:  0.01 s\n",
      "걸린 시간:  0.01 s\n",
      "걸린 시간:  0.01 s\n",
      "걸린 시간:  0.01 s\n",
      "걸린 시간:  0.01 s\n",
      "걸린 시간:  0.01 s\n",
      "걸린 시간:  0.01 s\n",
      "걸린 시간:  0.01 s\n",
      "걸린 시간:  0.01 s\n",
      "걸린 시간:  0.01 s\n",
      "걸린 시간:  0.01 s\n",
      "걸린 시간:  0.01 s\n",
      "걸린 시간:  0.01 s\n",
      "걸린 시간:  0.01 s\n",
      "걸린 시간:  0.01 s\n",
      "걸린 시간:  0.01 s\n",
      "걸린 시간:  0.01 s\n",
      "걸린 시간:  0.01 s\n",
      "걸린 시간:  0.01 s\n",
      "걸린 시간:  0.01 s\n",
      "걸린 시간:  0.01 s\n",
      "걸린 시간:  0.01 s\n",
      "걸린 시간:  0.01 s\n",
      "걸린 시간:  0.01 s\n",
      "걸린 시간:  0.01 s\n",
      "걸린 시간:  0.01 s\n",
      "걸린 시간:  0.01 s\n",
      "걸린 시간:  0.01 s\n",
      "걸린 시간:  0.01 s\n",
      "걸린 시간:  0.01 s\n",
      "걸린 시간:  0.01 s\n",
      "걸린 시간:  0.01 s\n",
      "걸린 시간:  0.01 s\n",
      "걸린 시간:  0.01 s\n",
      "걸린 시간:  0.02 s\n",
      "걸린 시간:  0.02 s\n",
      "걸린 시간:  0.02 s\n",
      "걸린 시간:  0.02 s\n",
      "걸린 시간:  0.02 s\n",
      "걸린 시간:  0.02 s\n",
      "걸린 시간:  0.02 s\n",
      "걸린 시간:  0.02 s\n",
      "걸린 시간:  0.02 s\n",
      "걸린 시간:  0.02 s\n",
      "걸린 시간:  0.02 s\n",
      "걸린 시간:  0.02 s\n",
      "걸린 시간:  0.02 s\n",
      "걸린 시간:  0.02 s\n",
      "걸린 시간:  0.02 s\n",
      "걸린 시간:  0.02 s\n",
      "걸린 시간:  0.02 s\n",
      "걸린 시간:  0.02 s\n",
      "걸린 시간:  0.02 s\n",
      "걸린 시간:  0.02 s\n",
      "걸린 시간:  0.02 s\n",
      "걸린 시간:  0.02 s\n",
      "걸린 시간:  0.02 s\n",
      "걸린 시간:  0.02 s\n",
      "걸린 시간:  0.02 s\n",
      "걸린 시간:  0.02 s\n",
      "걸린 시간:  0.02 s\n",
      "걸린 시간:  0.02 s\n",
      "걸린 시간:  0.02 s\n",
      "걸린 시간:  0.02 s\n",
      "걸린 시간:  0.02 s\n",
      "걸린 시간:  0.02 s\n",
      "걸린 시간:  0.02 s\n",
      "걸린 시간:  0.02 s\n",
      "걸린 시간:  0.02 s\n",
      "걸린 시간:  0.02 s\n",
      "걸린 시간:  0.02 s\n",
      "걸린 시간:  0.02 s\n",
      "걸린 시간:  0.02 s\n",
      "걸린 시간:  0.02 s\n",
      "걸린 시간:  0.02 s\n",
      "걸린 시간:  0.02 s\n",
      "걸린 시간:  0.02 s\n",
      "걸린 시간:  0.03 s\n",
      "걸린 시간:  0.03 s\n",
      "걸린 시간:  0.03 s\n",
      "걸린 시간:  0.03 s\n",
      "걸린 시간:  0.03 s\n",
      "걸린 시간:  0.03 s\n",
      "걸린 시간:  0.03 s\n",
      "걸린 시간:  0.03 s\n",
      "걸린 시간:  0.03 s\n",
      "걸린 시간:  0.03 s\n",
      "걸린 시간:  0.03 s\n",
      "걸린 시간:  0.03 s\n",
      "걸린 시간:  0.03 s\n",
      "걸린 시간:  0.03 s\n",
      "걸린 시간:  0.03 s\n",
      "걸린 시간:  0.03 s\n",
      "걸린 시간:  0.03 s\n",
      "걸린 시간:  0.03 s\n",
      "걸린 시간:  0.03 s\n",
      "걸린 시간:  0.03 s\n",
      "걸린 시간:  0.03 s\n",
      "걸린 시간:  0.03 s\n",
      "걸린 시간:  0.03 s\n",
      "걸린 시간:  0.03 s\n",
      "걸린 시간:  0.03 s\n",
      "걸린 시간:  0.03 s\n",
      "걸린 시간:  0.03 s\n",
      "걸린 시간:  0.03 s\n",
      "걸린 시간:  0.03 s\n",
      "걸린 시간:  0.03 s\n",
      "걸린 시간:  0.03 s\n",
      "걸린 시간:  0.03 s\n",
      "걸린 시간:  0.03 s\n",
      "걸린 시간:  0.03 s\n",
      "걸린 시간:  0.03 s\n",
      "걸린 시간:  0.03 s\n",
      "걸린 시간:  0.03 s\n",
      "걸린 시간:  0.03 s\n",
      "걸린 시간:  0.03 s\n",
      "걸린 시간:  0.03 s\n",
      "걸린 시간:  0.03 s\n",
      "걸린 시간:  0.03 s\n",
      "걸린 시간:  0.03 s\n",
      "걸린 시간:  0.03 s\n",
      "걸린 시간:  0.03 s\n",
      "걸린 시간:  0.03 s\n",
      "걸린 시간:  0.03 s\n",
      "걸린 시간:  0.03 s\n",
      "걸린 시간:  0.03 s\n",
      "걸린 시간:  0.03 s\n",
      "걸린 시간:  0.03 s\n",
      "걸린 시간:  0.04 s\n",
      "걸린 시간:  0.04 s\n",
      "걸린 시간:  0.04 s\n",
      "걸린 시간:  0.04 s\n",
      "걸린 시간:  0.04 s\n",
      "걸린 시간:  0.04 s\n",
      "걸린 시간:  0.04 s\n",
      "걸린 시간:  0.04 s\n",
      "걸린 시간:  0.04 s\n",
      "걸린 시간:  0.04 s\n",
      "걸린 시간:  0.04 s\n",
      "걸린 시간:  0.04 s\n",
      "걸린 시간:  0.04 s\n",
      "걸린 시간:  0.04 s\n",
      "걸린 시간:  0.04 s\n",
      "걸린 시간:  0.04 s\n",
      "걸린 시간:  0.04 s\n",
      "걸린 시간:  0.04 s\n",
      "걸린 시간:  0.04 s\n",
      "걸린 시간:  0.04 s\n",
      "걸린 시간:  0.04 s\n",
      "걸린 시간:  0.04 s\n",
      "걸린 시간:  0.04 s\n",
      "걸린 시간:  0.04 s\n",
      "걸린 시간:  0.04 s\n",
      "걸린 시간:  0.04 s\n",
      "걸린 시간:  0.04 s\n",
      "걸린 시간:  0.04 s\n",
      "걸린 시간:  0.04 s\n",
      "걸린 시간:  0.04 s\n",
      "걸린 시간:  0.04 s\n",
      "걸린 시간:  0.04 s\n",
      "걸린 시간:  0.04 s\n",
      "걸린 시간:  0.04 s\n",
      "걸린 시간:  0.04 s\n",
      "걸린 시간:  0.04 s\n",
      "걸린 시간:  0.04 s\n",
      "걸린 시간:  0.05 s\n",
      "걸린 시간:  0.05 s\n",
      "걸린 시간:  0.05 s\n",
      "걸린 시간:  0.05 s\n",
      "걸린 시간:  0.05 s\n",
      "걸린 시간:  0.05 s\n",
      "걸린 시간:  0.05 s\n",
      "걸린 시간:  0.05 s\n",
      "걸린 시간:  0.05 s\n",
      "걸린 시간:  0.05 s\n",
      "걸린 시간:  0.05 s\n",
      "걸린 시간:  0.05 s\n",
      "걸린 시간:  0.05 s\n",
      "걸린 시간:  0.05 s\n",
      "걸린 시간:  0.05 s\n",
      "걸린 시간:  0.05 s\n",
      "걸린 시간:  0.05 s\n",
      "걸린 시간:  0.05 s\n",
      "걸린 시간:  0.05 s\n",
      "걸린 시간:  0.05 s\n",
      "걸린 시간:  0.05 s\n",
      "걸린 시간:  0.05 s\n",
      "걸린 시간:  0.05 s\n",
      "걸린 시간:  0.05 s\n",
      "걸린 시간:  0.05 s\n",
      "걸린 시간:  0.05 s\n",
      "걸린 시간:  0.05 s\n",
      "걸린 시간:  0.05 s\n",
      "걸린 시간:  0.05 s\n",
      "걸린 시간:  0.05 s\n",
      "걸린 시간:  0.05 s\n",
      "걸린 시간:  0.05 s\n",
      "걸린 시간:  0.05 s\n",
      "걸린 시간:  0.05 s\n",
      "걸린 시간:  0.05 s\n",
      "걸린 시간:  0.05 s\n",
      "걸린 시간:  0.05 s\n",
      "걸린 시간:  0.05 s\n",
      "걸린 시간:  0.05 s\n",
      "걸린 시간:  0.05 s\n",
      "걸린 시간:  0.05 s\n",
      "걸린 시간:  0.05 s\n",
      "걸린 시간:  0.05 s\n",
      "걸린 시간:  0.05 s\n",
      "걸린 시간:  0.05 s\n",
      "걸린 시간:  0.05 s\n",
      "걸린 시간:  0.06 s\n",
      "걸린 시간:  0.06 s\n",
      "걸린 시간:  0.06 s\n",
      "걸린 시간:  0.06 s\n",
      "걸린 시간:  0.06 s\n",
      "걸린 시간:  0.06 s\n",
      "걸린 시간:  0.06 s\n",
      "걸린 시간:  0.06 s\n",
      "걸린 시간:  0.06 s\n",
      "걸린 시간:  0.06 s\n",
      "걸린 시간:  0.06 s\n",
      "걸린 시간:  0.06 s\n",
      "걸린 시간:  0.06 s\n",
      "걸린 시간:  0.06 s\n",
      "걸린 시간:  0.06 s\n",
      "걸린 시간:  0.06 s\n",
      "걸린 시간:  0.06 s\n",
      "걸린 시간:  0.06 s\n",
      "걸린 시간:  0.06 s\n",
      "걸린 시간:  0.06 s\n",
      "걸린 시간:  0.06 s\n",
      "걸린 시간:  0.06 s\n",
      "걸린 시간:  0.06 s\n",
      "걸린 시간:  0.06 s\n",
      "걸린 시간:  0.06 s\n",
      "걸린 시간:  0.06 s\n",
      "걸린 시간:  0.06 s\n",
      "걸린 시간:  0.06 s\n",
      "걸린 시간:  0.06 s\n",
      "걸린 시간:  0.06 s\n",
      "걸린 시간:  0.06 s\n",
      "걸린 시간:  0.06 s\n",
      "걸린 시간:  0.06 s\n",
      "걸린 시간:  0.06 s\n",
      "걸린 시간:  0.06 s\n",
      "걸린 시간:  0.06 s\n",
      "걸린 시간:  0.06 s\n",
      "걸린 시간:  0.06 s\n",
      "걸린 시간:  0.06 s\n",
      "걸린 시간:  0.06 s\n",
      "걸린 시간:  0.06 s\n",
      "걸린 시간:  0.06 s\n",
      "걸린 시간:  0.06 s\n",
      "걸린 시간:  0.06 s\n",
      "걸린 시간:  0.06 s\n",
      "걸린 시간:  0.06 s\n",
      "걸린 시간:  0.06 s\n",
      "걸린 시간:  0.06 s\n",
      "걸린 시간:  0.06 s\n",
      "걸린 시간:  0.06 s\n",
      "걸린 시간:  0.06 s\n",
      "걸린 시간:  0.06 s\n",
      "걸린 시간:  0.06 s\n",
      "걸린 시간:  0.06 s\n",
      "걸린 시간:  0.06 s\n",
      "걸린 시간:  0.07 s\n",
      "걸린 시간:  0.07 s\n",
      "걸린 시간:  0.07 s\n",
      "걸린 시간:  0.07 s\n",
      "걸린 시간:  0.07 s\n",
      "걸린 시간:  0.07 s\n",
      "걸린 시간:  0.07 s\n",
      "걸린 시간:  0.07 s\n",
      "걸린 시간:  0.07 s\n",
      "걸린 시간:  0.07 s\n",
      "걸린 시간:  0.07 s\n",
      "걸린 시간:  0.07 s\n",
      "걸린 시간:  0.07 s\n",
      "걸린 시간:  0.07 s\n",
      "걸린 시간:  0.07 s\n",
      "걸린 시간:  0.07 s\n",
      "걸린 시간:  0.07 s\n",
      "걸린 시간:  0.07 s\n",
      "걸린 시간:  0.07 s\n",
      "걸린 시간:  0.07 s\n",
      "걸린 시간:  0.07 s\n",
      "걸린 시간:  0.07 s\n",
      "걸린 시간:  0.07 s\n",
      "걸린 시간:  0.07 s\n",
      "걸린 시간:  0.07 s\n",
      "걸린 시간:  0.07 s\n",
      "걸린 시간:  0.07 s\n",
      "걸린 시간:  0.07 s\n",
      "걸린 시간:  0.07 s\n",
      "걸린 시간:  0.07 s\n",
      "걸린 시간:  0.07 s\n",
      "걸린 시간:  0.07 s\n",
      "걸린 시간:  0.07 s\n",
      "걸린 시간:  0.07 s\n",
      "걸린 시간:  0.07 s\n",
      "걸린 시간:  0.07 s\n",
      "걸린 시간:  0.07 s\n",
      "걸린 시간:  0.07 s\n",
      "걸린 시간:  0.07 s\n",
      "걸린 시간:  0.07 s\n",
      "걸린 시간:  0.07 s\n",
      "걸린 시간:  0.07 s\n",
      "걸린 시간:  0.07 s\n",
      "걸린 시간:  0.07 s\n",
      "걸린 시간:  0.07 s\n",
      "걸린 시간:  0.07 s\n",
      "걸린 시간:  0.07 s\n",
      "걸린 시간:  0.07 s\n",
      "걸린 시간:  0.07 s\n",
      "걸린 시간:  0.07 s\n",
      "걸린 시간:  0.07 s\n",
      "걸린 시간:  0.07 s\n",
      "걸린 시간:  0.07 s\n",
      "걸린 시간:  0.07 s\n",
      "걸린 시간:  0.08 s\n",
      "걸린 시간:  0.08 s\n",
      "걸린 시간:  0.08 s\n",
      "걸린 시간:  0.08 s\n",
      "걸린 시간:  0.08 s\n",
      "걸린 시간:  0.08 s\n",
      "걸린 시간:  0.08 s\n",
      "걸린 시간:  0.08 s\n",
      "걸린 시간:  0.08 s\n",
      "걸린 시간:  0.08 s\n",
      "걸린 시간:  0.08 s\n",
      "걸린 시간:  0.08 s\n",
      "걸린 시간:  0.08 s\n",
      "걸린 시간:  0.08 s\n",
      "걸린 시간:  0.08 s\n",
      "걸린 시간:  0.08 s\n",
      "걸린 시간:  0.08 s\n",
      "걸린 시간:  0.08 s\n",
      "걸린 시간:  0.08 s\n",
      "걸린 시간:  0.08 s\n",
      "걸린 시간:  0.08 s\n",
      "걸린 시간:  0.08 s\n",
      "걸린 시간:  0.08 s\n",
      "걸린 시간:  0.08 s\n",
      "걸린 시간:  0.08 s\n",
      "걸린 시간:  0.08 s\n",
      "걸린 시간:  0.08 s\n",
      "걸린 시간:  0.08 s\n",
      "걸린 시간:  0.08 s\n",
      "걸린 시간:  0.08 s\n",
      "걸린 시간:  0.08 s\n",
      "걸린 시간:  0.08 s\n",
      "걸린 시간:  0.08 s\n",
      "걸린 시간:  0.08 s\n",
      "걸린 시간:  0.08 s\n",
      "걸린 시간:  0.08 s\n",
      "걸린 시간:  0.08 s\n",
      "걸린 시간:  0.08 s\n",
      "걸린 시간:  0.08 s\n",
      "걸린 시간:  0.08 s\n",
      "걸린 시간:  0.08 s\n",
      "걸린 시간:  0.08 s\n",
      "걸린 시간:  0.08 s\n",
      "걸린 시간:  0.08 s\n",
      "걸린 시간:  0.08 s\n",
      "걸린 시간:  0.08 s\n",
      "걸린 시간:  0.08 s\n",
      "걸린 시간:  0.08 s\n",
      "걸린 시간:  0.08 s\n",
      "걸린 시간:  0.08 s\n",
      "걸린 시간:  0.08 s\n",
      "걸린 시간:  0.08 s\n",
      "걸린 시간:  0.09 s\n",
      "걸린 시간:  0.09 s\n",
      "걸린 시간:  0.09 s\n",
      "걸린 시간:  0.09 s\n",
      "걸린 시간:  0.09 s\n",
      "걸린 시간:  0.09 s\n",
      "걸린 시간:  0.09 s\n",
      "걸린 시간:  0.09 s\n",
      "걸린 시간:  0.09 s\n",
      "걸린 시간:  0.09 s\n",
      "걸린 시간:  0.09 s\n",
      "걸린 시간:  0.09 s\n",
      "걸린 시간:  0.09 s\n",
      "걸린 시간:  0.09 s\n",
      "걸린 시간:  0.09 s\n",
      "걸린 시간:  0.09 s\n",
      "걸린 시간:  0.09 s\n",
      "걸린 시간:  0.09 s\n",
      "걸린 시간:  0.09 s\n",
      "걸린 시간:  0.09 s\n",
      "걸린 시간:  0.09 s\n",
      "걸린 시간:  0.09 s\n",
      "걸린 시간:  0.09 s\n",
      "걸린 시간:  0.09 s\n",
      "걸린 시간:  0.09 s\n",
      "걸린 시간:  0.09 s\n",
      "걸린 시간:  0.09 s\n",
      "걸린 시간:  0.09 s\n",
      "걸린 시간:  0.09 s\n",
      "걸린 시간:  0.09 s\n",
      "걸린 시간:  0.09 s\n",
      "걸린 시간:  0.09 s\n",
      "걸린 시간:  0.09 s\n",
      "걸린 시간:  0.09 s\n",
      "걸린 시간:  0.09 s\n",
      "걸린 시간:  0.09 s\n",
      "걸린 시간:  0.09 s\n",
      "걸린 시간:  0.09 s\n",
      "걸린 시간:  0.09 s\n",
      "걸린 시간:  0.09 s\n",
      "걸린 시간:  0.09 s\n",
      "걸린 시간:  0.09 s\n",
      "걸린 시간:  0.09 s\n",
      "걸린 시간:  0.09 s\n",
      "걸린 시간:  0.09 s\n",
      "걸린 시간:  0.09 s\n",
      "걸린 시간:  0.09 s\n",
      "걸린 시간:  0.09 s\n",
      "걸린 시간:  0.09 s\n",
      "걸린 시간:  0.09 s\n",
      "걸린 시간:  0.09 s\n",
      "걸린 시간:  0.09 s\n",
      "걸린 시간:  0.10 s\n",
      "걸린 시간:  0.10 s\n",
      "걸린 시간:  0.10 s\n",
      "걸린 시간:  0.10 s\n",
      "걸린 시간:  0.10 s\n",
      "걸린 시간:  0.10 s\n",
      "걸린 시간:  0.10 s\n",
      "걸린 시간:  0.10 s\n",
      "걸린 시간:  0.10 s\n",
      "걸린 시간:  0.10 s\n",
      "걸린 시간:  0.10 s\n",
      "걸린 시간:  0.10 s\n",
      "걸린 시간:  0.10 s\n",
      "걸린 시간:  0.10 s\n",
      "걸린 시간:  0.10 s\n",
      "걸린 시간:  0.10 s\n",
      "걸린 시간:  0.10 s\n",
      "걸린 시간:  0.10 s\n",
      "걸린 시간:  0.10 s\n",
      "걸린 시간:  0.10 s\n",
      "걸린 시간:  0.10 s\n",
      "걸린 시간:  0.10 s\n",
      "걸린 시간:  0.10 s\n",
      "걸린 시간:  0.10 s\n",
      "걸린 시간:  0.10 s\n",
      "걸린 시간:  0.10 s\n",
      "걸린 시간:  0.10 s\n",
      "걸린 시간:  0.10 s\n",
      "걸린 시간:  0.10 s\n",
      "걸린 시간:  0.10 s\n",
      "걸린 시간:  0.10 s\n",
      "걸린 시간:  0.10 s\n",
      "걸린 시간:  0.10 s\n",
      "걸린 시간:  0.10 s\n",
      "걸린 시간:  0.10 s\n",
      "걸린 시간:  0.10 s\n",
      "걸린 시간:  0.10 s\n",
      "걸린 시간:  0.10 s\n",
      "걸린 시간:  0.10 s\n",
      "걸린 시간:  0.11 s\n",
      "걸린 시간:  0.11 s\n",
      "걸린 시간:  0.11 s\n",
      "걸린 시간:  0.11 s\n",
      "걸린 시간:  0.11 s\n",
      "걸린 시간:  0.11 s\n",
      "걸린 시간:  0.11 s\n",
      "걸린 시간:  0.11 s\n",
      "걸린 시간:  0.11 s\n",
      "걸린 시간:  0.11 s\n",
      "걸린 시간:  0.11 s\n",
      "걸린 시간:  0.11 s\n",
      "걸린 시간:  0.11 s\n",
      "걸린 시간:  0.11 s\n",
      "걸린 시간:  0.11 s\n",
      "걸린 시간:  0.11 s\n",
      "걸린 시간:  0.11 s\n",
      "걸린 시간:  0.11 s\n",
      "걸린 시간:  0.11 s\n",
      "걸린 시간:  0.11 s\n",
      "걸린 시간:  0.11 s\n",
      "걸린 시간:  0.11 s\n",
      "걸린 시간:  0.11 s\n",
      "걸린 시간:  0.11 s\n",
      "걸린 시간:  0.11 s\n",
      "걸린 시간:  0.11 s\n",
      "걸린 시간:  0.11 s\n",
      "걸린 시간:  0.11 s\n",
      "걸린 시간:  0.11 s\n",
      "걸린 시간:  0.11 s\n",
      "걸린 시간:  0.11 s\n",
      "걸린 시간:  0.11 s\n",
      "걸린 시간:  0.11 s\n",
      "걸린 시간:  0.11 s\n",
      "걸린 시간:  0.11 s\n",
      "걸린 시간:  0.11 s\n",
      "걸린 시간:  0.11 s\n",
      "걸린 시간:  0.11 s\n",
      "걸린 시간:  0.11 s\n",
      "걸린 시간:  0.11 s\n",
      "걸린 시간:  0.11 s\n",
      "걸린 시간:  0.11 s\n",
      "걸린 시간:  0.11 s\n",
      "걸린 시간:  0.11 s\n",
      "걸린 시간:  0.11 s\n",
      "걸린 시간:  0.12 s\n",
      "걸린 시간:  0.12 s\n",
      "걸린 시간:  0.12 s\n",
      "걸린 시간:  0.12 s\n",
      "걸린 시간:  0.12 s\n",
      "걸린 시간:  0.12 s\n",
      "걸린 시간:  0.12 s\n",
      "걸린 시간:  0.12 s\n",
      "걸린 시간:  0.12 s\n",
      "걸린 시간:  0.12 s\n",
      "걸린 시간:  0.12 s\n",
      "걸린 시간:  0.12 s\n",
      "걸린 시간:  0.12 s\n",
      "걸린 시간:  0.12 s\n",
      "걸린 시간:  0.12 s\n",
      "걸린 시간:  0.12 s\n",
      "걸린 시간:  0.12 s\n",
      "걸린 시간:  0.12 s\n",
      "걸린 시간:  0.12 s\n",
      "걸린 시간:  0.12 s\n",
      "걸린 시간:  0.12 s\n",
      "걸린 시간:  0.12 s\n",
      "걸린 시간:  0.12 s\n",
      "걸린 시간:  0.12 s\n",
      "걸린 시간:  0.12 s\n",
      "걸린 시간:  0.12 s\n",
      "걸린 시간:  0.12 s\n",
      "걸린 시간:  0.12 s\n",
      "걸린 시간:  0.12 s\n",
      "걸린 시간:  0.12 s\n",
      "걸린 시간:  0.12 s\n",
      "걸린 시간:  0.12 s\n",
      "걸린 시간:  0.12 s\n",
      "걸린 시간:  0.12 s\n",
      "걸린 시간:  0.12 s\n",
      "걸린 시간:  0.12 s\n",
      "걸린 시간:  0.12 s\n",
      "걸린 시간:  0.12 s\n",
      "걸린 시간:  0.12 s\n",
      "걸린 시간:  0.12 s\n",
      "걸린 시간:  0.12 s\n",
      "걸린 시간:  0.12 s\n",
      "걸린 시간:  0.12 s\n",
      "걸린 시간:  0.12 s\n",
      "걸린 시간:  0.12 s\n",
      "걸린 시간:  0.12 s\n",
      "걸린 시간:  0.13 s\n",
      "걸린 시간:  0.13 s\n",
      "걸린 시간:  0.13 s\n",
      "걸린 시간:  0.13 s\n",
      "걸린 시간:  0.13 s\n",
      "걸린 시간:  0.13 s\n",
      "걸린 시간:  0.13 s\n",
      "걸린 시간:  0.13 s\n",
      "걸린 시간:  0.13 s\n",
      "걸린 시간:  0.13 s\n",
      "걸린 시간:  0.13 s\n",
      "걸린 시간:  0.13 s\n",
      "걸린 시간:  0.13 s\n",
      "걸린 시간:  0.13 s\n",
      "걸린 시간:  0.13 s\n",
      "걸린 시간:  0.13 s\n",
      "걸린 시간:  0.13 s\n",
      "걸린 시간:  0.13 s\n",
      "걸린 시간:  0.13 s\n",
      "걸린 시간:  0.13 s\n",
      "걸린 시간:  0.13 s\n",
      "걸린 시간:  0.13 s\n",
      "걸린 시간:  0.13 s\n",
      "걸린 시간:  0.13 s\n",
      "걸린 시간:  0.13 s\n",
      "걸린 시간:  0.13 s\n",
      "걸린 시간:  0.13 s\n",
      "걸린 시간:  0.13 s\n",
      "걸린 시간:  0.13 s\n",
      "걸린 시간:  0.13 s\n",
      "걸린 시간:  0.13 s\n",
      "걸린 시간:  0.13 s\n",
      "걸린 시간:  0.13 s\n",
      "걸린 시간:  0.13 s\n",
      "걸린 시간:  0.13 s\n",
      "걸린 시간:  0.13 s\n",
      "걸린 시간:  0.13 s\n",
      "걸린 시간:  0.13 s\n",
      "걸린 시간:  0.13 s\n",
      "걸린 시간:  0.13 s\n",
      "걸린 시간:  0.13 s\n",
      "걸린 시간:  0.13 s\n",
      "걸린 시간:  0.13 s\n",
      "걸린 시간:  0.13 s\n",
      "걸린 시간:  0.13 s\n",
      "걸린 시간:  0.13 s\n",
      "걸린 시간:  0.13 s\n",
      "걸린 시간:  0.13 s\n",
      "걸린 시간:  0.13 s\n",
      "걸린 시간:  0.13 s\n",
      "걸린 시간:  0.13 s\n",
      "걸린 시간:  0.13 s\n",
      "걸린 시간:  0.13 s\n",
      "걸린 시간:  0.13 s\n",
      "걸린 시간:  0.13 s\n",
      "걸린 시간:  0.13 s\n",
      "걸린 시간:  0.14 s\n",
      "걸린 시간:  0.14 s\n",
      "걸린 시간:  0.14 s\n",
      "걸린 시간:  0.14 s\n",
      "걸린 시간:  0.14 s\n",
      "걸린 시간:  0.14 s\n",
      "걸린 시간:  0.14 s\n",
      "걸린 시간:  0.14 s\n",
      "걸린 시간:  0.14 s\n",
      "걸린 시간:  0.14 s\n",
      "걸린 시간:  0.14 s\n",
      "걸린 시간:  0.14 s\n",
      "걸린 시간:  0.14 s\n",
      "걸린 시간:  0.14 s\n",
      "걸린 시간:  0.14 s\n",
      "걸린 시간:  0.14 s\n",
      "걸린 시간:  0.14 s\n",
      "걸린 시간:  0.14 s\n",
      "걸린 시간:  0.14 s\n",
      "걸린 시간:  0.14 s\n",
      "걸린 시간:  0.14 s\n",
      "걸린 시간:  0.14 s\n",
      "걸린 시간:  0.14 s\n",
      "걸린 시간:  0.14 s\n",
      "걸린 시간:  0.14 s\n",
      "걸린 시간:  0.14 s\n",
      "걸린 시간:  0.14 s\n",
      "걸린 시간:  0.14 s\n",
      "걸린 시간:  0.14 s\n",
      "걸린 시간:  0.14 s\n",
      "걸린 시간:  0.14 s\n",
      "걸린 시간:  0.14 s\n",
      "걸린 시간:  0.14 s\n",
      "걸린 시간:  0.14 s\n",
      "걸린 시간:  0.14 s\n",
      "걸린 시간:  0.14 s\n",
      "걸린 시간:  0.14 s\n",
      "걸린 시간:  0.14 s\n",
      "걸린 시간:  0.14 s\n",
      "걸린 시간:  0.14 s\n",
      "걸린 시간:  0.14 s\n",
      "걸린 시간:  0.14 s\n",
      "걸린 시간:  0.14 s\n",
      "걸린 시간:  0.14 s\n",
      "걸린 시간:  0.14 s\n",
      "걸린 시간:  0.14 s\n",
      "걸린 시간:  0.14 s\n",
      "걸린 시간:  0.14 s\n",
      "걸린 시간:  0.14 s\n",
      "걸린 시간:  0.14 s\n",
      "걸린 시간:  0.14 s\n",
      "걸린 시간:  0.14 s\n",
      "걸린 시간:  0.14 s\n",
      "걸린 시간:  0.14 s\n",
      "걸린 시간:  0.15 s\n",
      "걸린 시간:  0.15 s\n",
      "걸린 시간:  0.15 s\n",
      "걸린 시간:  0.15 s\n",
      "걸린 시간:  0.15 s\n",
      "걸린 시간:  0.15 s\n",
      "걸린 시간:  0.15 s\n",
      "걸린 시간:  0.15 s\n",
      "걸린 시간:  0.15 s\n",
      "걸린 시간:  0.15 s\n",
      "걸린 시간:  0.15 s\n",
      "걸린 시간:  0.15 s\n",
      "걸린 시간:  0.15 s\n",
      "걸린 시간:  0.15 s\n",
      "걸린 시간:  0.15 s\n",
      "걸린 시간:  0.15 s\n",
      "걸린 시간:  0.15 s\n",
      "걸린 시간:  0.15 s\n",
      "걸린 시간:  0.15 s\n",
      "걸린 시간:  0.15 s\n",
      "걸린 시간:  0.15 s\n",
      "걸린 시간:  0.15 s\n",
      "걸린 시간:  0.15 s\n",
      "걸린 시간:  0.15 s\n",
      "걸린 시간:  0.15 s\n",
      "걸린 시간:  0.15 s\n",
      "걸린 시간:  0.15 s\n",
      "걸린 시간:  0.15 s\n",
      "걸린 시간:  0.15 s\n",
      "걸린 시간:  0.15 s\n",
      "걸린 시간:  0.15 s\n",
      "걸린 시간:  0.15 s\n",
      "걸린 시간:  0.15 s\n",
      "걸린 시간:  0.15 s\n",
      "걸린 시간:  0.15 s\n",
      "걸린 시간:  0.15 s\n",
      "걸린 시간:  0.15 s\n",
      "걸린 시간:  0.15 s\n",
      "걸린 시간:  0.15 s\n",
      "걸린 시간:  0.15 s\n",
      "걸린 시간:  0.15 s\n",
      "걸린 시간:  0.15 s\n",
      "걸린 시간:  0.15 s\n",
      "걸린 시간:  0.15 s\n",
      "걸린 시간:  0.15 s\n",
      "걸린 시간:  0.15 s\n",
      "걸린 시간:  0.15 s\n",
      "걸린 시간:  0.15 s\n",
      "걸린 시간:  0.15 s\n",
      "걸린 시간:  0.15 s\n",
      "걸린 시간:  0.15 s\n",
      "걸린 시간:  0.15 s\n",
      "걸린 시간:  0.15 s\n",
      "걸린 시간:  0.15 s\n",
      "걸린 시간:  0.15 s\n",
      "걸린 시간:  0.15 s\n",
      "걸린 시간:  0.15 s\n",
      "걸린 시간:  0.15 s\n",
      "걸린 시간:  0.16 s\n",
      "걸린 시간:  0.16 s\n",
      "걸린 시간:  0.16 s\n",
      "걸린 시간:  0.16 s\n",
      "걸린 시간:  0.16 s\n",
      "걸린 시간:  0.16 s\n",
      "걸린 시간:  0.16 s\n",
      "걸린 시간:  0.16 s\n",
      "걸린 시간:  0.16 s\n",
      "걸린 시간:  0.16 s\n",
      "걸린 시간:  0.16 s\n",
      "걸린 시간:  0.16 s\n",
      "걸린 시간:  0.16 s\n",
      "걸린 시간:  0.16 s\n",
      "걸린 시간:  0.16 s\n",
      "걸린 시간:  0.16 s\n",
      "걸린 시간:  0.16 s\n",
      "걸린 시간:  0.16 s\n",
      "걸린 시간:  0.16 s\n",
      "걸린 시간:  0.16 s\n",
      "걸린 시간:  0.16 s\n",
      "걸린 시간:  0.16 s\n",
      "걸린 시간:  0.16 s\n",
      "걸린 시간:  0.16 s\n",
      "걸린 시간:  0.16 s\n",
      "걸린 시간:  0.16 s\n",
      "걸린 시간:  0.16 s\n",
      "걸린 시간:  0.16 s\n",
      "걸린 시간:  0.16 s\n",
      "걸린 시간:  0.16 s\n",
      "걸린 시간:  0.16 s\n",
      "걸린 시간:  0.16 s\n",
      "걸린 시간:  0.16 s\n",
      "걸린 시간:  0.16 s\n",
      "걸린 시간:  0.16 s\n",
      "걸린 시간:  0.17 s\n",
      "걸린 시간:  0.17 s\n",
      "걸린 시간:  0.17 s\n",
      "걸린 시간:  0.17 s\n",
      "걸린 시간:  0.17 s\n",
      "걸린 시간:  0.17 s\n",
      "걸린 시간:  0.17 s\n",
      "걸린 시간:  0.17 s\n",
      "걸린 시간:  0.17 s\n",
      "걸린 시간:  0.17 s\n",
      "걸린 시간:  0.17 s\n",
      "걸린 시간:  0.17 s\n",
      "걸린 시간:  0.17 s\n",
      "걸린 시간:  0.17 s\n",
      "걸린 시간:  0.17 s\n",
      "걸린 시간:  0.17 s\n",
      "걸린 시간:  0.17 s\n",
      "걸린 시간:  0.17 s\n",
      "걸린 시간:  0.17 s\n",
      "걸린 시간:  0.17 s\n",
      "걸린 시간:  0.17 s\n",
      "걸린 시간:  0.17 s\n",
      "걸린 시간:  0.17 s\n",
      "걸린 시간:  0.17 s\n",
      "걸린 시간:  0.17 s\n",
      "걸린 시간:  0.17 s\n",
      "걸린 시간:  0.17 s\n",
      "걸린 시간:  0.17 s\n",
      "걸린 시간:  0.17 s\n",
      "걸린 시간:  0.17 s\n",
      "걸린 시간:  0.17 s\n",
      "걸린 시간:  0.17 s\n",
      "걸린 시간:  0.17 s\n",
      "걸린 시간:  0.17 s\n",
      "걸린 시간:  0.17 s\n",
      "걸린 시간:  0.17 s\n",
      "걸린 시간:  0.17 s\n",
      "걸린 시간:  0.17 s\n",
      "걸린 시간:  0.17 s\n",
      "걸린 시간:  0.17 s\n",
      "걸린 시간:  0.17 s\n",
      "걸린 시간:  0.17 s\n",
      "걸린 시간:  0.17 s\n",
      "걸린 시간:  0.17 s\n",
      "걸린 시간:  0.17 s\n",
      "걸린 시간:  0.17 s\n",
      "걸린 시간:  0.17 s\n",
      "걸린 시간:  0.17 s\n",
      "걸린 시간:  0.18 s\n",
      "걸린 시간:  0.18 s\n",
      "걸린 시간:  0.18 s\n",
      "걸린 시간:  0.18 s\n",
      "걸린 시간:  0.18 s\n",
      "걸린 시간:  0.18 s\n",
      "걸린 시간:  0.18 s\n",
      "걸린 시간:  0.18 s\n",
      "걸린 시간:  0.18 s\n",
      "걸린 시간:  0.18 s\n",
      "걸린 시간:  0.18 s\n",
      "걸린 시간:  0.18 s\n",
      "걸린 시간:  0.18 s\n",
      "걸린 시간:  0.18 s\n",
      "걸린 시간:  0.18 s\n",
      "걸린 시간:  0.18 s\n",
      "걸린 시간:  0.18 s\n",
      "걸린 시간:  0.18 s\n",
      "걸린 시간:  0.18 s\n",
      "걸린 시간:  0.18 s\n",
      "걸린 시간:  0.18 s\n",
      "걸린 시간:  0.18 s\n",
      "걸린 시간:  0.18 s\n",
      "걸린 시간:  0.18 s\n",
      "걸린 시간:  0.18 s\n",
      "걸린 시간:  0.18 s\n",
      "걸린 시간:  0.18 s\n",
      "걸린 시간:  0.18 s\n",
      "걸린 시간:  0.18 s\n",
      "걸린 시간:  0.18 s\n",
      "걸린 시간:  0.18 s\n",
      "걸린 시간:  0.18 s\n",
      "걸린 시간:  0.18 s\n",
      "걸린 시간:  0.18 s\n",
      "걸린 시간:  0.18 s\n",
      "걸린 시간:  0.18 s\n",
      "걸린 시간:  0.18 s\n",
      "걸린 시간:  0.18 s\n",
      "걸린 시간:  0.18 s\n",
      "걸린 시간:  0.18 s\n",
      "걸린 시간:  0.18 s\n",
      "걸린 시간:  0.18 s\n",
      "걸린 시간:  0.18 s\n",
      "걸린 시간:  0.18 s\n",
      "걸린 시간:  0.18 s\n",
      "걸린 시간:  0.18 s\n",
      "걸린 시간:  0.18 s\n",
      "걸린 시간:  0.18 s\n",
      "걸린 시간:  0.18 s\n",
      "걸린 시간:  0.18 s\n",
      "걸린 시간:  0.18 s\n",
      "걸린 시간:  0.19 s\n",
      "걸린 시간:  0.19 s\n",
      "걸린 시간:  0.19 s\n",
      "걸린 시간:  0.19 s\n",
      "걸린 시간:  0.19 s\n",
      "걸린 시간:  0.19 s\n",
      "걸린 시간:  0.19 s\n",
      "걸린 시간:  0.19 s\n",
      "걸린 시간:  0.19 s\n",
      "걸린 시간:  0.19 s\n",
      "걸린 시간:  0.19 s\n",
      "걸린 시간:  0.19 s\n",
      "걸린 시간:  0.19 s\n",
      "걸린 시간:  0.19 s\n",
      "걸린 시간:  0.19 s\n",
      "걸린 시간:  0.19 s\n",
      "걸린 시간:  0.19 s\n",
      "걸린 시간:  0.19 s\n",
      "걸린 시간:  0.19 s\n",
      "걸린 시간:  0.19 s\n",
      "걸린 시간:  0.19 s\n",
      "걸린 시간:  0.19 s\n",
      "걸린 시간:  0.19 s\n",
      "걸린 시간:  0.19 s\n",
      "걸린 시간:  0.19 s\n",
      "걸린 시간:  0.19 s\n",
      "걸린 시간:  0.19 s\n",
      "걸린 시간:  0.19 s\n",
      "걸린 시간:  0.19 s\n",
      "걸린 시간:  0.19 s\n",
      "걸린 시간:  0.19 s\n",
      "걸린 시간:  0.19 s\n",
      "걸린 시간:  0.19 s\n",
      "걸린 시간:  0.19 s\n",
      "걸린 시간:  0.19 s\n",
      "걸린 시간:  0.19 s\n",
      "걸린 시간:  0.19 s\n",
      "걸린 시간:  0.19 s\n",
      "걸린 시간:  0.19 s\n",
      "걸린 시간:  0.19 s\n",
      "걸린 시간:  0.19 s\n",
      "걸린 시간:  0.19 s\n",
      "걸린 시간:  0.19 s\n",
      "걸린 시간:  0.19 s\n",
      "걸린 시간:  0.19 s\n",
      "걸린 시간:  0.19 s\n",
      "걸린 시간:  0.19 s\n",
      "걸린 시간:  0.19 s\n",
      "걸린 시간:  0.20 s\n",
      "걸린 시간:  0.20 s\n",
      "걸린 시간:  0.20 s\n",
      "걸린 시간:  0.20 s\n",
      "걸린 시간:  0.20 s\n",
      "걸린 시간:  0.20 s\n",
      "걸린 시간:  0.20 s\n",
      "걸린 시간:  0.20 s\n",
      "걸린 시간:  0.20 s\n",
      "걸린 시간:  0.20 s\n",
      "걸린 시간:  0.20 s\n",
      "걸린 시간:  0.20 s\n",
      "걸린 시간:  0.20 s\n",
      "걸린 시간:  0.20 s\n",
      "걸린 시간:  0.20 s\n",
      "걸린 시간:  0.20 s\n",
      "걸린 시간:  0.20 s\n",
      "걸린 시간:  0.20 s\n",
      "걸린 시간:  0.20 s\n",
      "걸린 시간:  0.20 s\n",
      "걸린 시간:  0.20 s\n",
      "걸린 시간:  0.20 s\n",
      "걸린 시간:  0.20 s\n",
      "걸린 시간:  0.20 s\n",
      "걸린 시간:  0.20 s\n",
      "걸린 시간:  0.20 s\n",
      "걸린 시간:  0.20 s\n"
     ]
    },
    {
     "name": "stdout",
     "output_type": "stream",
     "text": [
      "걸린 시간:  0.20 s\n",
      "걸린 시간:  0.21 s\n",
      "걸린 시간:  0.21 s\n",
      "걸린 시간:  0.21 s\n",
      "걸린 시간:  0.21 s\n",
      "걸린 시간:  0.21 s\n",
      "걸린 시간:  0.21 s\n",
      "걸린 시간:  0.21 s\n",
      "걸린 시간:  0.21 s\n",
      "걸린 시간:  0.21 s\n",
      "걸린 시간:  0.21 s\n",
      "걸린 시간:  0.21 s\n",
      "걸린 시간:  0.21 s\n",
      "걸린 시간:  0.21 s\n",
      "걸린 시간:  0.21 s\n",
      "걸린 시간:  0.21 s\n",
      "걸린 시간:  0.21 s\n",
      "걸린 시간:  0.21 s\n",
      "걸린 시간:  0.21 s\n",
      "걸린 시간:  0.21 s\n",
      "걸린 시간:  0.21 s\n",
      "걸린 시간:  0.21 s\n",
      "걸린 시간:  0.21 s\n",
      "걸린 시간:  0.21 s\n",
      "걸린 시간:  0.21 s\n",
      "걸린 시간:  0.21 s\n",
      "걸린 시간:  0.21 s\n",
      "걸린 시간:  0.21 s\n",
      "걸린 시간:  0.21 s\n",
      "걸린 시간:  0.21 s\n",
      "걸린 시간:  0.21 s\n",
      "걸린 시간:  0.21 s\n",
      "걸린 시간:  0.21 s\n",
      "걸린 시간:  0.21 s\n",
      "걸린 시간:  0.21 s\n",
      "걸린 시간:  0.21 s\n",
      "걸린 시간:  0.21 s\n",
      "걸린 시간:  0.21 s\n",
      "걸린 시간:  0.21 s\n",
      "걸린 시간:  0.21 s\n",
      "걸린 시간:  0.21 s\n",
      "걸린 시간:  0.22 s\n",
      "걸린 시간:  0.22 s\n",
      "걸린 시간:  0.22 s\n",
      "걸린 시간:  0.22 s\n",
      "걸린 시간:  0.22 s\n",
      "걸린 시간:  0.22 s\n",
      "걸린 시간:  0.22 s\n",
      "걸린 시간:  0.22 s\n",
      "걸린 시간:  0.22 s\n",
      "걸린 시간:  0.22 s\n",
      "걸린 시간:  0.22 s\n",
      "걸린 시간:  0.22 s\n",
      "걸린 시간:  0.22 s\n",
      "걸린 시간:  0.22 s\n",
      "걸린 시간:  0.22 s\n",
      "걸린 시간:  0.22 s\n",
      "걸린 시간:  0.22 s\n",
      "걸린 시간:  0.22 s\n",
      "걸린 시간:  0.22 s\n",
      "걸린 시간:  0.22 s\n",
      "걸린 시간:  0.22 s\n",
      "걸린 시간:  0.22 s\n"
     ]
    }
   ],
   "source": [
    "import time\n",
    "\n",
    "x = np.random.random((20, 100))\n",
    "y = np.random.random((20, 100))\n",
    "\n",
    "t0 = time.time()\n",
    "for _ in range(1000):\n",
    "    z = x+y\n",
    "    z = np.maximum(z, 0.)\n",
    "print(\"걸린 시간: {0: .2f} s\".format(time.time() - t0))"
   ]
  },
  {
   "cell_type": "code",
   "execution_count": 40,
   "id": "800390c0",
   "metadata": {},
   "outputs": [
    {
     "name": "stdout",
     "output_type": "stream",
     "text": [
      "걸린 시간:  2.14 s\n"
     ]
    }
   ],
   "source": [
    "t0 = time.time()\n",
    "for _ in range(1000):\n",
    "    z = naive_add(x,y)\n",
    "    z = naive_relu(z)\n",
    "print(\"걸린 시간: {0: .2f} s\".format(time.time() - t0))"
   ]
  },
  {
   "cell_type": "code",
   "execution_count": 41,
   "id": "fc625567",
   "metadata": {},
   "outputs": [],
   "source": [
    "# 브로드캐스팅\n",
    "import numpy as np\n",
    "X = np.random.random((32, 10))\n",
    "y = np.random.random((10,))"
   ]
  },
  {
   "cell_type": "code",
   "execution_count": 42,
   "id": "b7ec46c1",
   "metadata": {},
   "outputs": [],
   "source": [
    "y = np.expand_dims(y, axis=0)"
   ]
  },
  {
   "cell_type": "code",
   "execution_count": 43,
   "id": "e356707e",
   "metadata": {},
   "outputs": [],
   "source": [
    "Y = np.concatenate([y] * 32, axis=0)"
   ]
  },
  {
   "cell_type": "code",
   "execution_count": 44,
   "id": "b4014861",
   "metadata": {},
   "outputs": [],
   "source": [
    "def naive_add_matrix_and_vector(x,y):\n",
    "    assert len(x.shape) == 2\n",
    "    assert len(y.shape) == 1\n",
    "    assert x.shape[1] == y.shape[0]\n",
    "    x = x.copy()\n",
    "    for i in range(x.shape[0]):\n",
    "        for j in range(x.shape[1]):\n",
    "            x[i,j] += y[j]\n",
    "    return x"
   ]
  },
  {
   "cell_type": "code",
   "execution_count": 45,
   "id": "dd9c8281",
   "metadata": {},
   "outputs": [],
   "source": [
    "import numpy as np\n",
    "x = np.random.random((64, 3, 32, 10))\n",
    "y = np.random.random((32, 10))\n",
    "z = np.maximum(x,y)"
   ]
  },
  {
   "cell_type": "code",
   "execution_count": 46,
   "id": "3034f94b",
   "metadata": {},
   "outputs": [],
   "source": [
    "# 텐서 곱셈\n",
    "x = np.random.random((32,))\n",
    "y = np.random.random((32,))\n",
    "z = np.dot(x,y)"
   ]
  },
  {
   "cell_type": "code",
   "execution_count": 47,
   "id": "1bbb3056",
   "metadata": {},
   "outputs": [],
   "source": [
    "def naive_vector_dot(x,y):\n",
    "    assert len(x.shape) == 1\n",
    "    assert len(y.shape) == 1\n",
    "    assert x.shape[0] == y.shape[0]\n",
    "    z=0\n",
    "    for i in range(x.shape[0]):\n",
    "        z += x[i] * y[i]\n",
    "    return z"
   ]
  },
  {
   "cell_type": "code",
   "execution_count": 49,
   "id": "95def560",
   "metadata": {},
   "outputs": [],
   "source": [
    "def naive_matrix_vector_dot(x,y):\n",
    "    assert len(x.shape)==2\n",
    "    assert len(y.shape)==1\n",
    "    assert x.shape[1] == y.shape[0]\n",
    "    z = np.zeros(x.shape[0])\n",
    "    for i in range(x.shape[0]):\n",
    "        for j in range(x.shape[1]):\n",
    "            z[i] += x[i,j] * y[j]\n",
    "    return z"
   ]
  },
  {
   "cell_type": "code",
   "execution_count": 50,
   "id": "418a886e",
   "metadata": {},
   "outputs": [],
   "source": [
    "def naive_matirx_vector_dot(x,y):\n",
    "    z = np.zeros(x.shape[0])\n",
    "    for i in range(x.shape[0]):\n",
    "        z[i] = naive_vector_dot(x[i,:], y)\n",
    "    return z"
   ]
  },
  {
   "cell_type": "code",
   "execution_count": 51,
   "id": "88ced64e",
   "metadata": {},
   "outputs": [],
   "source": [
    "def naive_matrix_dot(x,y):\n",
    "    assert len(x.shape) == 2\n",
    "    assert len(y.shape) == 2\n",
    "    assert x.shape[1] == y.shape[0]\n",
    "    z = np.zeros((x.shape[0], y.shape[1]))\n",
    "    for i in range(x.shape[0]):\n",
    "        for j in range(y.shape[1]):\n",
    "            row_x = x[i, :]\n",
    "            column_y = y[:, j]\n",
    "            z[i, j] = naive_vector_dot(row_x, column_y)\n",
    "    return z"
   ]
  },
  {
   "cell_type": "code",
   "execution_count": 52,
   "id": "1a889d1b",
   "metadata": {},
   "outputs": [],
   "source": [
    "# 텐서 크기 변환\n",
    "train_images = train_images.reshape((60000, 28 * 28))"
   ]
  },
  {
   "cell_type": "code",
   "execution_count": 53,
   "id": "b4e39940",
   "metadata": {},
   "outputs": [
    {
     "data": {
      "text/plain": [
       "(3, 2)"
      ]
     },
     "execution_count": 53,
     "metadata": {},
     "output_type": "execute_result"
    }
   ],
   "source": [
    "x = np.array([[0., 1.],\n",
    "             [2., 3.],\n",
    "             [4., 5.]])\n",
    "x.shape"
   ]
  },
  {
   "cell_type": "code",
   "execution_count": 54,
   "id": "01c7402e",
   "metadata": {},
   "outputs": [
    {
     "data": {
      "text/plain": [
       "array([[0.],\n",
       "       [1.],\n",
       "       [2.],\n",
       "       [3.],\n",
       "       [4.],\n",
       "       [5.]])"
      ]
     },
     "execution_count": 54,
     "metadata": {},
     "output_type": "execute_result"
    }
   ],
   "source": [
    "x = x.reshape((6,1))\n",
    "x"
   ]
  },
  {
   "cell_type": "code",
   "execution_count": 55,
   "id": "cf08f3da",
   "metadata": {},
   "outputs": [
    {
     "data": {
      "text/plain": [
       "array([[0., 1., 2.],\n",
       "       [3., 4., 5.]])"
      ]
     },
     "execution_count": 55,
     "metadata": {},
     "output_type": "execute_result"
    }
   ],
   "source": [
    "x = x.reshape((2,3))\n",
    "x"
   ]
  },
  {
   "cell_type": "code",
   "execution_count": 56,
   "id": "14eb3767",
   "metadata": {},
   "outputs": [
    {
     "data": {
      "text/plain": [
       "(20, 300)"
      ]
     },
     "execution_count": 56,
     "metadata": {},
     "output_type": "execute_result"
    }
   ],
   "source": [
    "x = np.zeros((300,20))\n",
    "x = np.transpose(x)\n",
    "x.shape"
   ]
  },
  {
   "cell_type": "code",
   "execution_count": 57,
   "id": "728d363b",
   "metadata": {},
   "outputs": [],
   "source": [
    "# 텐서플로의 그레디언트 테이프\n",
    "import tensorflow as tf\n",
    "x = tf.Variable(0.)\n",
    "with tf.GradientTape() as tape:\n",
    "    y = 2 * x + 3\n",
    "grad_of_y_wrt_x = tape.gradient(y,x)"
   ]
  },
  {
   "cell_type": "code",
   "execution_count": 58,
   "id": "2bec9d01",
   "metadata": {},
   "outputs": [],
   "source": [
    "x = tf.Variable(tf.zeros((2,2)))\n",
    "with tf.GradientTape() as tape:\n",
    "    y=2*x+3\n",
    "grad_of_y_wrt_x = tape.gradient(y,x)"
   ]
  },
  {
   "cell_type": "code",
   "execution_count": 60,
   "id": "976531bc",
   "metadata": {},
   "outputs": [],
   "source": [
    "W = tf.Variable(tf.random.uniform((2,2)))\n",
    "b = tf.Variable(tf.zeros((2,)))\n",
    "x = tf.random.uniform((2,2))\n",
    "with tf.GradientTape() as tape:\n",
    "    y = tf.matmul(x, W) + b\n",
    "grad_of_y_wrt_W_and_b = tape.gradient(y, [W,b])"
   ]
  },
  {
   "cell_type": "code",
   "execution_count": 61,
   "id": "bfd1f6c6",
   "metadata": {},
   "outputs": [],
   "source": [
    "(train_images, train_labels), (test_images, test_labels) = mnist.load_data()\n",
    "train_images = train_images.reshape((60000, 28 * 28))\n",
    "train_images = train_images.astype(\"float32\") / 255\n",
    "test_images = test_images.reshape((10000, 28 * 28))\n",
    "test_images = test_images.astype(\"float32\") / 255"
   ]
  },
  {
   "cell_type": "code",
   "execution_count": 62,
   "id": "e8d51ef0",
   "metadata": {},
   "outputs": [],
   "source": [
    "model = keras.Sequential([\n",
    "    layers.Dense(512, activation=\"relu\"),\n",
    "    layers.Dense(10, activation=\"softmax\")\n",
    "])"
   ]
  },
  {
   "cell_type": "code",
   "execution_count": 63,
   "id": "f816c403",
   "metadata": {},
   "outputs": [],
   "source": [
    "model.compile(optimizer=\"rmsprop\",\n",
    "              loss=\"sparse_categorical_crossentropy\",\n",
    "              metrics=[\"accuracy\"])"
   ]
  },
  {
   "cell_type": "code",
   "execution_count": 64,
   "id": "6d1f85a5",
   "metadata": {},
   "outputs": [
    {
     "name": "stdout",
     "output_type": "stream",
     "text": [
      "Epoch 1/5\n",
      "469/469 [==============================] - 5s 10ms/step - loss: 0.2568 - accuracy: 0.9256\n",
      "Epoch 2/5\n",
      "469/469 [==============================] - 5s 10ms/step - loss: 0.1038 - accuracy: 0.9689\n",
      "Epoch 3/5\n",
      "469/469 [==============================] - 5s 10ms/step - loss: 0.0688 - accuracy: 0.9796\n",
      "Epoch 4/5\n",
      "469/469 [==============================] - 5s 10ms/step - loss: 0.0501 - accuracy: 0.9850\n",
      "Epoch 5/5\n",
      "469/469 [==============================] - 5s 10ms/step - loss: 0.0375 - accuracy: 0.9887\n"
     ]
    },
    {
     "data": {
      "text/plain": [
       "<keras.callbacks.History at 0x7fc9c0a613a0>"
      ]
     },
     "execution_count": 64,
     "metadata": {},
     "output_type": "execute_result"
    }
   ],
   "source": [
    "model.fit(train_images, train_labels, epochs=5, batch_size=128)"
   ]
  },
  {
   "cell_type": "code",
   "execution_count": 65,
   "id": "218fd2b6",
   "metadata": {},
   "outputs": [],
   "source": [
    "# 단순한 Dense 클래스\n",
    "import tensorflow as tf\n",
    "\n",
    "class NaiveDense:\n",
    "    def __init__(self, input_size, output_size, activation):\n",
    "        self.activation = activation\n",
    "\n",
    "        w_shape = (input_size, output_size)\n",
    "        w_initial_value = tf.random.uniform(w_shape, minval=0, maxval=1e-1)\n",
    "        self.W = tf.Variable(w_initial_value)\n",
    "\n",
    "        b_shape = (output_size,)\n",
    "        b_initial_value = tf.zeros(b_shape)\n",
    "        self.b = tf.Variable(b_initial_value)\n",
    "\n",
    "    def __call__(self, inputs):\n",
    "        return self.activation(tf.matmul(inputs, self.W) + self.b)\n",
    "\n",
    "    @property\n",
    "    def weights(self):\n",
    "        return [self.W, self.b]"
   ]
  },
  {
   "cell_type": "code",
   "execution_count": 66,
   "id": "a46c876e",
   "metadata": {},
   "outputs": [],
   "source": [
    "# 단순한 Sequential 클래스\n",
    "class NaiveSequential:\n",
    "    def __init__(self, layers):\n",
    "        self.layers = layers\n",
    "\n",
    "    def __call__(self, inputs):\n",
    "        x = inputs\n",
    "        for layer in self.layers:\n",
    "           x = layer(x)\n",
    "        return x\n",
    "\n",
    "    @property\n",
    "    def weights(self):\n",
    "       weights = []\n",
    "       for layer in self.layers:\n",
    "           weights += layer.weights\n",
    "       return weights"
   ]
  },
  {
   "cell_type": "code",
   "execution_count": 67,
   "id": "f196c1e2",
   "metadata": {},
   "outputs": [],
   "source": [
    "model = NaiveSequential([\n",
    "    NaiveDense(input_size=28 * 28, output_size=512, activation=tf.nn.relu),\n",
    "    NaiveDense(input_size=512, output_size=10, activation=tf.nn.softmax)\n",
    "])\n",
    "assert len(model.weights) == 4"
   ]
  },
  {
   "cell_type": "code",
   "execution_count": 68,
   "id": "ed0b1ec6",
   "metadata": {},
   "outputs": [],
   "source": [
    "# 배치 제너레이터\n",
    "import math\n",
    "\n",
    "class BatchGenerator:\n",
    "    def __init__(self, images, labels, batch_size=128):\n",
    "        assert len(images) == len(labels)\n",
    "        self.index = 0\n",
    "        self.images = images\n",
    "        self.labels = labels\n",
    "        self.batch_size = batch_size\n",
    "        self.num_batches = math.ceil(len(images) / batch_size)\n",
    "\n",
    "    def next(self):\n",
    "        images = self.images[self.index : self.index + self.batch_size]\n",
    "        labels = self.labels[self.index : self.index + self.batch_size]\n",
    "        self.index += self.batch_size\n",
    "        return images, labels"
   ]
  },
  {
   "cell_type": "code",
   "execution_count": 69,
   "id": "83e800f2",
   "metadata": {},
   "outputs": [],
   "source": [
    "# 훈련 스텝 실행하기\n",
    "def one_training_step(model, images_batch, labels_batch):\n",
    "    with tf.GradientTape() as tape:\n",
    "        predictions = model(images_batch)\n",
    "        per_sample_losses = tf.keras.losses.sparse_categorical_crossentropy(\n",
    "            labels_batch, predictions)\n",
    "        average_loss = tf.reduce_mean(per_sample_losses)\n",
    "    gradients = tape.gradient(average_loss, model.weights)\n",
    "    update_weights(gradients, model.weights)\n",
    "    return average_loss"
   ]
  },
  {
   "cell_type": "code",
   "execution_count": 70,
   "id": "c5a7a8b5",
   "metadata": {},
   "outputs": [],
   "source": [
    "learning_rate = 1e-3\n",
    "\n",
    "def update_weights(gradients, weights):\n",
    "    for g, w in zip(gradients, weights):\n",
    "        w.assign_sub(g * learning_rate)"
   ]
  },
  {
   "cell_type": "code",
   "execution_count": 71,
   "id": "cfc73fdf",
   "metadata": {},
   "outputs": [],
   "source": [
    "from tensorflow.keras import optimizers\n",
    "\n",
    "optimizer = optimizers.SGD(learning_rate=1e-3)\n",
    "\n",
    "def update_weights(gradients, weights):\n",
    "    optimizer.apply_gradients(zip(gradients, weights))"
   ]
  },
  {
   "cell_type": "code",
   "execution_count": 72,
   "id": "5e19c431",
   "metadata": {},
   "outputs": [],
   "source": [
    "# 전체 훈련 루프\n",
    "def fit(model, images, labels, epochs, batch_size=128):\n",
    "    for epoch_counter in range(epochs):\n",
    "        print(f\"에포크 {epoch_counter}\")\n",
    "        batch_generator = BatchGenerator(images, labels)\n",
    "        for batch_counter in range(batch_generator.num_batches):\n",
    "            images_batch, labels_batch = batch_generator.next()\n",
    "            loss = one_training_step(model, images_batch, labels_batch)\n",
    "            if batch_counter % 100 == 0:\n",
    "                print(f\"{batch_counter}번째 배치 손실: {loss:.2f}\")"
   ]
  },
  {
   "cell_type": "code",
   "execution_count": 73,
   "id": "5b459dc4",
   "metadata": {},
   "outputs": [
    {
     "name": "stdout",
     "output_type": "stream",
     "text": [
      "에포크 0\n",
      "0번째 배치 손실: 3.63\n",
      "100번째 배치 손실: 2.28\n",
      "200번째 배치 손실: 2.25\n",
      "300번째 배치 손실: 2.11\n",
      "400번째 배치 손실: 2.23\n",
      "에포크 1\n",
      "0번째 배치 손실: 1.92\n",
      "100번째 배치 손실: 1.90\n",
      "200번째 배치 손실: 1.87\n",
      "300번째 배치 손실: 1.73\n",
      "400번째 배치 손실: 1.84\n",
      "에포크 2\n",
      "0번째 배치 손실: 1.58\n",
      "100번째 배치 손실: 1.59\n",
      "200번째 배치 손실: 1.53\n",
      "300번째 배치 손실: 1.43\n",
      "400번째 배치 손실: 1.51\n",
      "에포크 3\n",
      "0번째 배치 손실: 1.32\n",
      "100번째 배치 손실: 1.35\n",
      "200번째 배치 손실: 1.25\n",
      "300번째 배치 손실: 1.21\n",
      "400번째 배치 손실: 1.27\n",
      "에포크 4\n",
      "0번째 배치 손실: 1.12\n",
      "100번째 배치 손실: 1.16\n",
      "200번째 배치 손실: 1.04\n",
      "300번째 배치 손실: 1.04\n",
      "400번째 배치 손실: 1.11\n",
      "에포크 5\n",
      "0번째 배치 손실: 0.97\n",
      "100번째 배치 손실: 1.02\n",
      "200번째 배치 손실: 0.90\n",
      "300번째 배치 손실: 0.92\n",
      "400번째 배치 손실: 0.99\n",
      "에포크 6\n",
      "0번째 배치 손실: 0.86\n",
      "100번째 배치 손실: 0.91\n",
      "200번째 배치 손실: 0.80\n",
      "300번째 배치 손실: 0.83\n",
      "400번째 배치 손실: 0.90\n",
      "에포크 7\n",
      "0번째 배치 손실: 0.78\n",
      "100번째 배치 손실: 0.83\n",
      "200번째 배치 손실: 0.72\n",
      "300번째 배치 손실: 0.76\n",
      "400번째 배치 손실: 0.83\n",
      "에포크 8\n",
      "0번째 배치 손실: 0.72\n",
      "100번째 배치 손실: 0.76\n",
      "200번째 배치 손실: 0.65\n",
      "300번째 배치 손실: 0.70\n",
      "400번째 배치 손실: 0.78\n",
      "에포크 9\n",
      "0번째 배치 손실: 0.67\n",
      "100번째 배치 손실: 0.70\n",
      "200번째 배치 손실: 0.60\n",
      "300번째 배치 손실: 0.66\n",
      "400번째 배치 손실: 0.74\n"
     ]
    }
   ],
   "source": [
    "from tensorflow.keras.datasets import mnist\n",
    "(train_images, train_labels), (test_images, test_labels) = mnist.load_data()\n",
    "\n",
    "train_images = train_images.reshape((60000, 28 * 28))\n",
    "train_images = train_images.astype(\"float32\") / 255\n",
    "test_images = test_images.reshape((10000, 28 * 28))\n",
    "test_images = test_images.astype(\"float32\") / 255\n",
    "\n",
    "fit(model, train_images, train_labels, epochs=10, batch_size=128)"
   ]
  },
  {
   "cell_type": "code",
   "execution_count": 74,
   "id": "8db4e1ae",
   "metadata": {},
   "outputs": [
    {
     "name": "stdout",
     "output_type": "stream",
     "text": [
      "정확도: 0.81\n"
     ]
    }
   ],
   "source": [
    "# 모델 평가하기\n",
    "predictions = model(test_images)\n",
    "predictions = predictions.numpy()\n",
    "predicted_labels = np.argmax(predictions, axis=1)\n",
    "matches = predicted_labels == test_labels\n",
    "print(f\"정확도: {matches.mean():.2f}\")"
   ]
  }
 ],
 "metadata": {
  "kernelspec": {
   "display_name": "Python 3 (ipykernel)",
   "language": "python",
   "name": "python3"
  },
  "language_info": {
   "codemirror_mode": {
    "name": "ipython",
    "version": 3
   },
   "file_extension": ".py",
   "mimetype": "text/x-python",
   "name": "python",
   "nbconvert_exporter": "python",
   "pygments_lexer": "ipython3",
   "version": "3.9.7"
  }
 },
 "nbformat": 4,
 "nbformat_minor": 5
}
