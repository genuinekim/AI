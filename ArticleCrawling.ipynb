{
 "cells": [
  {
   "cell_type": "code",
   "execution_count": 1,
   "id": "eb57e47e",
   "metadata": {},
   "outputs": [],
   "source": [
    "from newspaper import Article\n",
    "\n",
    "# 파싱할 뉴스 기사 주소\n",
    "url = 'https://n.news.naver.com/mnews/article/029/0002766294?sid=104'\n",
    "\n",
    "# 언어가 한국어이므로 language='ko'로 설정\n",
    "article = Article(url, language='ko')\n",
    "article.download()\n",
    "article.parse()"
   ]
  },
  {
   "cell_type": "code",
   "execution_count": 2,
   "id": "2b0fd76b",
   "metadata": {},
   "outputs": [
    {
     "name": "stdout",
     "output_type": "stream",
     "text": [
      "기사 제목 :\n",
      "트위터서 밤새며 일하는 머스크 \"테슬라 일도 한다\"\n",
      "\n",
      "기사 내용 :\n",
      "소셜미디어 트위터를 인수한 테슬라 최고경영자(CEO) 일론 머스크가 트위터 업무에 집중해 테슬라 경영을 소홀히 한다는 지적을 의식한 듯 \"트위터 일과 함께 테슬라 업무도 봤다\"는 트윗을 올렸다. 그러면서 \"이번주 중 테슬라 업무도 챙겨보겠다\"고 밝혔다.14일(현지시간) 블룸버그통신에 따르면 머스크는 자신을 고문하듯 일주일 내내 트위터 업무를 하고 있다고 말했다. 인도네시아 발리에서 주요 20개국 정상회의(G20)와 함께 진행된 기업인 회의인 비즈니스20 서밋(B20)에 화상으로 참석해서 한 말이다.머스크는 \"내가 처리해야 할 일이 너무 많다. 할 수 있는 한 최대한 일을 하고 있다\"면서 \"아침부터 저녁까지 일주일에 7일을 일한다. 솔직히 말해 나 자신을 고문하는 정도는 극단적인 수준\"이라고 밝혔다.그는 B20 회의 이후에는 트위터에 글을 올려 트위터 본사에서 밤을 샜고 조직이 고쳐질 때까지 회사에서 일하고 잠잘 것이라고 밝혔다. 한편 머스크가 트위터를 인수한 후 회사 내부에서는 '직원들을 24시간 일하는 로봇으로 취급한다'는 등의 비판이 쏟아지고 있다.\n"
     ]
    }
   ],
   "source": [
    "print('기사 제목 :')\n",
    "print(article.title)\n",
    "print('')\n",
    "\n",
    "print('기사 내용 :')\n",
    "print(article.text)"
   ]
  },
  {
   "cell_type": "code",
   "execution_count": 3,
   "id": "1dbff49c",
   "metadata": {},
   "outputs": [],
   "source": [
    "# 크롤러를 만들기 전 필요한 도구들을 임포트\n",
    "import requests\n",
    "import pandas as pd\n",
    "from bs4 import BeautifulSoup\n",
    "\n",
    "# 매개변수는 페이지 수, 카테고리, 날짜\n",
    "def make_urllist(page_num, code1, code2, date): \n",
    "  urllist= []\n",
    "  for i in range(1, page_num + 1):\n",
    "    url = 'https://news.naver.com/main/list.naver?mode=LS2D&mid=shm'+'&sid2='+str(code2)+'&sid1='+str(code1)+'&date='+str(date)+'&page='+str(i)\n",
    "    headers = {'User-Agent': 'Mozilla/5.0 (X11; Linux x86_64) AppleWebKit/537.36 (KHTML, like Gecko) Chrome/54.0.2840.90 Safari/537.36'}\n",
    "    news = requests.get(url, headers=headers)\n",
    "\n",
    "    # BeautifulSoup의 인스턴스 생성 / 파서는 html.parser를 사용\n",
    "    soup = BeautifulSoup(news.content, 'html.parser')\n",
    "\n",
    "    news_list = soup.select('.newsflash_body .type06_headline li dl')\n",
    " \n",
    "    news_list.extend(soup.select('.newsflash_body .type06 li dl'))\n",
    "        \n",
    "    # 각 뉴스로부터 a 태그인 <a href ='주소'> 에서 '주소'만을 가져옴.\n",
    "    for line in news_list:\n",
    "        urllist.append(line.a.get('href'))\n",
    "  return urllist"
   ]
  },
  {
   "cell_type": "code",
   "execution_count": 4,
   "id": "69e029da",
   "metadata": {},
   "outputs": [
    {
     "name": "stdout",
     "output_type": "stream",
     "text": [
      "뉴스 기사의 개수:  40\n"
     ]
    },
    {
     "data": {
      "text/plain": [
       "['https://n.news.naver.com/mnews/article/138/0002136646?sid=105',\n",
       " 'https://n.news.naver.com/mnews/article/092/0002273456?sid=105',\n",
       " 'https://n.news.naver.com/mnews/article/092/0002273455?sid=105',\n",
       " 'https://n.news.naver.com/mnews/article/092/0002273446?sid=105',\n",
       " 'https://n.news.naver.com/mnews/article/092/0002273444?sid=105',\n",
       " 'https://n.news.naver.com/mnews/article/092/0002273443?sid=105',\n",
       " 'https://n.news.naver.com/mnews/article/092/0002273437?sid=105',\n",
       " 'https://n.news.naver.com/mnews/article/092/0002273436?sid=105',\n",
       " 'https://n.news.naver.com/mnews/article/092/0002273431?sid=105',\n",
       " 'https://n.news.naver.com/mnews/article/092/0002273427?sid=105',\n",
       " 'https://n.news.naver.com/mnews/article/092/0002273425?sid=105',\n",
       " 'https://n.news.naver.com/mnews/article/031/0000709823?sid=105',\n",
       " 'https://n.news.naver.com/mnews/article/138/0002136641?sid=105',\n",
       " 'https://n.news.naver.com/mnews/article/092/0002273421?sid=105',\n",
       " 'https://n.news.naver.com/mnews/article/092/0002273420?sid=105',\n",
       " 'https://n.news.naver.com/mnews/article/031/0000709810?sid=105',\n",
       " 'https://n.news.naver.com/mnews/article/092/0002273408?sid=105',\n",
       " 'https://n.news.naver.com/mnews/article/138/0002136634?sid=105',\n",
       " 'https://n.news.naver.com/mnews/article/092/0002273401?sid=105',\n",
       " 'https://n.news.naver.com/mnews/article/092/0002273399?sid=105',\n",
       " 'https://n.news.naver.com/mnews/article/092/0002273398?sid=105',\n",
       " 'https://n.news.naver.com/mnews/article/092/0002273397?sid=105',\n",
       " 'https://n.news.naver.com/mnews/article/092/0002273396?sid=105',\n",
       " 'https://n.news.naver.com/mnews/article/092/0002273382?sid=105',\n",
       " 'https://n.news.naver.com/mnews/article/138/0002136603?sid=105',\n",
       " 'https://n.news.naver.com/mnews/article/031/0000709735?sid=105',\n",
       " 'https://n.news.naver.com/mnews/article/092/0002273379?sid=105',\n",
       " 'https://n.news.naver.com/mnews/article/138/0002136598?sid=105',\n",
       " 'https://n.news.naver.com/mnews/article/092/0002273378?sid=105',\n",
       " 'https://n.news.naver.com/mnews/article/138/0002136594?sid=105',\n",
       " 'https://n.news.naver.com/mnews/article/092/0002273376?sid=105',\n",
       " 'https://n.news.naver.com/mnews/article/138/0002136591?sid=105',\n",
       " 'https://n.news.naver.com/mnews/article/138/0002136589?sid=105',\n",
       " 'https://n.news.naver.com/mnews/article/138/0002136588?sid=105',\n",
       " 'https://n.news.naver.com/mnews/article/138/0002136586?sid=105',\n",
       " 'https://n.news.naver.com/mnews/article/138/0002136584?sid=105',\n",
       " 'https://n.news.naver.com/mnews/article/138/0002136583?sid=105',\n",
       " 'https://n.news.naver.com/mnews/article/138/0002136582?sid=105',\n",
       " 'https://n.news.naver.com/mnews/article/138/0002136580?sid=105',\n",
       " 'https://n.news.naver.com/mnews/article/138/0002136579?sid=105']"
      ]
     },
     "execution_count": 4,
     "metadata": {},
     "output_type": "execute_result"
    }
   ],
   "source": [
    "url_list = make_urllist(2, 105, 283, 20221111)\n",
    "print('뉴스 기사의 개수: ',len(url_list))\n",
    "url_list"
   ]
  },
  {
   "cell_type": "code",
   "execution_count": 5,
   "id": "6e99b0bb",
   "metadata": {},
   "outputs": [
    {
     "data": {
      "text/plain": [
       "['https://n.news.naver.com/mnews/article/138/0002136646?sid=105',\n",
       " 'https://n.news.naver.com/mnews/article/092/0002273456?sid=105',\n",
       " 'https://n.news.naver.com/mnews/article/092/0002273455?sid=105',\n",
       " 'https://n.news.naver.com/mnews/article/092/0002273446?sid=105',\n",
       " 'https://n.news.naver.com/mnews/article/092/0002273444?sid=105']"
      ]
     },
     "execution_count": 5,
     "metadata": {},
     "output_type": "execute_result"
    }
   ],
   "source": [
    "url_list[:5]"
   ]
  },
  {
   "cell_type": "code",
   "execution_count": 6,
   "id": "a421d6c7",
   "metadata": {},
   "outputs": [],
   "source": [
    "idx2word = {'101' : '경제', '102' : '사회', '103' : '생활/문화', '105' : 'IT/과학'}\n",
    "idx2word2 = {'731' : '모바일', '226' : '인터넷/SNS', '227' : '통신/뉴미디어', '230' : 'IT 일반', '732' : '보안/해킹', '283' : '컴퓨터'}"
   ]
  },
  {
   "cell_type": "code",
   "execution_count": 7,
   "id": "1c025271",
   "metadata": {},
   "outputs": [],
   "source": [
    "from newspaper import Article\n",
    "\n",
    "# 데이터프레임을 생성하는 함수\n",
    "def make_data(urllist, code1, code2):\n",
    "  text_list = []\n",
    "  for url in urllist:\n",
    "    article = Article(url, language='ko')\n",
    "    article.download()\n",
    "    article.parse()\n",
    "    text_list.append(article.text)\n",
    "\n",
    "  # 데이터프레임의 'news' 키 아래 파싱한 텍스트를 밸류로 붙여줌.\n",
    "  df = pd.DataFrame({'news': text_list})\n",
    "\n",
    "  #- 데이터프레임의 'code' 키 아래 한글 카테고리명을 붙여줌.\n",
    "  df['code1'] = idx2word[str(code1)]\n",
    "  df['code2'] = idx2word2[str(code2)]\n",
    "  return df"
   ]
  },
  {
   "cell_type": "code",
   "execution_count": 8,
   "id": "03b787b0",
   "metadata": {},
   "outputs": [
    {
     "data": {
      "text/html": [
       "<div>\n",
       "<style scoped>\n",
       "    .dataframe tbody tr th:only-of-type {\n",
       "        vertical-align: middle;\n",
       "    }\n",
       "\n",
       "    .dataframe tbody tr th {\n",
       "        vertical-align: top;\n",
       "    }\n",
       "\n",
       "    .dataframe thead th {\n",
       "        text-align: right;\n",
       "    }\n",
       "</style>\n",
       "<table border=\"1\" class=\"dataframe\">\n",
       "  <thead>\n",
       "    <tr style=\"text-align: right;\">\n",
       "      <th></th>\n",
       "      <th>news</th>\n",
       "      <th>code1</th>\n",
       "      <th>code2</th>\n",
       "    </tr>\n",
       "  </thead>\n",
       "  <tbody>\n",
       "    <tr>\n",
       "      <th>0</th>\n",
       "      <td>[디지털데일리 이종현기자] 한글과컴퓨터(이하 한컴)이 사업 포트폴리오 개편의 효과를...</td>\n",
       "      <td>IT/과학</td>\n",
       "      <td>컴퓨터</td>\n",
       "    </tr>\n",
       "    <tr>\n",
       "      <th>1</th>\n",
       "      <td>업스테이지 이활석 CTO\\n\\n업스테이지 이활석 CTO는 11일 개최된 '노코드/로...</td>\n",
       "      <td>IT/과학</td>\n",
       "      <td>컴퓨터</td>\n",
       "    </tr>\n",
       "    <tr>\n",
       "      <th>2</th>\n",
       "      <td>권남혁 인터랙트 대표가 '노코드·로우코드 자동화 컨퍼런스 2022'에서 'XR 교육...</td>\n",
       "      <td>IT/과학</td>\n",
       "      <td>컴퓨터</td>\n",
       "    </tr>\n",
       "    <tr>\n",
       "      <th>3</th>\n",
       "      <td>조남승 퀸텟시스템즈 부사장\\n\\n“요즘 인력이 부족해 사업을 못하는 것이 현실이다....</td>\n",
       "      <td>IT/과학</td>\n",
       "      <td>컴퓨터</td>\n",
       "    </tr>\n",
       "    <tr>\n",
       "      <th>4</th>\n",
       "      <td>박종근 비컴유니버스 상무\\n\\n“장기화된 경기 침체와 공급망 마비, 인력난, 인건비...</td>\n",
       "      <td>IT/과학</td>\n",
       "      <td>컴퓨터</td>\n",
       "    </tr>\n",
       "    <tr>\n",
       "      <th>5</th>\n",
       "      <td>임현길 STEG 대표\\n\\n\"노코드 플랫폼으로 A부터 Z까지 모든 것을 개발하라는 ...</td>\n",
       "      <td>IT/과학</td>\n",
       "      <td>컴퓨터</td>\n",
       "    </tr>\n",
       "    <tr>\n",
       "      <th>6</th>\n",
       "      <td>안랩이 11월 11일 농업인의 날을 맞아 사내 식당에서 진행한 ‘안랩 가래떡 데이’...</td>\n",
       "      <td>IT/과학</td>\n",
       "      <td>컴퓨터</td>\n",
       "    </tr>\n",
       "    <tr>\n",
       "      <th>7</th>\n",
       "      <td>아크로니스 어드밴스드 시큐리티 EDR.\\n\\n아크로니스는 지난 7일부터 9일까지 3...</td>\n",
       "      <td>IT/과학</td>\n",
       "      <td>컴퓨터</td>\n",
       "    </tr>\n",
       "    <tr>\n",
       "      <th>8</th>\n",
       "      <td>전년 대비 월별 미국 온라인 물가 변화. 어도비 디지털 물가 지수(DPI) 및 소비...</td>\n",
       "      <td>IT/과학</td>\n",
       "      <td>컴퓨터</td>\n",
       "    </tr>\n",
       "    <tr>\n",
       "      <th>9</th>\n",
       "      <td>한글과컴퓨터 CI\\n\\n한글과컴퓨터(한컴)는 3분기 연결 기준 매출액 548억원, ...</td>\n",
       "      <td>IT/과학</td>\n",
       "      <td>컴퓨터</td>\n",
       "    </tr>\n",
       "  </tbody>\n",
       "</table>\n",
       "</div>"
      ],
      "text/plain": [
       "                                                news  code1 code2\n",
       "0  [디지털데일리 이종현기자] 한글과컴퓨터(이하 한컴)이 사업 포트폴리오 개편의 효과를...  IT/과학   컴퓨터\n",
       "1  업스테이지 이활석 CTO\\n\\n업스테이지 이활석 CTO는 11일 개최된 '노코드/로...  IT/과학   컴퓨터\n",
       "2  권남혁 인터랙트 대표가 '노코드·로우코드 자동화 컨퍼런스 2022'에서 'XR 교육...  IT/과학   컴퓨터\n",
       "3  조남승 퀸텟시스템즈 부사장\\n\\n“요즘 인력이 부족해 사업을 못하는 것이 현실이다....  IT/과학   컴퓨터\n",
       "4  박종근 비컴유니버스 상무\\n\\n“장기화된 경기 침체와 공급망 마비, 인력난, 인건비...  IT/과학   컴퓨터\n",
       "5  임현길 STEG 대표\\n\\n\"노코드 플랫폼으로 A부터 Z까지 모든 것을 개발하라는 ...  IT/과학   컴퓨터\n",
       "6  안랩이 11월 11일 농업인의 날을 맞아 사내 식당에서 진행한 ‘안랩 가래떡 데이’...  IT/과학   컴퓨터\n",
       "7  아크로니스 어드밴스드 시큐리티 EDR.\\n\\n아크로니스는 지난 7일부터 9일까지 3...  IT/과학   컴퓨터\n",
       "8  전년 대비 월별 미국 온라인 물가 변화. 어도비 디지털 물가 지수(DPI) 및 소비...  IT/과학   컴퓨터\n",
       "9  한글과컴퓨터 CI\\n\\n한글과컴퓨터(한컴)는 3분기 연결 기준 매출액 548억원, ...  IT/과학   컴퓨터"
      ]
     },
     "execution_count": 8,
     "metadata": {},
     "output_type": "execute_result"
    }
   ],
   "source": [
    "data = make_data(url_list, 105, 283)\n",
    "data[:10]"
   ]
  },
  {
   "cell_type": "code",
   "execution_count": 9,
   "id": "667c484f",
   "metadata": {},
   "outputs": [
    {
     "data": {
      "text/plain": [
       "[[102, 250], [103, 243], [105, 283]]"
      ]
     },
     "execution_count": 9,
     "metadata": {},
     "output_type": "execute_result"
    }
   ],
   "source": [
    "code_list = [[102,250], [103,243], [105,283]]\n",
    "idx2word2 = {'731' : '모바일', '226' : '인터넷/SNS', '227' : '통신/뉴미디어', '230' : 'IT 일반', '732' : '보안/해킹', '283' : '컴퓨터', '250' : '교육', '243' : '책'}"
   ]
  },
  {
   "cell_type": "code",
   "execution_count": 10,
   "id": "2ee0edba",
   "metadata": {},
   "outputs": [],
   "source": [
    "from multiprocessing import Pool\n",
    "import random\n",
    "import time, os\n",
    "\n",
    "def make_total_data(page_num, code_list, date):\n",
    "  start = int(time.time())  \n",
    "  num_cores = 4  \n",
    "  df = None\n",
    "  for code1, code2 in code_list:\n",
    "    pool = Pool(num_cores)\n",
    "    url_list = make_urllist(page_num, code1, code2, date)\n",
    "    df_temp = make_data(url_list, code1, code2)\n",
    "    print(str(code1)+'번:'+str(code2)+'번'+' 코드에 대한 데이터를 만들었습니다.')\n",
    "    pool.close()\n",
    "    pool.join()\n",
    "    time.sleep(random.randint(0,1))\n",
    "    if df is not None:\n",
    "      df = pd.concat([df, df_temp])\n",
    "    else:\n",
    "      df = df_temp\n",
    "\n",
    "  print(\"***run time(sec) :\", int(time.time()) - start)\n",
    "  return df"
   ]
  },
  {
   "cell_type": "code",
   "execution_count": 11,
   "id": "ca19ccd8",
   "metadata": {},
   "outputs": [
    {
     "name": "stdout",
     "output_type": "stream",
     "text": [
      "102번:250번 코드에 대한 데이터를 만들었습니다.\n",
      "103번:243번 코드에 대한 데이터를 만들었습니다.\n",
      "105번:283번 코드에 대한 데이터를 만들었습니다.\n",
      "***run time(sec) : 28\n"
     ]
    }
   ],
   "source": [
    "df = make_total_data(1, code_list, 20221111)"
   ]
  },
  {
   "cell_type": "code",
   "execution_count": 12,
   "id": "c0b5b612",
   "metadata": {},
   "outputs": [
    {
     "name": "stdout",
     "output_type": "stream",
     "text": [
      "뉴스 기사의 개수:  60\n"
     ]
    }
   ],
   "source": [
    "print('뉴스 기사의 개수: ',len(df))"
   ]
  },
  {
   "cell_type": "code",
   "execution_count": 13,
   "id": "b3a8b309",
   "metadata": {},
   "outputs": [
    {
     "data": {
      "text/html": [
       "<div>\n",
       "<style scoped>\n",
       "    .dataframe tbody tr th:only-of-type {\n",
       "        vertical-align: middle;\n",
       "    }\n",
       "\n",
       "    .dataframe tbody tr th {\n",
       "        vertical-align: top;\n",
       "    }\n",
       "\n",
       "    .dataframe thead th {\n",
       "        text-align: right;\n",
       "    }\n",
       "</style>\n",
       "<table border=\"1\" class=\"dataframe\">\n",
       "  <thead>\n",
       "    <tr style=\"text-align: right;\">\n",
       "      <th></th>\n",
       "      <th>news</th>\n",
       "      <th>code1</th>\n",
       "      <th>code2</th>\n",
       "    </tr>\n",
       "  </thead>\n",
       "  <tbody>\n",
       "    <tr>\n",
       "      <th>6</th>\n",
       "      <td>예일대 교수이자 수학자인 마이클 프레임이 상실 속에 살아가는 우리에게 수학이 어떤 ...</td>\n",
       "      <td>생활/문화</td>\n",
       "      <td>책</td>\n",
       "    </tr>\n",
       "    <tr>\n",
       "      <th>7</th>\n",
       "      <td>모두에게 보여주고 싶은 기사라면?beta 이 기사를 추천합니다 버튼을 눌러주세요.\\...</td>\n",
       "      <td>사회</td>\n",
       "      <td>교육</td>\n",
       "    </tr>\n",
       "    <tr>\n",
       "      <th>1</th>\n",
       "      <td>채식 급식이 제대로 운영되지 않고 있다는 시민모임 주장에 대해 제주자치도교육청이 해...</td>\n",
       "      <td>사회</td>\n",
       "      <td>교육</td>\n",
       "    </tr>\n",
       "    <tr>\n",
       "      <th>17</th>\n",
       "      <td>[구미=뉴시스] 박홍식 기자 = 구미대학교 간호학과 예비 간호사들이 11일 교내 긍...</td>\n",
       "      <td>사회</td>\n",
       "      <td>교육</td>\n",
       "    </tr>\n",
       "    <tr>\n",
       "      <th>2</th>\n",
       "      <td>내년도 교육부의 예산안이 국회 교육위원회 전체회의 상정의 문턱을 넘지 못했다.국회 ...</td>\n",
       "      <td>사회</td>\n",
       "      <td>교육</td>\n",
       "    </tr>\n",
       "    <tr>\n",
       "      <th>11</th>\n",
       "      <td>세계 최고의 레스토랑은 어떤 곳일까. 사람들은 왜 그곳을 ‘세계 최고’라고 부르는 ...</td>\n",
       "      <td>생활/문화</td>\n",
       "      <td>책</td>\n",
       "    </tr>\n",
       "    <tr>\n",
       "      <th>11</th>\n",
       "      <td>이태원 핼러윈 참사 이후 1만 명이 넘는 초·중·고 학생이 심리상담을 받은 것으로 ...</td>\n",
       "      <td>사회</td>\n",
       "      <td>교육</td>\n",
       "    </tr>\n",
       "    <tr>\n",
       "      <th>2</th>\n",
       "      <td>자본주의 사회에서 돈 없이 생존할 수 있을까. &lt;0원으로 사는 삶&gt;은 ‘무소비’에 ...</td>\n",
       "      <td>생활/문화</td>\n",
       "      <td>책</td>\n",
       "    </tr>\n",
       "    <tr>\n",
       "      <th>9</th>\n",
       "      <td>서울의 한 대학 교수 A씨는 2013년부터 약 4년간 연구용역과제를 수행하며 연구에...</td>\n",
       "      <td>사회</td>\n",
       "      <td>교육</td>\n",
       "    </tr>\n",
       "    <tr>\n",
       "      <th>19</th>\n",
       "      <td>[구미=뉴시스] 박홍식 기자 = 구미대학교 간호학과 예비 간호사들이 11일 교내 긍...</td>\n",
       "      <td>사회</td>\n",
       "      <td>교육</td>\n",
       "    </tr>\n",
       "  </tbody>\n",
       "</table>\n",
       "</div>"
      ],
      "text/plain": [
       "                                                 news  code1 code2\n",
       "6   예일대 교수이자 수학자인 마이클 프레임이 상실 속에 살아가는 우리에게 수학이 어떤 ...  생활/문화     책\n",
       "7   모두에게 보여주고 싶은 기사라면?beta 이 기사를 추천합니다 버튼을 눌러주세요.\\...     사회    교육\n",
       "1   채식 급식이 제대로 운영되지 않고 있다는 시민모임 주장에 대해 제주자치도교육청이 해...     사회    교육\n",
       "17  [구미=뉴시스] 박홍식 기자 = 구미대학교 간호학과 예비 간호사들이 11일 교내 긍...     사회    교육\n",
       "2   내년도 교육부의 예산안이 국회 교육위원회 전체회의 상정의 문턱을 넘지 못했다.국회 ...     사회    교육\n",
       "11  세계 최고의 레스토랑은 어떤 곳일까. 사람들은 왜 그곳을 ‘세계 최고’라고 부르는 ...  생활/문화     책\n",
       "11  이태원 핼러윈 참사 이후 1만 명이 넘는 초·중·고 학생이 심리상담을 받은 것으로 ...     사회    교육\n",
       "2   자본주의 사회에서 돈 없이 생존할 수 있을까. <0원으로 사는 삶>은 ‘무소비’에 ...  생활/문화     책\n",
       "9   서울의 한 대학 교수 A씨는 2013년부터 약 4년간 연구용역과제를 수행하며 연구에...     사회    교육\n",
       "19  [구미=뉴시스] 박홍식 기자 = 구미대학교 간호학과 예비 간호사들이 11일 교내 긍...     사회    교육"
      ]
     },
     "execution_count": 13,
     "metadata": {},
     "output_type": "execute_result"
    }
   ],
   "source": [
    "df.sample(10)"
   ]
  },
  {
   "cell_type": "code",
   "execution_count": 15,
   "id": "f1606f5b",
   "metadata": {},
   "outputs": [
    {
     "name": "stdout",
     "output_type": "stream",
     "text": [
      "102번:250번 코드에 대한 데이터를 만들었습니다.\n",
      "103번:243번 코드에 대한 데이터를 만들었습니다.\n",
      "105번:283번 코드에 대한 데이터를 만들었습니다.\n",
      "***run time(sec) : 287\n"
     ]
    }
   ],
   "source": [
    "# 대량 크롤링 진행\n",
    "df = make_total_data(10, code_list, 20221111)"
   ]
  },
  {
   "cell_type": "code",
   "execution_count": 17,
   "id": "f973bc57",
   "metadata": {},
   "outputs": [
    {
     "name": "stdout",
     "output_type": "stream",
     "text": [
      "/aiffel/aiffel/news_crawler/news_data.csv File Saved!\n"
     ]
    }
   ],
   "source": [
    "import os\n",
    "\n",
    "# 데이터프레임 파일을 csv 파일로 저장\n",
    "csv_path = os.getenv(\"HOME\") + \"/aiffel/news_crawler/news_data.csv\"\n",
    "df.to_csv(csv_path, index=False)\n",
    "\n",
    "if os.path.exists(csv_path):\n",
    "  print('{} File Saved!'.format(csv_path))"
   ]
  },
  {
   "cell_type": "code",
   "execution_count": 18,
   "id": "359847c1",
   "metadata": {},
   "outputs": [
    {
     "data": {
      "text/html": [
       "<div>\n",
       "<style scoped>\n",
       "    .dataframe tbody tr th:only-of-type {\n",
       "        vertical-align: middle;\n",
       "    }\n",
       "\n",
       "    .dataframe tbody tr th {\n",
       "        vertical-align: top;\n",
       "    }\n",
       "\n",
       "    .dataframe thead th {\n",
       "        text-align: right;\n",
       "    }\n",
       "</style>\n",
       "<table border=\"1\" class=\"dataframe\">\n",
       "  <thead>\n",
       "    <tr style=\"text-align: right;\">\n",
       "      <th></th>\n",
       "      <th>news</th>\n",
       "      <th>code1</th>\n",
       "      <th>code2</th>\n",
       "    </tr>\n",
       "  </thead>\n",
       "  <tbody>\n",
       "    <tr>\n",
       "      <th>0</th>\n",
       "      <td>핼러윈 이태원 참사 관련해 “美문화 주입받아 발생한 일”\\n\\n강원도 한 고교에서 ...</td>\n",
       "      <td>사회</td>\n",
       "      <td>교육</td>\n",
       "    </tr>\n",
       "    <tr>\n",
       "      <th>1</th>\n",
       "      <td>채식 급식이 제대로 운영되지 않고 있다는 시민모임 주장에 대해 제주자치도교육청이 해...</td>\n",
       "      <td>사회</td>\n",
       "      <td>교육</td>\n",
       "    </tr>\n",
       "    <tr>\n",
       "      <th>2</th>\n",
       "      <td>내년도 교육부의 예산안이 국회 교육위원회 전체회의 상정의 문턱을 넘지 못했다.국회 ...</td>\n",
       "      <td>사회</td>\n",
       "      <td>교육</td>\n",
       "    </tr>\n",
       "    <tr>\n",
       "      <th>3</th>\n",
       "      <td>2023학년도 대학수학능력시험을 맞아 경찰이 특별 교통 관리에 나섭니다.제주경찰청은...</td>\n",
       "      <td>사회</td>\n",
       "      <td>교육</td>\n",
       "    </tr>\n",
       "    <tr>\n",
       "      <th>4</th>\n",
       "      <td>이주호 사회부총리 겸 교육부 장관이 “교육부가 이태원 참사로 희생된 교사의 숫자를 ...</td>\n",
       "      <td>사회</td>\n",
       "      <td>교육</td>\n",
       "    </tr>\n",
       "  </tbody>\n",
       "</table>\n",
       "</div>"
      ],
      "text/plain": [
       "                                                news code1 code2\n",
       "0  핼러윈 이태원 참사 관련해 “美문화 주입받아 발생한 일”\\n\\n강원도 한 고교에서 ...    사회    교육\n",
       "1  채식 급식이 제대로 운영되지 않고 있다는 시민모임 주장에 대해 제주자치도교육청이 해...    사회    교육\n",
       "2  내년도 교육부의 예산안이 국회 교육위원회 전체회의 상정의 문턱을 넘지 못했다.국회 ...    사회    교육\n",
       "3  2023학년도 대학수학능력시험을 맞아 경찰이 특별 교통 관리에 나섭니다.제주경찰청은...    사회    교육\n",
       "4  이주호 사회부총리 겸 교육부 장관이 “교육부가 이태원 참사로 희생된 교사의 숫자를 ...    사회    교육"
      ]
     },
     "execution_count": 18,
     "metadata": {},
     "output_type": "execute_result"
    }
   ],
   "source": [
    "csv_path = os.getenv(\"HOME\") + \"/aiffel/news_crawler/news_data.csv\"\n",
    "df = pd.read_table(csv_path, sep=',')\n",
    "df.head()"
   ]
  },
  {
   "cell_type": "code",
   "execution_count": 19,
   "id": "8d6ec272",
   "metadata": {},
   "outputs": [
    {
     "data": {
      "text/plain": [
       "0     핼러윈 이태원 참사 관련해 문화 주입받아 발생한 일강원도 한 고교에서 교사가 수업 ...\n",
       "1     채식 급식이 제대로 운영되지 않고 있다는 시민모임 주장에 대해 제주자치도교육청이 해...\n",
       "2     내년도 교육부의 예산안이 국회 교육위원회 전체회의 상정의 문턱을 넘지 못했다국회 교...\n",
       "3     학년도 대학수학능력시험을 맞아 경찰이 특별 교통 관리에 나섭니다제주경찰청은 오는 일...\n",
       "4     이주호 사회부총리 겸 교육부 장관이 교육부가 이태원 참사로 희생된 교사의 숫자를 공...\n",
       "5     모두에게 보여주고 싶은 기사라면 이 기사를 추천합니다 버튼을 눌러주세요집계 기간 동...\n",
       "6     모두에게 보여주고 싶은 기사라면 이 기사를 추천합니다 버튼을 눌러주세요집계 기간 동...\n",
       "7     모두에게 보여주고 싶은 기사라면 이 기사를 추천합니다 버튼을 눌러주세요집계 기간 동...\n",
       "8     서울시 재난안전 관련 업무를 담당했던 안전지원과 소속 공무원이 일 자택에서 숨진 채...\n",
       "9     서울의 한 대학 교수 씨는 년부터 약 년간 연구용역과제를 수행하며 연구에 참여하지 ...\n",
       "10    빨간 넥타이 지적에 거기까지 생각 못 미쳐고등교육 특별회계 합의점 못 찾아이주호 사...\n",
       "11    이태원 핼러윈 참사 이후 만 명이 넘는 초중고 학생이 심리상담을 받은 것으로 나타났...\n",
       "12    구미뉴시스 박홍식 기자  신경림 대한간호협회장이 일 구미대학교 긍지관에서 열린 제회...\n",
       "13    구미뉴시스 박홍식 기자  구미대학교 간호학과 예비 간호사들이 일 교내 긍지관에서 나...\n",
       "14    구미뉴시스 구미뉴시스 박홍식 기자  구미대학교 간호대학 학년 명의 예비 간호사들이 ...\n",
       "15    모두에게 보여주고 싶은 기사라면 이 기사를 추천합니다 버튼을 눌러주세요집계 기간 동...\n",
       "16    구미뉴시스 박홍식 기자  구미대학교 간호학과 예비 간호사들이 일 교내 긍지관에서 나...\n",
       "17    구미뉴시스 박홍식 기자  구미대학교 간호학과 예비 간호사들이 일 교내 긍지관에서 나...\n",
       "18    구미뉴시스 박홍식 기자  김장호왼쪽 세번째 경북 구미시장이 일 구미대학교 긍지관에서...\n",
       "19    구미뉴시스 박홍식 기자  구미대학교 간호학과 예비 간호사들이 일 교내 긍지관에서 열...\n",
       "20    사막에 살던 인간 랑이 죽었다 재난과 전쟁으로 인류가 거의 소멸한 세기다 랑과 함께...\n",
       "21    조갑상은 가상 공간인 여산의 삼산면을 배경으로 보도연맹 사건과 함께 국가보안법 사건...\n",
       "22    자본주의 사회에서 돈 없이 생존할 수 있을까 원으로 사는 삶은 무소비에 대한 실험이...\n",
       "23    알 수 없는 표정으로 차창 밖을 응시하는 여성의 이름은 클레멘티나 델피 이 책의 주...\n",
       "24    오늘 아침 눈뜨자마자 사회관계망서비스 앱을 클릭했는가 무의식적으로 스크롤을 내리는 ...\n",
       "25    보건복지부의  장애인 실태조사를 보면 장애인 명 중 명은 국민기초생활보장 생계급여 ...\n",
       "26    예일대 교수이자 수학자인 마이클 프레임이 상실 속에 살아가는 우리에게 수학이 어떤 ...\n",
       "27    년대 초 젊은 경제학자 폴 볼커는 미국 뉴욕연방은행 안 사무실에 처박혀 인간 계산기...\n",
       "28    서점의 시대  강성호 지음  나무연필 펴냄  만원골목길 어딜 가든 독립서점을 만나는...\n",
       "29    자유를 박탈당한 감옥 재소자에게 자유란 무엇일까 마약 중독에 빠졌던 소년에게 욕망이...\n",
       "30    스페인 그라나다에는 알람브라 성당이 있다 세기 이슬람 건축 양식으로 지어진 이 성당...\n",
       "31    세계 최고의 레스토랑은 어떤 곳일까 사람들은 왜 그곳을 세계 최고라고 부르는 걸까 ...\n",
       "32    경제경영인문교양아동청소년마케팅 전문가인 홍성태 교수가 꾸준히 사랑받는 브랜드로 남는...\n",
       "33    디플롯 제공 재판매 및 금지 디플롯 제공 재판매 및 금지진선북스제공 재판매 및 금지...\n",
       "34    어느덧 월이다 연초 계획은 잊은 지 오래고 느슨해질 대로 느슨해진 마음을 추스르기도...\n",
       "35    철학에 미친 독서광아이돌 그룹 여자아이들의 신곡 누드는 영화배우 마릴린 먼로사진를 ...\n",
       "36    세상에는 정답을 알기 힘든 일이 수두룩하다 똑 부러진 답이 없을 땐 서로 자신의 주...\n",
       "37    가난한 청춘에게 겨울은 가혹하다 소설가 김의경사진은 대 때 부모의 사업 실패로 고시...\n",
       "38    준비 없는 은퇴는 고통의 시작이다 들어오는 돈은 없는데 생활비는 꼬박꼬박 나간다 외...\n",
       "39    영토 분쟁의 역사를 살펴본다 러시아와 주변국의 분쟁 팔레스타인 분쟁 한국과 일본의 ...\n",
       "40    디지털데일리 이종현기자 한글과컴퓨터이하 한컴이 사업 포트폴리오 개편의 효과를 빠르게...\n",
       "41    업스테이지 이활석 업스테이지 이활석 는 일 개최된 노코드로우코드 자동화 컨퍼런스  ...\n",
       "42    권남혁 인터랙트 대표가 노코드로우코드 자동화 컨퍼런스 에서  교육훈련 콘텐츠 분야에...\n",
       "43    조남승 퀸텟시스템즈 부사장요즘 인력이 부족해 사업을 못하는 것이 현실이다 전 세계적...\n",
       "44    박종근 비컴유니버스 상무장기화된 경기 침체와 공급망 마비 인력난 인건비 상승으로 많...\n",
       "45    임현길  대표노코드 플랫폼으로 부터 까지 모든 것을 개발하라는 것은 아니다 단 디지...\n",
       "46    안랩이 월 일 농업인의 날을 맞아 사내 식당에서 진행한 안랩 가래떡 데이 행사에서 ...\n",
       "47    아크로니스 어드밴스드 시큐리티 아크로니스는 지난 일부터 일까지 일간 미국 퐁텐블로 ...\n",
       "48    전년 대비 월별 미국 온라인 물가 변화 어도비 디지털 물가 지수 및 소비자물가지수어...\n",
       "49    한글과컴퓨터 한글과컴퓨터한컴는 분기 연결 기준 매출액 억원 영업이익 억원을 기록했다...\n",
       "50    윤영진 네이버 클로바  사업팀 리더카피라이터들이 쓰던 마케팅 문구를 인공지능가 대신...\n",
       "51    한글과컴퓨터대표 변성준 김연수가 분기 실적 공시를 통해 연결기준 매출액 억원 영업이...\n",
       "52    디지털데일리 양원모 기자 한국 정부가 우크라이나군에 전달될 포탄을 미국에 팔기로 했...\n",
       "53    박현민 엔터플 대표박현민 엔터플 대표노코드 솔루션을 활용해 비개발자도 한 시간 만에...\n",
       "54    김순덕 한국마이크로소프트 글로벌파트너솔루션 매니저기업이 로우코드 플랫폼을 도입할 때...\n",
       "55    정부가 이태원 참사 재발을 막기 위해 인공지능 지능형  드론 등 첨단 디지털 기술 ...\n",
       "56        국내 가상자산 거래소 코빗대표 오세진은 스포츠 대체불가토큰 전문 기업 블루베...\n",
       "57    디지털데일리 박세아 기자 최근 가상자산업계가 폭풍의 눈 한가운데 섰다 지난 여름 루...\n",
       "58    박윤규 과학기술정보통신부 차관이 노코드로우코드 자동화 컨퍼런스 에서 축사를 했다박윤...\n",
       "59    배영근 비아이매트릭스 대표현업에서 실무자들이 가장 많이 활용하는 업무용 도구는 엑셀...\n",
       "Name: news, dtype: object"
      ]
     },
     "execution_count": 19,
     "metadata": {},
     "output_type": "execute_result"
    }
   ],
   "source": [
    "# 정규 표현식을 이용해서 한글 외의 문자는 전부 제거\n",
    "df['news'] = df['news'].str.replace(\"[^ㄱ-ㅎㅏ-ㅣ가-힣 ]\", \"\", regex=True)\n",
    "df['news']"
   ]
  },
  {
   "cell_type": "code",
   "execution_count": 20,
   "id": "cbefea6f",
   "metadata": {},
   "outputs": [
    {
     "name": "stdout",
     "output_type": "stream",
     "text": [
      "news     0\n",
      "code1    0\n",
      "code2    0\n",
      "dtype: int64\n"
     ]
    }
   ],
   "source": [
    "print(df.isnull().sum())"
   ]
  },
  {
   "cell_type": "code",
   "execution_count": 21,
   "id": "0f934024",
   "metadata": {},
   "outputs": [
    {
     "name": "stdout",
     "output_type": "stream",
     "text": [
      "뉴스 기사의 개수:  57\n"
     ]
    }
   ],
   "source": [
    "# 중복된 샘플들을 제거\n",
    "df.drop_duplicates(subset=['news'], inplace=True)\n",
    "\n",
    "print('뉴스 기사의 개수: ',len(df))"
   ]
  },
  {
   "cell_type": "code",
   "execution_count": 22,
   "id": "6624e717",
   "metadata": {},
   "outputs": [
    {
     "data": {
      "text/plain": [
       "<AxesSubplot:>"
      ]
     },
     "execution_count": 22,
     "metadata": {},
     "output_type": "execute_result"
    },
    {
     "data": {
      "image/png": "[encoded data removed]",
      "text/plain": [
       "<Figure size 432x288 with 1 Axes>"
      ]
     },
     "metadata": {
      "needs_background": "light"
     },
     "output_type": "display_data"
    }
   ],
   "source": [
    "import matplotlib.pyplot as plt\n",
    "plt.rcParams[\"font.family\"] = \"NanumGothic\"\n",
    "\n",
    "df['code1'].value_counts().plot(kind = 'bar')"
   ]
  },
  {
   "cell_type": "code",
   "execution_count": 23,
   "id": "32de1fdd",
   "metadata": {},
   "outputs": [
    {
     "name": "stdout",
     "output_type": "stream",
     "text": [
      "   code1  count\n",
      "0  IT/과학     20\n",
      "1     사회     17\n",
      "2  생활/문화     20\n"
     ]
    }
   ],
   "source": [
    "print(df.groupby('code1').size().reset_index(name = 'count'))"
   ]
  },
  {
   "cell_type": "code",
   "execution_count": 24,
   "id": "c4dccfe1",
   "metadata": {},
   "outputs": [
    {
     "name": "stdout",
     "output_type": "stream",
     "text": [
      "['밤', '에', '귀가', '하', '던', '여성', '에게', '범죄', '를', '시도', '한', '대', '남성', '이', '구속', '됐', '다', '서울', '제주', '경찰서', '는', '상해', '혐의', '로', '씨', '를', '구속', '해', '수사', '하', '고', '있', '다고', '일', '밝혔', '다', '씨', '는', '지난달', '일', '피해', '여성', '을', '인근', '지하철', '역', '에서부터', '따라가', '폭행', '을', '시도', '하', '려다가', '도망간', '혐의', '를', '받', '는다', '피해', '여성', '이', '저항', '하', '자', '놀란', '씨', '는', '도망갔으며', '신고', '를', '받', '고', '주변', '을', '수색', '하', '던', '경찰', '에', '체포', '됐', '다', '피해', '여성', '은', '이', '과정', '에서', '경미', '한', '부상', '을', '입', '은', '것', '으로', '전해졌', '다']\n"
     ]
    }
   ],
   "source": [
    "from konlpy.tag import Mecab\n",
    "tokenizer = Mecab()\n",
    "\n",
    "kor_text = '밤에 귀가하던 여성에게 범죄를 시도한 대 남성이 구속됐다서울 제주경찰서는 \\\n",
    "            상해 혐의로 씨를 구속해 수사하고 있다고 일 밝혔다씨는 지난달 일 피해 여성을 \\\n",
    "            인근 지하철 역에서부터 따라가 폭행을 시도하려다가 도망간 혐의를 받는다피해 \\\n",
    "            여성이 저항하자 놀란 씨는 도망갔으며 신고를 받고 주변을 수색하던 경찰에 \\\n",
    "            체포됐다피해 여성은 이 과정에서 경미한 부상을 입은 것으로 전해졌다'\n",
    "\n",
    "# 형태소 분석 (토큰화)\n",
    "print(tokenizer.morphs(kor_text))"
   ]
  },
  {
   "cell_type": "code",
   "execution_count": 25,
   "id": "e72c1bd6",
   "metadata": {},
   "outputs": [],
   "source": [
    "stopwords = ['에','는','은','을','했','에게','있','이','의','하','한','다','과','때문','할','수','무단','따른','및','금지','전재','경향신문','기자','는데','가','등','들','파이낸셜','저작','등','뉴스']"
   ]
  },
  {
   "cell_type": "code",
   "execution_count": 26,
   "id": "8bfe0db2",
   "metadata": {},
   "outputs": [],
   "source": [
    "# 토큰화 과정에서 불용어를 제거하는 함수 정의\n",
    "def preprocessing(data):\n",
    "  text_data = []\n",
    "\n",
    "  for sentence in data:\n",
    "    temp_data = []\n",
    "    \n",
    "    # 토큰화\n",
    "    temp_data = tokenizer.morphs(sentence) \n",
    "    \n",
    "    # 불용어 제거\n",
    "    temp_data = [word for word in temp_data if not word in stopwords] \n",
    "    text_data.append(temp_data)\n",
    "\n",
    "  text_data = list(map(' '.join, text_data))\n",
    "\n",
    "  return text_data"
   ]
  },
  {
   "cell_type": "code",
   "execution_count": 37,
   "id": "6b652e84",
   "metadata": {},
   "outputs": [
    {
     "name": "stdout",
     "output_type": "stream",
     "text": [
      "내년도 교육부 예산안 국회 교육 위원회 전체 회의 상정 문턱 넘 지 못했 국회 교육위 일 전체 회의 를 열 고 소관 예산안 심의 예정 었 으나 고등 평생 교육 지원 특별회계 대한 세출 세부 내역 없 다는 야당 의원 지적 으로 이날 상정 이뤄지지 않 았 더불 어 민주당 서동용 의원 현재 국회 제출 된 내년도 예산안 교육부 추진 고등 평생 교육 지원 특별회계 반영 되 지 않 예산안 라며 교육부 와 기획 재정부 노골 적 으로 국회 고유 권한 인 예산 권 무시 행태 를 보이 고 다고 말 다이어 윤석열 정부 고등 평생 교육 지원 특별회계 를 추진 겠 다고 발표 한지 개월 지났 그러나 교육부 지금 까지 단 번 도 국회 와 예산안 편성 관련 해 논의 조차 지 않 았 다면서 현재 제출 된 교육부 내년도 예산 심사 한다면 교육위 실체 도 없 유령 예산안 심사 의결 꼴 라고 꼬집 었 강민정 민주당 의원 도 어제 예결 위원 자격 으로 추경호 기재 부 장관 질의 더니 추 장관 도 고등 평생 교육 지원 특별회계 관련 제정 안 예산 부수 법안 으로 처리 려 지만 법안 내용 성안 안 돼 다고 말 헀 다면서 개 시도 교육감 기재 부나 교육부 와 관련 협의 적 도 없 고 국회 교육 위원 도 사전 의견 수렴 절차 없 었 이건 국회법 국가 재정법 위반 것 라고 지적 여당 간사인 이태규 국민 힘 의원 고등 평생 지원 특별회계 법 재정법 라서 공청회 를 통해야 한다 면서 법 안 돼 음 도 세출 예산 가져왔 다고 지만 법안 통과 와 맞물려 같이 논의 고 편성 대해 특별 사항 면 예산 통과 시 부대 사항 명기 해 탄력 적 으로 논의 고 심사 가능 다며 국회 예산 심의 권한 침해 것 라고 보 긴 어렵 다고 말 유기홍 위원장 고등 평생 교육 지원 특별회계 법 아직 교육 위원회 상정 도 안 돼 그런데 교육부 기재 부 관료 법 상임위 를 거치 지 않 고 예산 부수 법안 으로 갈 것 라고 기정사실 화 면서 일 추진 고 다면서 예산 부수 법안 으로 올라갈 사안 인지 도 교육위 에서 논의 된 바 없 다고 그러 면서 세입 근거 도 없 고 세출 항목 도 정해진 게 없 이건 지방 교육 재정 교부금 체제 개편 이전 문제 라며 위원장 으로서 상태 로 예산 오늘 상정 고 심사 것 무슨 의미 나 라고 짚 었 이주호 사회 부총리 겸 교육부 장관 주초 빠른 시간 내 확정 후 보고 와 상의 를 드리 과정 시작 될 것 같 다면서 충분히 보 고 드릴 없 어서 매우 송구 스럽 다고 말 이날 여야 간사 예산안 심사 일정 추후 협의 기 로 카카오톡 더 팩 트 제보 검색 메일 홈페이지\n"
     ]
    }
   ],
   "source": [
    "text_data = preprocessing(df['news'])\n",
    "print(text_data[2])"
   ]
  },
  {
   "cell_type": "code",
   "execution_count": 38,
   "id": "84c4ba5c",
   "metadata": {},
   "outputs": [],
   "source": [
    "from sklearn.model_selection import train_test_split\n",
    "from sklearn.feature_extraction.text import CountVectorizer\n",
    "from sklearn.feature_extraction.text import TfidfTransformer\n",
    "from sklearn.naive_bayes import MultinomialNB\n",
    "from sklearn import metrics"
   ]
  },
  {
   "cell_type": "code",
   "execution_count": 39,
   "id": "ac146df9",
   "metadata": {},
   "outputs": [],
   "source": [
    "# 훈련 데이터와 테스트 데이터 분리\n",
    "X_train, X_test, y_train, y_test = train_test_split(text_data, df['code1'], random_state = 0)"
   ]
  },
  {
   "cell_type": "code",
   "execution_count": 40,
   "id": "a2d06ccc",
   "metadata": {},
   "outputs": [
    {
     "name": "stdout",
     "output_type": "stream",
     "text": [
      "훈련용 뉴스 기사의 개수 : 42\n",
      "테스트용 뉴스 기사의 개수 :  15\n",
      "훈련용 레이블의 개수 :  42\n",
      "테스트용 레이블의 개수 :  15\n"
     ]
    }
   ],
   "source": [
    "print('훈련용 뉴스 기사의 개수 :', len(X_train))\n",
    "print('테스트용 뉴스 기사의 개수 : ', len(X_test))\n",
    "print('훈련용 레이블의 개수 : ', len(y_train))\n",
    "print('테스트용 레이블의 개수 : ', len(y_test))"
   ]
  },
  {
   "cell_type": "code",
   "execution_count": 41,
   "id": "01466e6c",
   "metadata": {},
   "outputs": [],
   "source": [
    "# 단어의 수를 카운트하는 사이킷런의 카운트 벡터라이저\n",
    "count_vect = CountVectorizer()\n",
    "X_train_counts = count_vect.fit_transform(X_train)\n",
    "\n",
    "# 카운트 벡터라이저의 결과로부터 TF-IDF 결과를 얻음.\n",
    "tfidf_transformer = TfidfTransformer()\n",
    "X_train_tfidf = tfidf_transformer.fit_transform(X_train_counts)\n",
    "\n",
    "# 나이브 베이즈 분류기를 수행\n",
    "clf = MultinomialNB().fit(X_train_tfidf, y_train)"
   ]
  },
  {
   "cell_type": "code",
   "execution_count": 42,
   "id": "5d34101b",
   "metadata": {},
   "outputs": [],
   "source": [
    "def tfidf_vectorizer(data):\n",
    "  data_counts = count_vect.transform(data)\n",
    "  data_tfidf = tfidf_transformer.transform(data_counts)\n",
    "  return data_tfidf"
   ]
  },
  {
   "cell_type": "code",
   "execution_count": 43,
   "id": "ddb66b9f",
   "metadata": {},
   "outputs": [
    {
     "name": "stdout",
     "output_type": "stream",
     "text": [
      "['IT/과학']\n"
     ]
    }
   ],
   "source": [
    "new_sent = preprocessing([\"민주당 일각에서 법사위의 체계·자구 심사 기능을 없애야 한다는 \\\n",
    "                           주장이 나오는 데 대해 “체계·자구 심사가 법안 지연의 수단으로 \\\n",
    "                          쓰이는 것은 바람직하지 않다”면서도 “국회를 통과하는 법안 중 위헌\\\n",
    "                          법률이 1년에 10건 넘게 나온다. 그런데 체계·자구 심사까지 없애면 매우 위험하다”고 반박했다.\"])\n",
    "print(clf.predict(tfidf_vectorizer(new_sent)))"
   ]
  },
  {
   "cell_type": "code",
   "execution_count": 44,
   "id": "26a911e3",
   "metadata": {},
   "outputs": [
    {
     "name": "stdout",
     "output_type": "stream",
     "text": [
      "['생활/문화']\n"
     ]
    }
   ],
   "source": [
    "new_sent = preprocessing([\"인도 로맨틱 코미디 영화 <까립까립 싱글>(2017)을 봤을 때 나는 두 눈을 의심했다. \\\n",
    "                          저 사람이 남자 주인공이라고? 노안에 가까운 이목구비와 기름때로 뭉친 파마머리와, \\\n",
    "                          대충 툭툭 던지는 말투 등 전혀 로맨틱하지 않은 외모였다. 반감이 일면서 \\\n",
    "                          ‘난 외모지상주의자가 아니다’라고 자부했던 나에 대해 회의가 들었다.\\\n",
    "                           티브이를 꺼버릴까? 다른 걸 볼까? 그런데, 이상하다. 왜 이렇게 매력 있지? 개구리와\\\n",
    "                            같이 툭 불거진 눈망울 안에는 어떤 인도 배우에게서도 느끼지 못한 \\\n",
    "                            부드러움과 선량함, 무엇보다 슬픔이 있었다. 2시간 뒤 영화가 끝나고 나는 완전히 이 배우에게 빠졌다\"])\n",
    "print(clf.predict(tfidf_vectorizer(new_sent)))"
   ]
  },
  {
   "cell_type": "code",
   "execution_count": 45,
   "id": "419fcabc",
   "metadata": {},
   "outputs": [
    {
     "name": "stdout",
     "output_type": "stream",
     "text": [
      "['IT/과학']\n"
     ]
    }
   ],
   "source": [
    "new_sent = preprocessing([\"20분기 연속으로 적자에 시달리는 LG전자가 브랜드 이름부터 성능, 디자인까지 대대적인 변화를 \\\n",
    "                          적용한 LG 벨벳은 등장 전부터 온라인 커뮤니티를 뜨겁게 달궜다. 사용자들은 “디자인이 예쁘다”, \\\n",
    "                          “슬림하다”는 반응을 보이며 LG 벨벳에 대한 기대감을 드러냈다.\"])\n",
    "print(clf.predict(tfidf_vectorizer(new_sent)))"
   ]
  },
  {
   "cell_type": "code",
   "execution_count": 46,
   "id": "4cc5cc0c",
   "metadata": {},
   "outputs": [
    {
     "name": "stdout",
     "output_type": "stream",
     "text": [
      "              precision    recall  f1-score   support\n",
      "\n",
      "       IT/과학       0.67      1.00      0.80         4\n",
      "          사회       1.00      1.00      1.00         4\n",
      "       생활/문화       1.00      0.71      0.83         7\n",
      "\n",
      "    accuracy                           0.87        15\n",
      "   macro avg       0.89      0.90      0.88        15\n",
      "weighted avg       0.91      0.87      0.87        15\n",
      "\n"
     ]
    }
   ],
   "source": [
    "y_pred = clf.predict(tfidf_vectorizer(X_test))\n",
    "print(metrics.classification_report(y_test, y_pred))"
   ]
  }
 ],
 "metadata": {
  "kernelspec": {
   "display_name": "Python 3 (ipykernel)",
   "language": "python",
   "name": "python3"
  },
  "language_info": {
   "codemirror_mode": {
    "name": "ipython",
    "version": 3
   },
   "file_extension": ".py",
   "mimetype": "text/x-python",
   "name": "python",
   "nbconvert_exporter": "python",
   "pygments_lexer": "ipython3",
   "version": "3.9.7"
  }
 },
 "nbformat": 4,
 "nbformat_minor": 5
}
