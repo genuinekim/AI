{
 "cells": [
  {
   "cell_type": "code",
   "execution_count": null,
   "id": "9cc2830e",
   "metadata": {},
   "outputs": [],
   "source": [
    "# 다층 퍼셉트론 (Multi-Layer Perceptron; MLP)\n",
    "model=keras.models.Sequential()\n",
    "model.add(keras.layers.Dense(50, activation='sigmoid', input_shape=(784,)))  # 입력층 d=784, 은닉층 레이어 H=50\n",
    "model.add(keras.layers.Dense(10, activation='softmax'))   # 출력층 레이어 K=10"
   ]
  },
  {
   "cell_type": "code",
   "execution_count": null,
   "id": "7032f42a",
   "metadata": {},
   "outputs": [],
   "source": [
    "weight_init_std = 0.1\n",
    "input_size = 784\n",
    "hidden_size=50"
   ]
  },
  {
   "cell_type": "code",
   "execution_count": null,
   "id": "75fe9a7d",
   "metadata": {},
   "outputs": [],
   "source": [
    "# 인접 레이어간 관계를 나타내는 파라미터 W를 생성하고 random 초기화\n",
    "W1 = weight_init_std * np.random.randn( input_size, hidden_size ) \n",
    " \n",
    "# 바이어스 파라미터 b를 생성하고 Zero로 초기화\n",
    "b1 = np.zeros( hidden_size )\n",
    "\n",
    "a1 = np.dot( X, W1 ) + b1   # 은닉층 출력"
   ]
  },
  {
   "cell_type": "code",
   "execution_count": null,
   "id": "767f0a85",
   "metadata": {},
   "outputs": [],
   "source": [
    "def sigmoid(x):\n",
    "    return 1 / (1 + np.exp(-x))  \n",
    "\n",
    "z1 = sigmoid(a1)\n",
    "print(z1[0])  # sigmoid의 출력은 모든 element가 0에서 1사이"
   ]
  },
  {
   "cell_type": "code",
   "execution_count": null,
   "id": "5f70b858",
   "metadata": {},
   "outputs": [],
   "source": [
    "def affine_layer_forward(X, W, b):\n",
    "    y = np.dot(X, W) + b\n",
    "    cache = (X, W, b)\n",
    "    return y, cache"
   ]
  },
  {
   "cell_type": "code",
   "execution_count": null,
   "id": "d92cfe1f",
   "metadata": {},
   "outputs": [],
   "source": [
    "input_size = 784\n",
    "hidden_size = 50\n",
    "output_size = 10"
   ]
  },
  {
   "cell_type": "code",
   "execution_count": null,
   "id": "3f1dd4a9",
   "metadata": {},
   "outputs": [],
   "source": [
    "W1 = weight_init_std * np.random.randn(input_size, hidden_size)\n",
    "b1 = np.zeros(hidden_size)\n",
    "W2 = weight_init_std * np.random.randn(hidden_size, output_size)\n",
    "b2 = np.zeros(output_size)"
   ]
  },
  {
   "cell_type": "code",
   "execution_count": null,
   "id": "316ad1a3",
   "metadata": {},
   "outputs": [],
   "source": [
    "a1, cache1 = affine_layer_forward(X, W1, b1)\n",
    "z1 = sigmoid(a1)\n",
    "a2, cache2 = affine_layer_forward(z1, W2, b2)    # z1이 다시 두번째 레이어의 입력이 됨.\n",
    "print(a2[0])"
   ]
  },
  {
   "cell_type": "code",
   "execution_count": null,
   "id": "2f3cf78d",
   "metadata": {},
   "outputs": [],
   "source": [
    "def softmax(x):\n",
    "    if x.ndim == 2:\n",
    "        x = x.T\n",
    "        x = x - np.max(x, axis=0)\n",
    "        y = np.exp(x) / np.sum(np.exp(x), axis=0)\n",
    "        return y.T \n",
    "\n",
    "    x = x - np.max(x) # 오버플로 대책\n",
    "    return np.exp(x) / np.sum(np.exp(x))"
   ]
  },
  {
   "cell_type": "code",
   "execution_count": null,
   "id": "119a6f77",
   "metadata": {},
   "outputs": [],
   "source": [
    "y_hat = softmax(a2)\n",
    "y_hat[0]  "
   ]
  }
 ],
 "metadata": {
  "kernelspec": {
   "display_name": "Python 3 (ipykernel)",
   "language": "python",
   "name": "python3"
  },
  "language_info": {
   "codemirror_mode": {
    "name": "ipython",
    "version": 3
   },
   "file_extension": ".py",
   "mimetype": "text/x-python",
   "name": "python",
   "nbconvert_exporter": "python",
   "pygments_lexer": "ipython3",
   "version": "3.9.7"
  }
 },
 "nbformat": 4,
 "nbformat_minor": 5
}
