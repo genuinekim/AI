{
 "cells": [
  {
   "cell_type": "code",
   "execution_count": 37,
   "id": "2fbb1cc4",
   "metadata": {},
   "outputs": [],
   "source": [
    "import os \n",
    "import cv2 \n",
    "import matplotlib.pyplot as plt \n",
    "import numpy as np \n",
    "import dlib"
   ]
  },
  {
   "cell_type": "code",
   "execution_count": null,
   "id": "37db2112",
   "metadata": {},
   "outputs": [],
   "source": [
    "my_image_path = 'aiffel/camera_sticker/images/MyFace.png' \n",
    "img_bgr = cv2.imread(my_image_path)   \n",
    "img_show = img_bgr.copy()      # 출력용 이미지를 따로 보관\n",
    "plt.imshow(img_bgr)\n",
    "plt.show() "
   ]
  },
  {
   "cell_type": "code",
   "execution_count": null,
   "id": "bad0e50f",
   "metadata": {},
   "outputs": [],
   "source": [
    "img_rgb = cv2.cvtColor( img_bgr, cv2.COLOR_BGR2RGB )\n",
    "plt.imshow( img_rgb ) \n",
    "plt.show() "
   ]
  },
  {
   "cell_type": "code",
   "execution_count": 27,
   "id": "5a845c86",
   "metadata": {},
   "outputs": [],
   "source": [
    "# 기본 얼굴 감지기\n",
    "detector_hog = dlib.get_frontal_face_detector() "
   ]
  },
  {
   "cell_type": "code",
   "execution_count": null,
   "id": "29296c25",
   "metadata": {},
   "outputs": [],
   "source": [
    "# 얼굴의 bounding box를 추출\n",
    "dlib_rects = detector_hog(img_rgb, 1)"
   ]
  },
  {
   "cell_type": "code",
   "execution_count": null,
   "id": "0a25195c",
   "metadata": {},
   "outputs": [],
   "source": [
    "# 찾은 얼굴 영역의 좌표\n",
    "for  dlib_rect  in  dlib_rects: \n",
    "    l = dlib_rect.left()\n",
    "    t = dlib_rect.top()\n",
    "    r = dlib_rect.right() \n",
    "    b = dlib_rect.bottom() \n",
    "    cv2.rectangle( img_show, (l,t), (r,b), (0,255,0), 2, lineType=cv2.LINE_AA ) \n",
    "     # 시작점 좌표(l,t)와 종료점 좌표(r,b)로 직사각형을 그림\n",
    "\n",
    "img_show_rgb =  cv2.cvtColor( img_show, cv2.COLOR_BGR2RGB )\n",
    "plt.imshow( img_show_rgb )\n",
    "plt.show()"
   ]
  },
  {
   "cell_type": "code",
   "execution_count": null,
   "id": "b1f72fd5",
   "metadata": {},
   "outputs": [],
   "source": [
    "model_path = 'aiffel/camera_sticker/models/shape_predictor_68_face_landmarks.dat' \n",
    "landmark_predictor = dlib.shape_predictor(model_path)\n",
    "\n",
    "list_landmarks = []\n",
    " for dlib_rect in dlib_rects:\n",
    "      # 모든 landmark의 위치정보를 points 변수에 저장함.\n",
    "    points = landmark_predictor( img_rgb, dlib_rect )\n",
    "      # 각각의 landmark 위치정보를 (x,y) 형태로 변환하여 리스트로 저장함.\n",
    "    list_points = list( map( lambda p: (p.x, p.y), points.parts()))  # parts() 함수로 개별 위치에 접근\n",
    "    list_landmarks.append( list_points )\n",
    "print(len(list_landmarks[0])) # 각 원소는 68개의 랜드마크 위치가 나열된 리스트임."
   ]
  },
  {
   "cell_type": "code",
   "execution_count": null,
   "id": "47c016f2",
   "metadata": {},
   "outputs": [],
   "source": [
    "# 랜드마크를 영상에 출력\n",
    "for  landmark  in  list_landmarks:\n",
    "    for  point  in  landmark:\n",
    "        cv2.circle( img_show, point, 2, (0, 255, 255), -1)\n",
    "            # img_show 이미지 위 각각의 point에 크기가 2이고 (0, 255, 255)색으로 내부가 채워진(-1) 원을 그림.\n",
    "img_show_rgb = cv2.cvtColor( img_show, cv2.COLOR_BGR2RGB )\n",
    "plt.imshow( img_show_rgb )\n",
    "plt.show()"
   ]
  },
  {
   "cell_type": "code",
   "execution_count": null,
   "id": "1279403c",
   "metadata": {},
   "outputs": [],
   "source": [
    "for  dlib_rect, landmark  in  zip( dlib_rects, list_landmarks ):\n",
    "    print(landmark[30]) # 코의 index\n",
    "    x = landmark[30][0] # 이미지에서 코 부위의 x값\n",
    "    y = landmark[30][1] - dlib_rect.height() // 2  \n",
    "     # 이미지에서 코 부위의 y값 - 얼굴 영역의 세로를 차지하는 픽셀의 수\n",
    "    w = h = dlib_rect.width() # 얼굴 영역의 가로를 차지하는 픽셀의 수 \n",
    "    print (f'(x,y) : ({x},{y})')\n",
    "    print (f'(w,h) : ({w},{h})')"
   ]
  },
  {
   "cell_type": "code",
   "execution_count": null,
   "id": "cecced56",
   "metadata": {},
   "outputs": [],
   "source": [
    "# 준비해 둔 스티커 이미지를 읽어서 적용\n",
    "sticker_path = os.getenv('HOME') + '/aiffel/camera_sticker/images/cat-whiskers.png' \n",
    "img_sticker = cv2.imread( sticker_path ) #  image객체 행렬을 반환함.\n",
    "img_sticker = cv2.resize( img_sticker, (w,h) ) # 스티커 이미지 조정"
   ]
  },
  {
   "cell_type": "code",
   "execution_count": null,
   "id": "08628ed9",
   "metadata": {},
   "outputs": [],
   "source": [
    "refined_x = x - w // 2  \n",
    "refined_y = y - h    \n",
    "# refined_x, refined_y값에서 스티커 이미지가 시작됨."
   ]
  },
  {
   "cell_type": "code",
   "execution_count": null,
   "id": "d196ef94",
   "metadata": {},
   "outputs": [],
   "source": [
    "print (f'(x,y) : ({refined_x},{refined_y})')  # 이미지의 범위를 초과하면 음수가 발생함.\n",
    "# opencv는 음수 인덱스에 접근 불가하므로 스티커 이미지를 잘라줘야함."
   ]
  },
  {
   "cell_type": "code",
   "execution_count": null,
   "id": "c33bfa80",
   "metadata": {},
   "outputs": [],
   "source": [
    "# 음수값만큼 스티커 이미지를 자름.\n",
    "if refined_x < 0: \n",
    "    img_sticker = img_sticker[ :, -refined_x: ]\n",
    "    refined_x = 0"
   ]
  },
  {
   "cell_type": "code",
   "execution_count": null,
   "id": "d9918045",
   "metadata": {},
   "outputs": [],
   "source": [
    "# 스티커 이미지가 시작할 y좌표값 조정\n",
    "if refined_y < 0:\n",
    "    img_sticker = img_sticker[ -refined_y:, : ] \n",
    "    refined_y = 0\n",
    "print (f'(x,y) : ({refined_x},{refined_y})')"
   ]
  },
  {
   "cell_type": "code",
   "execution_count": null,
   "id": "ee368641",
   "metadata": {},
   "outputs": [],
   "source": [
    "# sticker_area는 원본 이미지에서 스티커를 적용할 위치를 미리 잘라낸 이미지임.\n",
    "sticker_area = img_show[ refined_y : refined_y + img_sticker.shape[0],  refined_x : refined_x + img_sticker.shape[1]]"
   ]
  },
  {
   "cell_type": "code",
   "execution_count": null,
   "id": "b581475a",
   "metadata": {},
   "outputs": [],
   "source": [
    "# 스티커 이미지에서 0이 나오는 부분은 이미지가 없는 부분임.  ->  sticker_area 적용\n",
    "img_show[refined_y:refined_y+img_sticker.shape[0], refined_x:refined_x+img_sticker.shape[1]] \n",
    "  = np.where( img_sticker==0, sticker_area, img_sticker ).astype(np.uint8)"
   ]
  },
  {
   "cell_type": "code",
   "execution_count": null,
   "id": "1322c407",
   "metadata": {},
   "outputs": [],
   "source": [
    "# 얼굴 영역과 랜드마크를 미리 적용해놓은 img_show에 스티커 이미지를 덧붙인 이미지가 나옴.\n",
    "plt.imshow( cv2.cvtColor( img_show, cv2.COLOR_BGR2RGB ))\n",
    "plt.show()"
   ]
  },
  {
   "cell_type": "code",
   "execution_count": null,
   "id": "74a21336",
   "metadata": {},
   "outputs": [],
   "source": [
    " # bounding box와 landmark를 제거하고 최종 결과만 출력\n",
    "sticker_area = img_bgr[ refined_y : refined_y  + img_sticker.shape[0],  refined_x : refined_x + img_sticker.shape[1]]"
   ]
  },
  {
   "cell_type": "code",
   "execution_count": null,
   "id": "2862cda2",
   "metadata": {},
   "outputs": [],
   "source": [
    " # img_bgr은 rgb로만 적용해놓은 원본 이미지임.\n",
    "img_bgr[refined_y : refined_y  + img_sticker.shape[0],  refined_x : refined_x + img_sticker.shape[1]] = np.where( img_sticker==0, sticker_area, img_sticker).astype(np.uint8)\n",
    "plt.imshow( cv2.cvtColor( img_bgr, cv2.COLOR_BGR2RGB)) \n",
    "plt.show()"
   ]
  }
 ],
 "metadata": {
  "kernelspec": {
   "display_name": "Python 3 (ipykernel)",
   "language": "python",
   "name": "python3"
  },
  "language_info": {
   "codemirror_mode": {
    "name": "ipython",
    "version": 3
   },
   "file_extension": ".py",
   "mimetype": "text/x-python",
   "name": "python",
   "nbconvert_exporter": "python",
   "pygments_lexer": "ipython3",
   "version": "3.9.7"
  }
 },
 "nbformat": 4,
 "nbformat_minor": 5
}
