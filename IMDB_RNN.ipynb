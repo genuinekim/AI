{
 "cells": [
  {
   "cell_type": "code",
   "execution_count": 2,
   "id": "64a7946c",
   "metadata": {},
   "outputs": [],
   "source": [
    "# IMDB 리뷰 데이터셋\n",
    "from tensorflow.keras.datasets import imdb\n",
    "(train_input, train_target), (test_input, test_target) = imdb.load_data( num_words=500 ) # 가장 자주 등장하는 단어 500개만 사용함."
   ]
  },
  {
   "cell_type": "code",
   "execution_count": 3,
   "id": "f1160041",
   "metadata": {},
   "outputs": [
    {
     "name": "stdout",
     "output_type": "stream",
     "text": [
      "(25000,) (25000,)\n"
     ]
    }
   ],
   "source": [
    "print(train_input.shape, test_input.shape)"
   ]
  },
  {
   "cell_type": "code",
   "execution_count": 4,
   "id": "fb8dbb56",
   "metadata": {},
   "outputs": [
    {
     "name": "stdout",
     "output_type": "stream",
     "text": [
      "189\n"
     ]
    }
   ],
   "source": [
    "print(len(train_input[1]))"
   ]
  },
  {
   "cell_type": "code",
   "execution_count": 5,
   "id": "7d25e00e",
   "metadata": {},
   "outputs": [
    {
     "name": "stdout",
     "output_type": "stream",
     "text": [
      "[1, 194, 2, 194, 2, 78, 228, 5, 6, 2, 2, 2, 134, 26, 4, 2, 8, 118, 2, 14, 394, 20, 13, 119, 2, 189, 102, 5, 207, 110, 2, 21, 14, 69, 188, 8, 30, 23, 7, 4, 249, 126, 93, 4, 114, 9, 2, 2, 5, 2, 4, 116, 9, 35, 2, 4, 229, 9, 340, 2, 4, 118, 9, 4, 130, 2, 19, 4, 2, 5, 89, 29, 2, 46, 37, 4, 455, 9, 45, 43, 38, 2, 2, 398, 4, 2, 26, 2, 5, 163, 11, 2, 2, 4, 2, 9, 194, 2, 7, 2, 2, 349, 2, 148, 2, 2, 2, 15, 123, 125, 68, 2, 2, 15, 349, 165, 2, 98, 5, 4, 228, 9, 43, 2, 2, 15, 299, 120, 5, 120, 174, 11, 220, 175, 136, 50, 9, 2, 228, 2, 5, 2, 2, 245, 2, 5, 4, 2, 131, 152, 491, 18, 2, 32, 2, 2, 14, 9, 6, 371, 78, 22, 2, 64, 2, 9, 8, 168, 145, 23, 4, 2, 15, 16, 4, 2, 5, 28, 6, 52, 154, 462, 33, 89, 78, 285, 16, 145, 95]\n"
     ]
    }
   ],
   "source": [
    "print(train_input[1])"
   ]
  },
  {
   "cell_type": "code",
   "execution_count": 6,
   "id": "6461a6d7",
   "metadata": {},
   "outputs": [
    {
     "name": "stdout",
     "output_type": "stream",
     "text": [
      "[1 0 0 1 0 0 1 0 1 0 1 0 0 0 0 0 1 1 0 1]\n"
     ]
    }
   ],
   "source": [
    "print(train_target[:20]) # 리뷰가 부정이면 0, 긍정이면 1로 나뉨."
   ]
  },
  {
   "cell_type": "code",
   "execution_count": 7,
   "id": "c8e1a1fe",
   "metadata": {},
   "outputs": [],
   "source": [
    "from sklearn.model_selection import train_test_split\n",
    "train_input, val_input, train_target, val_target = train_test_split(train_input, train_target, test_size=0.2, random_state=42)"
   ]
  },
  {
   "cell_type": "code",
   "execution_count": 8,
   "id": "acddc07f",
   "metadata": {},
   "outputs": [
    {
     "name": "stdout",
     "output_type": "stream",
     "text": [
      "239.00925 178.0\n"
     ]
    }
   ],
   "source": [
    "import numpy as np\n",
    "lengths = np.array([len(x) for x in train_input])\n",
    "print(np.mean(lengths), np.median(lengths))"
   ]
  },
  {
   "cell_type": "code",
   "execution_count": 9,
   "id": "335471f7",
   "metadata": {},
   "outputs": [
    {
     "data": {
      "image/png": "[encoded data removed]",
      "text/plain": [
       "<Figure size 432x288 with 1 Axes>"
      ]
     },
     "metadata": {
      "needs_background": "light"
     },
     "output_type": "display_data"
    }
   ],
   "source": [
    "import matplotlib.pyplot as plt\n",
    "plt.hist(lengths)\n",
    "plt.xlabel('length')\n",
    "plt.ylabel('frequency')\n",
    "plt.show()"
   ]
  },
  {
   "cell_type": "code",
   "execution_count": 10,
   "id": "a11bdb76",
   "metadata": {},
   "outputs": [],
   "source": [
    "from tensorflow.keras.preprocessing.sequence import pad_sequences\n",
    "train_seq = pad_sequences(train_input, maxlen=100) # 길이가 100보다 크면 잘라내고, 100보다 작으면 0으로 패딩함.\n",
    "val_seq = pad_sequences(val_input, maxlen=100)"
   ]
  },
  {
   "cell_type": "code",
   "execution_count": 11,
   "id": "3e87dbd8",
   "metadata": {},
   "outputs": [
    {
     "name": "stdout",
     "output_type": "stream",
     "text": [
      "(20000, 100)\n",
      "(5000, 100)\n"
     ]
    }
   ],
   "source": [
    "print(train_seq.shape) # 길이(토큰)가 100으로 맞춰짐.\n",
    "print(val_seq.shape)"
   ]
  },
  {
   "cell_type": "code",
   "execution_count": 12,
   "id": "13fff900",
   "metadata": {},
   "outputs": [
    {
     "name": "stdout",
     "output_type": "stream",
     "text": [
      "Model: \"sequential\"\n",
      "_________________________________________________________________\n",
      "Layer (type)                 Output Shape              Param #   \n",
      "=================================================================\n",
      "simple_rnn (SimpleRNN)       (None, 8)                 4072      \n",
      "_________________________________________________________________\n",
      "dense (Dense)                (None, 1)                 9         \n",
      "=================================================================\n",
      "Total params: 4,081\n",
      "Trainable params: 4,081\n",
      "Non-trainable params: 0\n",
      "_________________________________________________________________\n"
     ]
    }
   ],
   "source": [
    "# 순환신경망 만들기\n",
    "from tensorflow import keras\n",
    "model = keras.Sequential()\n",
    "model.add(keras.layers.SimpleRNN(8, input_shape=(100, 500)))\n",
    "model.add(keras.layers.Dense(1, activation='sigmoid')) # 이진 분류 (긍정과 부정)\n",
    "model.summary()"
   ]
  },
  {
   "cell_type": "code",
   "execution_count": 13,
   "id": "11e2f52c",
   "metadata": {},
   "outputs": [
    {
     "name": "stdout",
     "output_type": "stream",
     "text": [
      "(20000, 100, 500)\n",
      "(5000, 100, 500)\n"
     ]
    }
   ],
   "source": [
    "train_oh = keras.utils.to_categorical(train_seq) # 정수 배열을 입력하면 원핫 인코딩된 배열을 반환해줌.\n",
    "val_oh = keras.utils.to_categorical(val_seq)\n",
    "\n",
    "print(train_oh.shape)\n",
    "print(val_oh.shape)"
   ]
  },
  {
   "cell_type": "code",
   "execution_count": 23,
   "id": "c4eb595c",
   "metadata": {},
   "outputs": [
    {
     "name": "stdout",
     "output_type": "stream",
     "text": [
      "Epoch 1/100\n",
      "313/313 [==============================] - 34s 76ms/step - loss: 0.6975 - accuracy: 0.5040 - val_loss: 0.6922 - val_accuracy: 0.5222\n",
      "Epoch 2/100\n",
      "313/313 [==============================] - 22s 69ms/step - loss: 0.6748 - accuracy: 0.5739 - val_loss: 0.6601 - val_accuracy: 0.6100\n",
      "Epoch 3/100\n",
      "313/313 [==============================] - 21s 69ms/step - loss: 0.6444 - accuracy: 0.6382 - val_loss: 0.6297 - val_accuracy: 0.6638\n",
      "Epoch 4/100\n",
      "313/313 [==============================] - 22s 69ms/step - loss: 0.6145 - accuracy: 0.6780 - val_loss: 0.6074 - val_accuracy: 0.6888\n",
      "Epoch 5/100\n",
      "313/313 [==============================] - 21s 68ms/step - loss: 0.5907 - accuracy: 0.7074 - val_loss: 0.5832 - val_accuracy: 0.7148\n",
      "Epoch 6/100\n",
      "313/313 [==============================] - 21s 69ms/step - loss: 0.5691 - accuracy: 0.7261 - val_loss: 0.5698 - val_accuracy: 0.7156\n",
      "Epoch 7/100\n",
      "313/313 [==============================] - 21s 69ms/step - loss: 0.5505 - accuracy: 0.7395 - val_loss: 0.5497 - val_accuracy: 0.7426\n",
      "Epoch 8/100\n",
      "313/313 [==============================] - 21s 68ms/step - loss: 0.5347 - accuracy: 0.7508 - val_loss: 0.5381 - val_accuracy: 0.7406\n",
      "Epoch 9/100\n",
      "313/313 [==============================] - 21s 68ms/step - loss: 0.5203 - accuracy: 0.7592 - val_loss: 0.5221 - val_accuracy: 0.7636\n",
      "Epoch 10/100\n",
      "313/313 [==============================] - 21s 68ms/step - loss: 0.5076 - accuracy: 0.7704 - val_loss: 0.5135 - val_accuracy: 0.7650\n",
      "Epoch 11/100\n",
      "313/313 [==============================] - 21s 69ms/step - loss: 0.4964 - accuracy: 0.7752 - val_loss: 0.5044 - val_accuracy: 0.7612\n",
      "Epoch 12/100\n",
      "313/313 [==============================] - 21s 68ms/step - loss: 0.4866 - accuracy: 0.7789 - val_loss: 0.4950 - val_accuracy: 0.7722\n",
      "Epoch 13/100\n",
      "313/313 [==============================] - 21s 68ms/step - loss: 0.4786 - accuracy: 0.7832 - val_loss: 0.4882 - val_accuracy: 0.7752\n",
      "Epoch 14/100\n",
      "313/313 [==============================] - 21s 68ms/step - loss: 0.4709 - accuracy: 0.7868 - val_loss: 0.4827 - val_accuracy: 0.7816\n",
      "Epoch 15/100\n",
      "313/313 [==============================] - 21s 68ms/step - loss: 0.4629 - accuracy: 0.7930 - val_loss: 0.4767 - val_accuracy: 0.7792\n",
      "Epoch 16/100\n",
      "313/313 [==============================] - 21s 68ms/step - loss: 0.4576 - accuracy: 0.7930 - val_loss: 0.4742 - val_accuracy: 0.7822\n",
      "Epoch 17/100\n",
      "313/313 [==============================] - 21s 68ms/step - loss: 0.4532 - accuracy: 0.7948 - val_loss: 0.4731 - val_accuracy: 0.7874\n",
      "Epoch 18/100\n",
      "313/313 [==============================] - 21s 68ms/step - loss: 0.4486 - accuracy: 0.7969 - val_loss: 0.4668 - val_accuracy: 0.7838\n",
      "Epoch 19/100\n",
      "313/313 [==============================] - 21s 68ms/step - loss: 0.4444 - accuracy: 0.7977 - val_loss: 0.4639 - val_accuracy: 0.7854\n",
      "Epoch 20/100\n",
      "313/313 [==============================] - 21s 68ms/step - loss: 0.4404 - accuracy: 0.8025 - val_loss: 0.4660 - val_accuracy: 0.7782\n",
      "Epoch 21/100\n",
      "313/313 [==============================] - 21s 68ms/step - loss: 0.4375 - accuracy: 0.8038 - val_loss: 0.4572 - val_accuracy: 0.7922\n",
      "Epoch 22/100\n",
      "313/313 [==============================] - 21s 68ms/step - loss: 0.4349 - accuracy: 0.8047 - val_loss: 0.4551 - val_accuracy: 0.7930\n",
      "Epoch 23/100\n",
      "313/313 [==============================] - 21s 68ms/step - loss: 0.4316 - accuracy: 0.8071 - val_loss: 0.4541 - val_accuracy: 0.7918\n",
      "Epoch 24/100\n",
      "313/313 [==============================] - 21s 68ms/step - loss: 0.4291 - accuracy: 0.8054 - val_loss: 0.4535 - val_accuracy: 0.7938\n",
      "Epoch 25/100\n",
      "313/313 [==============================] - 22s 69ms/step - loss: 0.4263 - accuracy: 0.8080 - val_loss: 0.4530 - val_accuracy: 0.7884\n",
      "Epoch 26/100\n",
      "313/313 [==============================] - 21s 68ms/step - loss: 0.4242 - accuracy: 0.8099 - val_loss: 0.4489 - val_accuracy: 0.7920\n",
      "Epoch 27/100\n",
      "313/313 [==============================] - 21s 68ms/step - loss: 0.4227 - accuracy: 0.8086 - val_loss: 0.4503 - val_accuracy: 0.7932\n",
      "Epoch 28/100\n",
      "313/313 [==============================] - 21s 68ms/step - loss: 0.4203 - accuracy: 0.8109 - val_loss: 0.4489 - val_accuracy: 0.7930\n",
      "Epoch 29/100\n",
      "313/313 [==============================] - 21s 68ms/step - loss: 0.4186 - accuracy: 0.8116 - val_loss: 0.4489 - val_accuracy: 0.7894\n",
      "Epoch 30/100\n",
      "313/313 [==============================] - 21s 68ms/step - loss: 0.4173 - accuracy: 0.8121 - val_loss: 0.4467 - val_accuracy: 0.7914\n",
      "Epoch 31/100\n",
      "313/313 [==============================] - 21s 68ms/step - loss: 0.4151 - accuracy: 0.8131 - val_loss: 0.4476 - val_accuracy: 0.7876\n",
      "Epoch 32/100\n",
      "313/313 [==============================] - 21s 68ms/step - loss: 0.4137 - accuracy: 0.8137 - val_loss: 0.4476 - val_accuracy: 0.7926\n",
      "Epoch 33/100\n",
      "313/313 [==============================] - 21s 68ms/step - loss: 0.4130 - accuracy: 0.8152 - val_loss: 0.4435 - val_accuracy: 0.7920\n",
      "Epoch 34/100\n",
      "313/313 [==============================] - 21s 68ms/step - loss: 0.4114 - accuracy: 0.8152 - val_loss: 0.4425 - val_accuracy: 0.7960\n",
      "Epoch 35/100\n",
      "313/313 [==============================] - 21s 68ms/step - loss: 0.4105 - accuracy: 0.8145 - val_loss: 0.4426 - val_accuracy: 0.7954\n",
      "Epoch 36/100\n",
      "313/313 [==============================] - 21s 68ms/step - loss: 0.4094 - accuracy: 0.8152 - val_loss: 0.4419 - val_accuracy: 0.7930\n",
      "Epoch 37/100\n",
      "313/313 [==============================] - 21s 68ms/step - loss: 0.4078 - accuracy: 0.8158 - val_loss: 0.4441 - val_accuracy: 0.7932\n",
      "Epoch 38/100\n",
      "313/313 [==============================] - 21s 68ms/step - loss: 0.4072 - accuracy: 0.8153 - val_loss: 0.4438 - val_accuracy: 0.7918\n",
      "Epoch 39/100\n",
      "313/313 [==============================] - 21s 68ms/step - loss: 0.4059 - accuracy: 0.8170 - val_loss: 0.4428 - val_accuracy: 0.7908\n"
     ]
    }
   ],
   "source": [
    "# 순환신경망 훈련하기\n",
    "rmsprop = keras.optimizers.RMSprop(learning_rate=1e-4)\n",
    "model.compile(optimizer = rmsprop, loss='binary_crossentropy', metrics=['accuracy'])\n",
    "checkpoint_cb = keras.callbacks.ModelCheckpoint('best-simplernn-model.h5', save_best_only=True)\n",
    "early_stopping_cb = keras.callbacks.EarlyStopping(patience=3, restore_best_weights=True)\n",
    "history = model.fit(train_oh, train_target, epochs=100, batch_size=64, validation_data=(val_oh, val_target), callbacks=[checkpoint_cb, early_stopping_cb])"
   ]
  },
  {
   "cell_type": "code",
   "execution_count": 14,
   "id": "a0b7d2d0",
   "metadata": {},
   "outputs": [
    {
     "name": "stdout",
     "output_type": "stream",
     "text": [
      "Model: \"sequential_1\"\n",
      "_________________________________________________________________\n",
      "Layer (type)                 Output Shape              Param #   \n",
      "=================================================================\n",
      "embedding (Embedding)        (None, 100, 16)           8000      \n",
      "_________________________________________________________________\n",
      "simple_rnn_1 (SimpleRNN)     (None, 8)                 200       \n",
      "_________________________________________________________________\n",
      "dense_1 (Dense)              (None, 1)                 9         \n",
      "=================================================================\n",
      "Total params: 8,209\n",
      "Trainable params: 8,209\n",
      "Non-trainable params: 0\n",
      "_________________________________________________________________\n"
     ]
    }
   ],
   "source": [
    "# 단어 임베딩\n",
    "model2 = keras.Sequential()\n",
    "model2.add(keras.layers.Embedding(500, 16, input_length=100))\n",
    "model2.add(keras.layers.SimpleRNN(8))\n",
    "model2.add(keras.layers.Dense(1, activation='sigmoid'))\n",
    "model2.summary()"
   ]
  },
  {
   "cell_type": "code",
   "execution_count": null,
   "id": "197c366c",
   "metadata": {},
   "outputs": [],
   "source": [
    "rmsprop = keras.optimizers.RMSprop(learning_rate=1e-4)\n",
    "model2.compile(optimizer = rmsprop, loss='binary_crossentropy', metrics=['accuracy'])\n",
    "checkpoint_cb = keras.callbacks.ModelCheckpoint('best-simplernn-model.h5', save_best_only=True)\n",
    "early_stopping_cb = keras.callbacks.EarlyStopping(patience=3, restore_best_weights=True)\n",
    "history = model2.fit(train_oh, train_target, epochs=100, batch_size=64, validation_data=(val_seq, val_target), callbacks=[checkpoint_cb, early_stopping_cb])"
   ]
  },
  {
   "cell_type": "code",
   "execution_count": 4,
   "id": "dc5310fc",
   "metadata": {},
   "outputs": [
    {
     "name": "stdout",
     "output_type": "stream",
     "text": [
      "Model: \"sequential_1\"\n",
      "_________________________________________________________________\n",
      "Layer (type)                 Output Shape              Param #   \n",
      "=================================================================\n",
      "embedding_1 (Embedding)      (None, 100, 16)           8000      \n",
      "_________________________________________________________________\n",
      "lstm_1 (LSTM)                (None, 8)                 800       \n",
      "_________________________________________________________________\n",
      "dense_1 (Dense)              (None, 1)                 9         \n",
      "=================================================================\n",
      "Total params: 8,809\n",
      "Trainable params: 8,809\n",
      "Non-trainable params: 0\n",
      "_________________________________________________________________\n"
     ]
    }
   ],
   "source": [
    "# LSTM 신경망 만들기\n",
    "from tensorflow import keras\n",
    "model = keras.Sequential()\n",
    "model.add(keras.layers.Embedding(500, 16, input_length=100))\n",
    "model.add(keras.layers.LSTM(8))\n",
    "model.add(keras.layers.Dense(1, activation='sigmoid'))\n",
    "model.summary()"
   ]
  },
  {
   "cell_type": "code",
   "execution_count": null,
   "id": "2831cd7d",
   "metadata": {},
   "outputs": [],
   "source": [
    "rmsprop = keras.optimizers.RMSprop(learning_rate=1e-4)\n",
    "model.compile(optimizer = rmsprop, loss='binary_crossentropy', metrics=['accuracy'])\n",
    "checkpoint_cb = keras.callbacks.ModelCheckpoint('best-simplernn-model.h5', save_best_only=True)\n",
    "early_stopping_cb = keras.callbacks.EarlyStopping(patience=3, restore_best_weights=True)\n",
    "history = model.fit(train_seq, train_target, epochs=100, batch_size=64, validation_data=(val_seq, val_target), callbacks=[checkpoint_cb, early_stopping_cb])"
   ]
  },
  {
   "cell_type": "code",
   "execution_count": 5,
   "id": "020edde7",
   "metadata": {},
   "outputs": [],
   "source": [
    "# 드롭아웃 적용하기\n",
    "model2 = keras.Sequential()\n",
    "model2.add(keras.layers.Embedding(500,16, input_length=100))\n",
    "model2.add(keras.layers.LSTM(8, dropout=0.3))\n",
    "model2.add(keras.layers.Dense(1, activation='sigmoid'))"
   ]
  },
  {
   "cell_type": "code",
   "execution_count": null,
   "id": "8c1a519c",
   "metadata": {},
   "outputs": [],
   "source": [
    "rmsprop = keras.optimizers.RMSprop(learning_rate=1e-4)\n",
    "model2.compile(optimizer = rmsprop, loss='binary_crossentropy', metrics=['accuracy'])\n",
    "checkpoint_cb = keras.callbacks.ModelCheckpoint('best-simplernn-model.h5', save_best_only=True)\n",
    "early_stopping_cb = keras.callbacks.EarlyStopping(patience=3, restore_best_weights=True)\n",
    "history = model2.fit(train_oh, train_target, epochs=100, batch_size=64, validation_data=(val_seq, val_target), callbacks=[checkpoint_cb, early_stopping_cb])"
   ]
  },
  {
   "cell_type": "code",
   "execution_count": 7,
   "id": "1c94aa15",
   "metadata": {},
   "outputs": [
    {
     "name": "stdout",
     "output_type": "stream",
     "text": [
      "Model: \"sequential_4\"\n",
      "_________________________________________________________________\n",
      "Layer (type)                 Output Shape              Param #   \n",
      "=================================================================\n",
      "embedding_4 (Embedding)      (None, 100, 16)           8000      \n",
      "_________________________________________________________________\n",
      "lstm_5 (LSTM)                (None, 100, 8)            800       \n",
      "_________________________________________________________________\n",
      "lstm_6 (LSTM)                (None, 8)                 544       \n",
      "_________________________________________________________________\n",
      "dense_4 (Dense)              (None, 1)                 9         \n",
      "=================================================================\n",
      "Total params: 9,353\n",
      "Trainable params: 9,353\n",
      "Non-trainable params: 0\n",
      "_________________________________________________________________\n"
     ]
    }
   ],
   "source": [
    "model3 = keras.Sequential()\n",
    "model3.add(keras.layers.Embedding(500,16, input_length=100))\n",
    "model3.add(keras.layers.LSTM(8, dropout=0.3, return_sequences=True))\n",
    "model3.add(keras.layers.LSTM(8, dropout=0.3))\n",
    "model3.add(keras.layers.Dense(1, activation='sigmoid'))\n",
    "model3.summary()"
   ]
  },
  {
   "cell_type": "code",
   "execution_count": null,
   "id": "f5dd99a0",
   "metadata": {},
   "outputs": [],
   "source": [
    "rmsprop = keras.optimizers.RMSprop(learning_rate=1e-4)\n",
    "model3.compile(optimizer = rmsprop, loss='binary_crossentropy', metrics=['accuracy'])\n",
    "checkpoint_cb = keras.callbacks.ModelCheckpoint('best-simplernn-model.h5', save_best_only=True)\n",
    "early_stopping_cb = keras.callbacks.EarlyStopping(patience=3, restore_best_weights=True)\n",
    "history = model.fit(train_seq, train_target, epochs=100, batch_size=64, validation_data=(val_seq, val_target), callbacks=[checkpoint_cb, early_stopping_cb])"
   ]
  },
  {
   "cell_type": "code",
   "execution_count": 8,
   "id": "6268fa2c",
   "metadata": {},
   "outputs": [
    {
     "name": "stdout",
     "output_type": "stream",
     "text": [
      "Model: \"sequential_5\"\n",
      "_________________________________________________________________\n",
      "Layer (type)                 Output Shape              Param #   \n",
      "=================================================================\n",
      "embedding_5 (Embedding)      (None, 100, 16)           8000      \n",
      "_________________________________________________________________\n",
      "gru (GRU)                    (None, 8)                 624       \n",
      "_________________________________________________________________\n",
      "dense_5 (Dense)              (None, 1)                 9         \n",
      "=================================================================\n",
      "Total params: 8,633\n",
      "Trainable params: 8,633\n",
      "Non-trainable params: 0\n",
      "_________________________________________________________________\n"
     ]
    }
   ],
   "source": [
    "# GRU 신경망 만들기\n",
    "model4 = keras.Sequential()\n",
    "model4.add(keras.layers.Embedding(500,16,input_length=100))\n",
    "model4.add(keras.layers.GRU(8))\n",
    "model4.add(keras.layers.Dense(1, activation='sigmoid'))\n",
    "model4.summary()"
   ]
  },
  {
   "cell_type": "code",
   "execution_count": null,
   "id": "e2ce47ac",
   "metadata": {},
   "outputs": [],
   "source": [
    "rmsprop = keras.optimizers.RMSprop(learning_rate=1e-4)\n",
    "model4.compile(optimizer = rmsprop, loss='binary_crossentropy', metrics=['accuracy'])\n",
    "checkpoint_cb = keras.callbacks.ModelCheckpoint('best-simplernn-model.h5', save_best_only=True)\n",
    "early_stopping_cb = keras.callbacks.EarlyStopping(patience=3, restore_best_weights=True)\n",
    "history = model4.fit(train_seq, train_target, epochs=100, batch_size=64, validation_data=(val_seq, val_target), callbacks=[checkpoint_cb, early_stopping_cb])"
   ]
  },
  {
   "cell_type": "code",
   "execution_count": null,
   "id": "5f45bca4",
   "metadata": {},
   "outputs": [],
   "source": [
    "test_seq = pad_sequences(test_input, maxlen=100)\n",
    "rnn_model = keras.models.load_model('best-2rnn-model.h5')\n",
    "rnn_model.evaluate(test_seq, test_target)"
   ]
  }
 ],
 "metadata": {
  "kernelspec": {
   "display_name": "Python 3 (ipykernel)",
   "language": "python",
   "name": "python3"
  },
  "language_info": {
   "codemirror_mode": {
    "name": "ipython",
    "version": 3
   },
   "file_extension": ".py",
   "mimetype": "text/x-python",
   "name": "python",
   "nbconvert_exporter": "python",
   "pygments_lexer": "ipython3",
   "version": "3.9.7"
  }
 },
 "nbformat": 4,
 "nbformat_minor": 5
}
