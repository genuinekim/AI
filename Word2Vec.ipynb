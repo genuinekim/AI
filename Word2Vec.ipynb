{
 "cells": [
  {
   "cell_type": "markdown",
   "id": "9dd3afe2",
   "metadata": {},
   "source": [
    "## 1. 데이터 준비"
   ]
  },
  {
   "cell_type": "code",
   "execution_count": null,
   "id": "ca68fe80",
   "metadata": {},
   "outputs": [],
   "source": [
    "# gensim 패키지는 워드벡터를 다루는데 유용함.\n",
    "import os\n",
    "import numpy as np\n",
    "from gensim.models import KeyedVectors\n",
    "\n",
    "word2vec_path = os.getenv('HOME') + '/aiffel/sentiment_classification/data/GoogleNews-vectors-negative300.bin.gz'\n",
    "word2vec = KeyedVectors.load_word2vec_format( word2vec_path, binary=True, limit=1000000 )  \n",
    "# 가장 많이 사용되는 상위 100만개만 limt으로 조건을 주어 로딩\n",
    "\n",
    "vocab_size = 10000    # 어휘 사전의 크기 (10,000개의 단어)\n",
    "word_vector_dim = 300  # 워드 벡터의 차원수\n",
    "embedding_matrix = np.random.rand( vocab_size, word_vector_dim )\n",
    "\n",
    "# embedding_matrix에 Word2Vec의 단어를 카피함.\n",
    "for i in range( 4, vocab_size ):\n",
    "    if  index_to_word[ i ]  in  word2vec:\n",
    "        embedding_matrix[ i ] = word2vec[ index_to_word[ i ] ]"
   ]
  },
  {
   "cell_type": "markdown",
   "id": "cee35b86",
   "metadata": {},
   "source": [
    "## 2. 모델 구성"
   ]
  },
  {
   "cell_type": "code",
   "execution_count": null,
   "id": "550c12e3",
   "metadata": {},
   "outputs": [],
   "source": [
    "from tensorflow.keras.initializers import Constant\n",
    "\n",
    "model = tf.keras.Sequential()\n",
    "model.add(tf.keras.layers.Embedding(vocab_size, \n",
    "                                    word_vector_dim, \n",
    "                                    embeddings_initializer=Constant(embedding_matrix),\n",
    "                                    input_length=maxlen, \n",
    "                                     trainable=True))   # trainable을 True로 주면 Fine-tuning\n",
    "\n",
    "model.add(tf.keras.layers.Conv1D(16, 7, activation='relu'))\n",
    "model.add(tf.keras.layers.MaxPooling1D(5))\n",
    "\n",
    "model.add(tf.keras.layers.Conv1D(16, 7, activation='relu'))\n",
    "model.add(tf.keras.layers.GlobalMaxPooling1D())\n",
    "\n",
    "model.add(tf.keras.layers.Dense(8, activation='relu'))\n",
    "model.add(tf.keras.layers.Dense(1, activation='sigmoid')) \n",
    "\n",
    "model.summary()"
   ]
  },
  {
   "cell_type": "markdown",
   "id": "97fa3953",
   "metadata": {},
   "source": [
    "## 3. 모델 학습"
   ]
  },
  {
   "cell_type": "code",
   "execution_count": null,
   "id": "43cc7c59",
   "metadata": {},
   "outputs": [],
   "source": [
    "model.compile(optimizer='adam',\n",
    "              loss='binary_crossentropy',\n",
    "               metrics=['accuracy']) \n",
    "\n",
    "history = model.fit(partial_x_train,\n",
    "                    partial_y_train,\n",
    "                    epochs=20,\n",
    "                    batch_size=512,\n",
    "                    validation_data=( x_val, y_val ),\n",
    "                    verbose=1)"
   ]
  },
  {
   "cell_type": "markdown",
   "id": "2f7a2eef",
   "metadata": {},
   "source": [
    "## 4. 모델 평가"
   ]
  },
  {
   "cell_type": "code",
   "execution_count": null,
   "id": "502a126c",
   "metadata": {},
   "outputs": [],
   "source": [
    "results = model.evaluate( x_test,  y_test, verbose=2 )\n",
    "print(results)"
   ]
  },
  {
   "cell_type": "code",
   "execution_count": null,
   "id": "805f0caa",
   "metadata": {},
   "outputs": [],
   "source": [
    "history_dict = history.history \n",
    "print(history_dict.keys())\n",
    "\n",
    "import matplotlib.pyplot as plt\n",
    "acc = history_dict['accuracy']\n",
    "val_acc = history_dict['val_accuracy']\n",
    "loss = history_dict['loss']\n",
    "val_loss = history_dict['val_loss']\n",
    "epochs = range(1, len(acc) + 1)\n",
    "\n",
    "plt.plot( epochs, acc, 'bo', label='Training acc' )\n",
    "plt.plot( epochs, val_acc, 'b', label='Validation acc' )\n",
    "plt.plot( epochs, loss, 'bo', label='Training loss' )\n",
    "plt.plot( epochs, val_loss, 'b', label='Validation loss' )\n",
    "plt.legend()\n",
    "plt.show()"
   ]
  }
 ],
 "metadata": {
  "kernelspec": {
   "display_name": "Python 3 (ipykernel)",
   "language": "python",
   "name": "python3"
  },
  "language_info": {
   "codemirror_mode": {
    "name": "ipython",
    "version": 3
   },
   "file_extension": ".py",
   "mimetype": "text/x-python",
   "name": "python",
   "nbconvert_exporter": "python",
   "pygments_lexer": "ipython3",
   "version": "3.9.7"
  }
 },
 "nbformat": 4,
 "nbformat_minor": 5
}
