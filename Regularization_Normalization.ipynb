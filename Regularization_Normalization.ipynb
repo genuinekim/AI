{
 "cells": [
  {
   "cell_type": "code",
   "execution_count": 1,
   "id": "e035331c",
   "metadata": {},
   "outputs": [],
   "source": [
    "from sklearn.datasets import load_iris\n",
    "import pandas as pd\n",
    "import matplotlib.pyplot as plt"
   ]
  },
  {
   "cell_type": "code",
   "execution_count": 2,
   "id": "53cc1078",
   "metadata": {},
   "outputs": [],
   "source": [
    "iris = load_iris()\n",
    "iris_df = pd.DataFrame( data=iris.data, columns=iris.feature_names )\n",
    "target_df = pd.DataFrame( data=iris.target, columns=['species'])"
   ]
  },
  {
   "cell_type": "code",
   "execution_count": 3,
   "id": "9cbe87fb",
   "metadata": {},
   "outputs": [],
   "source": [
    "# 0, 1, 2로 되어있는 target 데이터를 'setosa', 'versicolor', 'virginica'로 바꿈.\n",
    "def converter(species):\n",
    "    if species == 0:\n",
    "        return 'setosa'\n",
    "    elif species == 1:\n",
    "        return 'versicolor'\n",
    "    else:\n",
    "        return 'virginica'"
   ]
  },
  {
   "cell_type": "code",
   "execution_count": 4,
   "id": "326bd82a",
   "metadata": {},
   "outputs": [
    {
     "data": {
      "text/html": [
       "<div>\n",
       "<style scoped>\n",
       "    .dataframe tbody tr th:only-of-type {\n",
       "        vertical-align: middle;\n",
       "    }\n",
       "\n",
       "    .dataframe tbody tr th {\n",
       "        vertical-align: top;\n",
       "    }\n",
       "\n",
       "    .dataframe thead th {\n",
       "        text-align: right;\n",
       "    }\n",
       "</style>\n",
       "<table border=\"1\" class=\"dataframe\">\n",
       "  <thead>\n",
       "    <tr style=\"text-align: right;\">\n",
       "      <th></th>\n",
       "      <th>sepal length (cm)</th>\n",
       "      <th>sepal width (cm)</th>\n",
       "      <th>petal length (cm)</th>\n",
       "      <th>petal width (cm)</th>\n",
       "      <th>species</th>\n",
       "    </tr>\n",
       "  </thead>\n",
       "  <tbody>\n",
       "    <tr>\n",
       "      <th>0</th>\n",
       "      <td>5.1</td>\n",
       "      <td>3.5</td>\n",
       "      <td>1.4</td>\n",
       "      <td>0.2</td>\n",
       "      <td>setosa</td>\n",
       "    </tr>\n",
       "    <tr>\n",
       "      <th>1</th>\n",
       "      <td>4.9</td>\n",
       "      <td>3.0</td>\n",
       "      <td>1.4</td>\n",
       "      <td>0.2</td>\n",
       "      <td>setosa</td>\n",
       "    </tr>\n",
       "    <tr>\n",
       "      <th>2</th>\n",
       "      <td>4.7</td>\n",
       "      <td>3.2</td>\n",
       "      <td>1.3</td>\n",
       "      <td>0.2</td>\n",
       "      <td>setosa</td>\n",
       "    </tr>\n",
       "    <tr>\n",
       "      <th>3</th>\n",
       "      <td>4.6</td>\n",
       "      <td>3.1</td>\n",
       "      <td>1.5</td>\n",
       "      <td>0.2</td>\n",
       "      <td>setosa</td>\n",
       "    </tr>\n",
       "    <tr>\n",
       "      <th>4</th>\n",
       "      <td>5.0</td>\n",
       "      <td>3.6</td>\n",
       "      <td>1.4</td>\n",
       "      <td>0.2</td>\n",
       "      <td>setosa</td>\n",
       "    </tr>\n",
       "  </tbody>\n",
       "</table>\n",
       "</div>"
      ],
      "text/plain": [
       "   sepal length (cm)  sepal width (cm)  petal length (cm)  petal width (cm)  \\\n",
       "0                5.1               3.5                1.4               0.2   \n",
       "1                4.9               3.0                1.4               0.2   \n",
       "2                4.7               3.2                1.3               0.2   \n",
       "3                4.6               3.1                1.5               0.2   \n",
       "4                5.0               3.6                1.4               0.2   \n",
       "\n",
       "  species  \n",
       "0  setosa  \n",
       "1  setosa  \n",
       "2  setosa  \n",
       "3  setosa  \n",
       "4  setosa  "
      ]
     },
     "execution_count": 4,
     "metadata": {},
     "output_type": "execute_result"
    }
   ],
   "source": [
    "target_df['species'] = target_df['species'].apply(converter)\n",
    "\n",
    "iris_df = pd.concat([iris_df, target_df], axis=1)\n",
    "iris_df.head()"
   ]
  },
  {
   "cell_type": "code",
   "execution_count": 7,
   "id": "d5a2e481",
   "metadata": {},
   "outputs": [
    {
     "name": "stdout",
     "output_type": "stream",
     "text": [
      "petal length(꽃잎 길이) [6.0, 5.1, 5.9, 5.6, 5.8, 6.6, 4.5, 6.3, 5.8, 6.1, 5.1, 5.3, 5.5, 5.0, 5.1, 5.3, 5.5, 6.7, 6.9, 5.0, 5.7, 4.9, 6.7, 4.9, 5.7, 6.0, 4.8, 4.9, 5.6, 5.8, 6.1, 6.4, 5.6, 5.1, 5.6, 6.1, 5.6, 5.5, 4.8, 5.4, 5.6, 5.1, 5.1, 5.9, 5.7, 5.2, 5.0, 5.2, 5.4, 5.1]\n",
      "sepal length(꽃받침의 길이) [6.3, 5.8, 7.1, 6.3, 6.5, 7.6, 4.9, 7.3, 6.7, 7.2, 6.5, 6.4, 6.8, 5.7, 5.8, 6.4, 6.5, 7.7, 7.7, 6.0, 6.9, 5.6, 7.7, 6.3, 6.7, 7.2, 6.2, 6.1, 6.4, 7.2, 7.4, 7.9, 6.4, 6.3, 6.1, 7.7, 6.3, 6.4, 6.0, 6.9, 6.7, 6.9, 5.8, 6.8, 6.7, 6.7, 6.3, 6.5, 6.2, 5.9]\n"
     ]
    }
   ],
   "source": [
    "X = [iris_df['petal length (cm)'][a] for a in iris_df.index if iris_df['species'][a]=='virginica']\n",
    "Y = [iris_df['sepal length (cm)'][a] for a in iris_df.index if iris_df['species'][a]=='virginica']\n",
    "# iris data 중 virginica라는 종의 petal length(꽃잎 길이)를 X, sepal length(꽃받침의 길이)를 Y로 둠.\n",
    "\n",
    "print(\"petal length(꽃잎 길이)\",X)\n",
    "print(\"sepal length(꽃받침의 길이)\",Y)"
   ]
  },
  {
   "cell_type": "code",
   "execution_count": 8,
   "id": "76f56381",
   "metadata": {},
   "outputs": [
    {
     "data": {
      "image/png": "[encoded data removed]",
      "text/plain": [
       "<Figure size 360x360 with 1 Axes>"
      ]
     },
     "metadata": {
      "needs_background": "light"
     },
     "output_type": "display_data"
    }
   ],
   "source": [
    "plt.figure(figsize=(5,5))\n",
    "plt.scatter(X,Y)\n",
    "plt.title('petal-sepal scatter before normalization')\n",
    "plt.xlabel('petal length (cm)')\n",
    "plt.ylabel('sepal length (cm)')\n",
    "plt.grid()\n",
    "plt.show()\n",
    "# 아직 Normalization을 하지 않았기 때문에 x축과 y축은 각각의 최솟값과 최댓값의 범위로 그려짐."
   ]
  },
  {
   "cell_type": "code",
   "execution_count": 9,
   "id": "f57cb734",
   "metadata": {},
   "outputs": [
    {
     "data": {
      "image/png": "[encoded data removed]",
      "text/plain": [
       "<Figure size 360x360 with 1 Axes>"
      ]
     },
     "metadata": {
      "needs_background": "light"
     },
     "output_type": "display_data"
    }
   ],
   "source": [
    "# 0~1로 normalization을 해주는 minmax_scale를 이용해서 산점도를 다시 한번 그려봄.\n",
    "from sklearn.preprocessing import minmax_scale\n",
    "\n",
    "X_scale = minmax_scale(X)\n",
    "Y_scale = minmax_scale(Y)\n",
    "\n",
    "plt.figure(figsize=(5,5))\n",
    "plt.scatter(X_scale, Y_scale)\n",
    "plt.title('petal-sepla scatter after normalization')\n",
    "plt.xlabel('petal length (cm)')\n",
    "plt.ylabel('sepal length (cm)')\n",
    "plt.grid()\n",
    "plt.show()\n",
    "# 가장 큰 값을 1, 가장 작은 값을 0으로 하여 축 범위가 바뀜"
   ]
  },
  {
   "cell_type": "code",
   "execution_count": 10,
   "id": "e31c0837",
   "metadata": {},
   "outputs": [
    {
     "name": "stdout",
     "output_type": "stream",
     "text": [
      "기울기 : 1.00, 절편: 1.06\n"
     ]
    }
   ],
   "source": [
    "from sklearn.linear_model import LinearRegression\n",
    "import numpy as np\n",
    "\n",
    "X = np.array(X)\n",
    "Y = np.array(Y)\n",
    "\n",
    "# Iris Dataset을 Linear Regression으로 학습함.\n",
    "linear = LinearRegression()\n",
    "linear.fit(X.reshape(-1,1), Y)\n",
    "\n",
    "# Linear Regression의 기울기와 절편을 확인함.\n",
    "a, b = linear.coef_, linear.intercept_\n",
    "print(\"기울기 : %0.2f, 절편: %0.2f\" %(a,b))"
   ]
  },
  {
   "cell_type": "code",
   "execution_count": 11,
   "id": "37fef83c",
   "metadata": {},
   "outputs": [
    {
     "data": {
      "image/png": "[encoded data removed]",
      "text/plain": [
       "<Figure size 360x360 with 1 Axes>"
      ]
     },
     "metadata": {
      "needs_background": "light"
     },
     "output_type": "display_data"
    }
   ],
   "source": [
    "plt.figure(figsize=(5,5))\n",
    "plt.scatter(X,Y)\n",
    "plt.plot(X, linear.predict(X.reshape(-1,1)), '-b')\n",
    "plt.title('petal-sepal scatter with linear regression')\n",
    "plt.xlabel('petal length (cm)')\n",
    "plt.ylabel('sepal length (cm)')\n",
    "plt.grid()\n",
    "plt.show()"
   ]
  },
  {
   "cell_type": "code",
   "execution_count": 13,
   "id": "a8036c61",
   "metadata": {},
   "outputs": [
    {
     "name": "stdout",
     "output_type": "stream",
     "text": [
      "기울기: 0.00, 절편: 6.59\n"
     ]
    },
    {
     "data": {
      "image/png": "[encoded data removed]",
      "text/plain": [
       "<Figure size 360x360 with 1 Axes>"
      ]
     },
     "metadata": {
      "needs_background": "light"
     },
     "output_type": "display_data"
    }
   ],
   "source": [
    "# L1 regularization인 Lasso\n",
    "from sklearn.linear_model import Lasso\n",
    "\n",
    "L1 = Lasso()\n",
    "L1.fit(X.reshape(-1,1),Y)\n",
    "a, b = L1.coef_, L1.intercept_\n",
    "print(\"기울기: %0.2f, 절편: %0.2f\" %(a,b))\n",
    "\n",
    "plt.figure(figsize=(5,5))\n",
    "plt.scatter(X,Y)\n",
    "plt.plot(X, L1.predict(X.reshape(-1,1)), '-b')\n",
    "plt.title('petal-sepal scatter with L1 regularization(Lasso)')\n",
    "plt.xlabel('petal length (cm)')\n",
    "plt.ylabel('sepal length (cm)')\n",
    "plt.grid()\n",
    "plt.show()\n",
    "# 기울기가 0으로 나옴. Lasso 방법은 제대로 문제를 풀어내지 못함."
   ]
  },
  {
   "cell_type": "code",
   "execution_count": 14,
   "id": "6e9777b2",
   "metadata": {},
   "outputs": [
    {
     "name": "stdout",
     "output_type": "stream",
     "text": [
      "기울기 : 0.93, 절편 : 1.41\n"
     ]
    },
    {
     "data": {
      "image/png": "[encoded data removed]",
      "text/plain": [
       "<Figure size 360x360 with 1 Axes>"
      ]
     },
     "metadata": {
      "needs_background": "light"
     },
     "output_type": "display_data"
    }
   ],
   "source": [
    "# L2 regularization인 Ridge\n",
    "\n",
    "from sklearn.linear_model import Ridge\n",
    "\n",
    "L2 = Ridge()\n",
    "L2.fit(X.reshape(-1,1), Y)\n",
    "a,b = L2.coef_, L2.intercept_\n",
    "print(\"기울기 : %0.2f, 절편 : %0.2f\" %(a,b))\n",
    "\n",
    "plt.figure(figsize=(5,5))\n",
    "plt.scatter(X,Y)\n",
    "plt.plot(X,L2.predict(X.reshape(-1,1)),'-b')\n",
    "plt.title('petal-sepal scatter with L2 regularization(Ridge)') \n",
    "plt.xlabel('petal length (cm)')\n",
    "plt.ylabel('sepal length (cm)')\n",
    "plt.grid()\n",
    "plt.show()\n",
    "# 앞서 Linear Regression과 큰 차이가 없는 결과가 나옴."
   ]
  },
  {
   "cell_type": "code",
   "execution_count": 15,
   "id": "7a13d005",
   "metadata": {},
   "outputs": [],
   "source": [
    "from skelarn.datasets import load_wine\n",
    "\n",
    "wine = load_wine()\n",
    "wine_df = pd.DataFrame(data=wine.data, columns=wine.feature_names)\n",
    "target_df = pd.DataFrame(data=wine.target, columns=['Y'])"
   ]
  },
  {
   "cell_type": "code",
   "execution_count": 18,
   "id": "401ab0b3",
   "metadata": {},
   "outputs": [
    {
     "name": "stdout",
     "output_type": "stream",
     "text": [
      "result of linear regression\n",
      "Mean Absolute Error: 0.25128973939722626\n",
      "Mean Squared Error: 0.1062458740952556\n",
      "Mean Root Squared Error: 0.32595379134971814\n",
      "\n",
      "\n",
      " coefficient linear regression\n",
      "[[-8.09017190e-02  4.34817880e-02 -1.18857931e-01  3.65705449e-02\n",
      "  -4.68014203e-04  1.41423581e-01 -4.54107854e-01 -5.13172664e-01\n",
      "   9.69318443e-02  5.34311136e-02 -1.27626604e-01 -2.91381844e-01\n",
      "  -5.72238959e-04]]\n"
     ]
    }
   ],
   "source": [
    "# Linear regression 으로 문제를 풀고, 그 계수(coefficient)와 절대 오차(mean absolute error), 제곱 오차(mean squared error), 평균 제곱값 오차(root mean squared error)를 출력\n",
    "from sklearn.model_selection import train_test_split\n",
    "from sklearn.linear_model import LinearRegression\n",
    "from sklearn.metrics import mean_absolute_error, mean_squared_error\n",
    "\n",
    "X_train, X_test, y_train, y_test = train_test_split(wine_df, target_df, test_size=0.3, random_state=101)\n",
    "\n",
    "model = LinearRegression()\n",
    "model.fit(X_train, y_train)\n",
    "\n",
    "pred = model.predict(X_test)\n",
    "\n",
    "print(\"result of linear regression\")\n",
    "print('Mean Absolute Error:', mean_absolute_error(y_test, pred))\n",
    "print('Mean Squared Error:', mean_squared_error(y_test, pred))\n",
    "print('Mean Root Squared Error:', np.sqrt(mean_squared_error(y_test, pred)))\n",
    "\n",
    "print(\"\\n\\n coefficient linear regression\")\n",
    "print(model.coef_)"
   ]
  },
  {
   "cell_type": "code",
   "execution_count": 20,
   "id": "0828fece",
   "metadata": {},
   "outputs": [
    {
     "name": "stdout",
     "output_type": "stream",
     "text": [
      "result of Lasso\n",
      "Mean Absolute Error: 0.24233731936122138\n",
      "Mean Squared Error: 0.0955956894578189\n",
      "Mean Root Squared Error: 0.3091855259513597\n",
      "\n",
      "\n",
      " coefficient of Lasso\n",
      "[-0.          0.01373795 -0.          0.03065716  0.00154719 -0.\n",
      " -0.34143614 -0.          0.          0.06755943 -0.         -0.14558153\n",
      " -0.00089635]\n"
     ]
    }
   ],
   "source": [
    "# L1 regularization\n",
    "from sklearn.linear_model import Lasso\n",
    "from sklearn.metrics import mean_absolute_error, mean_squared_error\n",
    "\n",
    "L1 = Lasso(alpha=0.05)\n",
    "L1.fit(X_train, y_train)\n",
    "\n",
    "pred = L1.predict(X_test)\n",
    "\n",
    "print(\"result of Lasso\")\n",
    "print('Mean Absolute Error:', mean_absolute_error(y_test, pred))\n",
    "print('Mean Squared Error:', mean_squared_error(y_test, pred))\n",
    "print('Mean Root Squared Error:', np.sqrt(mean_squared_error(y_test, pred)))\n",
    "\n",
    "print(\"\\n\\n coefficient of Lasso\")\n",
    "print(L1.coef_)"
   ]
  },
  {
   "cell_type": "code",
   "execution_count": 22,
   "id": "04afff37",
   "metadata": {},
   "outputs": [],
   "source": [
    "from sklearn.datasets import load_wine\n",
    "import pandas as pd\n",
    "import numpy as np\n",
    "from sklearn.model_selection import train_test_split\n",
    "from sklearn.metrics import mean_absolute_error, mean_squared_error\n",
    "\n",
    "wine = load_wine()\n",
    "wine_df = pd.DataFrame(data=wine.data, columns=wine.feature_names)\n",
    "target_df = pd.DataFrame(data=wine.target, columns=['Y'])\n",
    "X_train, X_test, y_train, y_test = train_test_split(wine_df, target_df, test_size= 0.3, random_state=101)"
   ]
  },
  {
   "cell_type": "code",
   "execution_count": 23,
   "id": "572f6d19",
   "metadata": {},
   "outputs": [
    {
     "name": "stdout",
     "output_type": "stream",
     "text": [
      "result of Lasso\n",
      "Mean Absolute Error: 0.24845768841769436\n",
      "Mean Squared Error: 0.10262989110341268\n",
      "Mean Root Squared Error: 0.32035900346862844\n",
      "\n",
      "\n",
      " coefficient of Lasso\n",
      "[-0.          0.         -0.          0.03295564  0.00109495  0.\n",
      " -0.4027847   0.          0.          0.06023131 -0.         -0.12001119\n",
      " -0.00078971]\n"
     ]
    },
    {
     "name": "stderr",
     "output_type": "stream",
     "text": [
      "/opt/conda/lib/python3.9/site-packages/sklearn/linear_model/_coordinate_descent.py:645: ConvergenceWarning: Objective did not converge. You might want to increase the number of iterations, check the scale of the features or consider increasing regularisation. Duality gap: 3.924e+00, tolerance: 7.480e-03\n",
      "  model = cd_fast.enet_coordinate_descent(\n"
     ]
    }
   ],
   "source": [
    "from sklearn.linear_model import Lasso\n",
    "\n",
    "L1 = Lasso(alpha=0.05, max_iter=5)\n",
    "L1.fit(X_train, y_train)\n",
    "pred = L1.predict(X_test)\n",
    "\n",
    "print(\"result of Lasso\")\n",
    "print('Mean Absolute Error:', mean_absolute_error(y_test, pred))\n",
    "print('Mean Squared Error:', mean_squared_error(y_test, pred))\n",
    "print('Mean Root Squared Error:', np.sqrt(mean_squared_error(y_test, pred)))\n",
    "\n",
    "print(\"\\n\\n coefficient of Lasso\")\n",
    "print(L1.coef_)\n",
    "# 수렴하지 않았다는 경고가 나옴. 이는 아직 다른 조건들을 만족하는 답을 찾지 못했다는 뜻임."
   ]
  },
  {
   "cell_type": "code",
   "execution_count": 25,
   "id": "af19524d",
   "metadata": {},
   "outputs": [
    {
     "name": "stdout",
     "output_type": "stream",
     "text": [
      "result of Ridge\n",
      "Mean Absolute Error: 0.251146695993643\n",
      "Mean Squared Error: 0.10568076460795564\n",
      "Mean Root Squared Error: 0.3250857803841251\n",
      "\n",
      "\n",
      " coefficient of Ridge\n",
      "[[-8.12456257e-02  4.35541496e-02 -1.21661565e-01  3.65979773e-02\n",
      "  -3.94014013e-04  1.39168707e-01 -4.50691113e-01 -4.87216747e-01\n",
      "   9.54111059e-02  5.37077039e-02 -1.28602933e-01 -2.89832790e-01\n",
      "  -5.73136185e-04]]\n"
     ]
    }
   ],
   "source": [
    "from sklearn.linear_model import Ridge\n",
    "\n",
    "L2 = Ridge(alpha=0.05,max_iter=5)\n",
    "L2.fit(X_train, y_train)\n",
    "pred = L2.predict(X_test)\n",
    "\n",
    "print(\"result of Ridge\")\n",
    "print('Mean Absolute Error:', mean_absolute_error(y_test, pred))\n",
    "print('Mean Squared Error:', mean_squared_error(y_test, pred))\n",
    "print('Mean Root Squared Error:', np.sqrt(mean_squared_error(y_test, pred)))\n",
    "\n",
    "print(\"\\n\\n coefficient of Ridge\")\n",
    "print(L2.coef_)"
   ]
  },
  {
   "cell_type": "code",
   "execution_count": 3,
   "id": "99a0b114",
   "metadata": {},
   "outputs": [],
   "source": [
    "import tensorflow as tf\n",
    "from tensorflow import keras\n",
    "import numpy as np\n",
    "import matplotlib.pyplot as plt\n",
    "from sklearn.model_selection import train_test_split\n",
    "\n",
    "fashion_mnist = keras.datasets.fashion_mnist"
   ]
  },
  {
   "cell_type": "code",
   "execution_count": 6,
   "id": "6c31d270",
   "metadata": {},
   "outputs": [],
   "source": [
    "(train_images, train_labels), (test_images, test_labels) = fashion_mnist.load_data()\n",
    "class_names = ['T-shirt/top', 'Trouser', 'Pullover', 'Dress', 'Coat',\n",
    "               'Sandal', 'Shirt', 'Sneaker', 'Bag', 'Ankle boot']\n",
    "\n",
    "train_images = train_images / 255.0\n",
    "test_images = test_images / 255.0"
   ]
  },
  {
   "cell_type": "code",
   "execution_count": 29,
   "id": "cb8905c9",
   "metadata": {},
   "outputs": [
    {
     "name": "stdout",
     "output_type": "stream",
     "text": [
      "Epoch 1/5\n",
      "1875/1875 [==============================] - 5s 2ms/step - loss: 1.4051 - accuracy: 0.4609\n",
      "Epoch 2/5\n",
      "1875/1875 [==============================] - 4s 2ms/step - loss: 1.1800 - accuracy: 0.5282\n",
      "Epoch 3/5\n",
      "1875/1875 [==============================] - 4s 2ms/step - loss: 1.1316 - accuracy: 0.5433\n",
      "Epoch 4/5\n",
      "1875/1875 [==============================] - 9s 5ms/step - loss: 1.1022 - accuracy: 0.5568\n",
      "Epoch 5/5\n",
      "1875/1875 [==============================] - 10s 5ms/step - loss: 1.0886 - accuracy: 0.5592\n"
     ]
    }
   ],
   "source": [
    "model = keras.Sequential([\n",
    "    keras.layers.Flatten(input_shape=(28, 28)),\n",
    "    keras.layers.Dense(128, activation='relu'),\n",
    "    # 여기에 dropout layer를 추가 (dropout의 확률을 0.9로 줌.)\n",
    "    keras.layers.Dropout(0.9),\n",
    "    keras.layers.Dense(10, activation='softmax')\n",
    "])\n",
    "\n",
    "model.compile(optimizer='adam',loss='sparse_categorical_crossentropy',\n",
    "              metrics=['accuracy'])\n",
    "\n",
    "history= model.fit(train_images, train_labels, epochs=5)"
   ]
  },
  {
   "cell_type": "code",
   "execution_count": 7,
   "id": "aa66181f",
   "metadata": {},
   "outputs": [],
   "source": [
    "X_train, X_valid, y_train, y_valid = train_test_split(train_images, train_labels, test_size=0.01, random_state=101)\n",
    "X_train = X_train / 255.0\n",
    "X_valid = X_valid / 255.0\n",
    "\n",
    "# Dense layer만으로 만들어 낸 classification 모델\n",
    "model = keras.Sequential([\n",
    "    keras.layers.Flatten(input_shape=(28, 28)),\n",
    "    keras.layers.Dense(256, activation='relu'),\n",
    "    keras.layers.Dense(10, activation='softmax')\n",
    "])\n",
    "\n",
    "model.compile(optimizer='adam',loss='sparse_categorical_crossentropy',\n",
    "              metrics=['accuracy'])\n",
    "\n",
    "history= model.fit(X_train, y_train, epochs=100, batch_size=512, validation_data=(X_valid, y_valid)) # 의도적으로 오버피팅이 되도록 함."
   ]
  },
  {
   "cell_type": "code",
   "execution_count": 31,
   "id": "1153e03e",
   "metadata": {},
   "outputs": [
    {
     "data": {
      "image/png": "[encoded data removed]",
      "text/plain": [
       "<Figure size 432x288 with 1 Axes>"
      ]
     },
     "metadata": {
      "needs_background": "light"
     },
     "output_type": "display_data"
    }
   ],
   "source": [
    "# loss 값\n",
    "y_vloss = history.history['val_loss']\n",
    "y_loss = history.history['loss']\n",
    "x_len = np.arange(len(y_loss))\n",
    "\n",
    "plt.plot(x_len, y_vloss, marker='.', c='red', label=\"Validation-set Loss\")\n",
    "plt.plot(x_len, y_loss, marker='.', c='blue', label=\"Train-set Loss\")\n",
    "plt.legend(loc='upper right')\n",
    "plt.grid()\n",
    "plt.title('Loss graph without dropout layer') \n",
    "plt.ylim(0,1)\n",
    "plt.xlabel('epoch')\n",
    "plt.ylabel('loss')\n",
    "plt.show()"
   ]
  },
  {
   "cell_type": "code",
   "execution_count": 32,
   "id": "1f77823a",
   "metadata": {},
   "outputs": [
    {
     "data": {
      "image/png": "[encoded data removed]",
      "text/plain": [
       "<Figure size 432x288 with 1 Axes>"
      ]
     },
     "metadata": {
      "needs_background": "light"
     },
     "output_type": "display_data"
    }
   ],
   "source": [
    "# accuracy값\n",
    "y_vacc = history.history['val_accuracy']\n",
    "y_acc = history.history['accuracy']\n",
    "x_len = np.arange(len(y_acc))\n",
    "\n",
    "plt.plot(x_len, y_vacc, marker='.', c='red', label=\"Validation-set accuracy\")\n",
    "plt.plot(x_len, y_acc, marker='.', c='blue', label=\"Train-set accuracy\")\n",
    "plt.legend(loc='lower right')\n",
    "plt.grid()\n",
    "plt.ylim(0.5,1) \n",
    "plt.title('Accuracy graph without dropout layer') \n",
    "plt.xlabel('epoch')\n",
    "plt.ylabel('accuracy')\n",
    "plt.show()"
   ]
  },
  {
   "cell_type": "code",
   "execution_count": null,
   "id": "018fa280",
   "metadata": {},
   "outputs": [],
   "source": [
    "model = keras.Sequential([\n",
    "    keras.layers.Flatten(input_shape=(28, 28)),\n",
    "    keras.layers.Dense(256, activation='relu'),\n",
    "    # 오버피팅을 만든 환경에서 Dropout layer를 추가\n",
    "    keras.layers.Dropout(0.5),\n",
    "    keras.layers.Dense(10, activation='softmax')\n",
    "])\n",
    "\n",
    "model.compile(optimizer='adam',loss='sparse_categorical_crossentropy',\n",
    "              metrics=['accuracy'])\n",
    "\n",
    "history= model.fit(X_train, y_train, epochs=100, batch_size=512, validation_data=(X_valid, y_valid))"
   ]
  },
  {
   "cell_type": "code",
   "execution_count": 1,
   "id": "1afcc027",
   "metadata": {},
   "outputs": [
    {
     "name": "stdout",
     "output_type": "stream",
     "text": [
      "=3\n"
     ]
    }
   ],
   "source": [
    "import tensorflow as tf\n",
    "from tensorflow import keras\n",
    "import numpy as np\n",
    "import matplotlib.pyplot as plt\n",
    "\n",
    "fashion_mnist = keras.datasets.fashion_mnist"
   ]
  },
  {
   "cell_type": "code",
   "execution_count": 2,
   "id": "61903b61",
   "metadata": {},
   "outputs": [],
   "source": [
    "(train_images, train_labels), (test_images, test_labels) = fashion_mnist.load_data()\n",
    "class_names = ['T-shirt/top', 'Trouser', 'Pullover', 'Dress', 'Coat',\n",
    "               'Sandal', 'Shirt', 'Sneaker', 'Bag', 'Ankle boot']\n",
    "\n",
    "train_images = train_images / 255.0\n",
    "test_images = test_images / 255.0"
   ]
  },
  {
   "cell_type": "code",
   "execution_count": 3,
   "id": "0df7d90f",
   "metadata": {},
   "outputs": [
    {
     "name": "stdout",
     "output_type": "stream",
     "text": [
      "Epoch 1/20\n",
      "21/21 [==============================] - 2s 60ms/step - loss: 1.3179 - accuracy: 0.5865 - val_loss: 0.7642 - val_accuracy: 0.7478\n",
      "Epoch 2/20\n",
      "21/21 [==============================] - 1s 37ms/step - loss: 0.6653 - accuracy: 0.7785 - val_loss: 0.6021 - val_accuracy: 0.7996\n",
      "Epoch 3/20\n",
      "21/21 [==============================] - 1s 39ms/step - loss: 0.5569 - accuracy: 0.8141 - val_loss: 0.5312 - val_accuracy: 0.8231\n",
      "Epoch 4/20\n",
      "21/21 [==============================] - 1s 38ms/step - loss: 0.5054 - accuracy: 0.8306 - val_loss: 0.4940 - val_accuracy: 0.8339\n",
      "Epoch 5/20\n",
      "21/21 [==============================] - 1s 38ms/step - loss: 0.4734 - accuracy: 0.8397 - val_loss: 0.4727 - val_accuracy: 0.8400\n",
      "Epoch 6/20\n",
      "21/21 [==============================] - 1s 39ms/step - loss: 0.4525 - accuracy: 0.8459 - val_loss: 0.4561 - val_accuracy: 0.8436\n",
      "Epoch 7/20\n",
      "21/21 [==============================] - 1s 41ms/step - loss: 0.4406 - accuracy: 0.8499 - val_loss: 0.4414 - val_accuracy: 0.8490\n",
      "Epoch 8/20\n",
      "21/21 [==============================] - 1s 36ms/step - loss: 0.4235 - accuracy: 0.8553 - val_loss: 0.4308 - val_accuracy: 0.8516\n",
      "Epoch 9/20\n",
      "21/21 [==============================] - 1s 35ms/step - loss: 0.4093 - accuracy: 0.8607 - val_loss: 0.4199 - val_accuracy: 0.8553\n",
      "Epoch 10/20\n",
      "21/21 [==============================] - 1s 35ms/step - loss: 0.3983 - accuracy: 0.8646 - val_loss: 0.4197 - val_accuracy: 0.8543\n",
      "Epoch 11/20\n",
      "21/21 [==============================] - 1s 36ms/step - loss: 0.3909 - accuracy: 0.8671 - val_loss: 0.4067 - val_accuracy: 0.8605\n",
      "Epoch 12/20\n",
      "21/21 [==============================] - 1s 37ms/step - loss: 0.3819 - accuracy: 0.8696 - val_loss: 0.4003 - val_accuracy: 0.8626\n",
      "Epoch 13/20\n",
      "21/21 [==============================] - 1s 39ms/step - loss: 0.3744 - accuracy: 0.8715 - val_loss: 0.3991 - val_accuracy: 0.8618\n",
      "Epoch 14/20\n",
      "21/21 [==============================] - 1s 35ms/step - loss: 0.3670 - accuracy: 0.8745 - val_loss: 0.3905 - val_accuracy: 0.8644\n",
      "Epoch 15/20\n",
      "21/21 [==============================] - 1s 39ms/step - loss: 0.3597 - accuracy: 0.8769 - val_loss: 0.3865 - val_accuracy: 0.8659\n",
      "Epoch 16/20\n",
      "21/21 [==============================] - 1s 39ms/step - loss: 0.3555 - accuracy: 0.8786 - val_loss: 0.3829 - val_accuracy: 0.8649\n",
      "Epoch 17/20\n",
      "21/21 [==============================] - 1s 38ms/step - loss: 0.3513 - accuracy: 0.8783 - val_loss: 0.3774 - val_accuracy: 0.8673\n",
      "Epoch 18/20\n",
      "21/21 [==============================] - 1s 38ms/step - loss: 0.3441 - accuracy: 0.8821 - val_loss: 0.3792 - val_accuracy: 0.8671\n",
      "Epoch 19/20\n",
      "21/21 [==============================] - 1s 34ms/step - loss: 0.3393 - accuracy: 0.8844 - val_loss: 0.3760 - val_accuracy: 0.8683\n",
      "Epoch 20/20\n",
      "21/21 [==============================] - 1s 34ms/step - loss: 0.3332 - accuracy: 0.8853 - val_loss: 0.3689 - val_accuracy: 0.8706\n"
     ]
    }
   ],
   "source": [
    "from sklearn.model_selection import train_test_split\n",
    "\n",
    "X_train, X_valid, y_train, y_valid = train_test_split(train_images, train_labels, test_size=0.3, random_state=101)\n",
    "\n",
    "model = keras.Sequential([\n",
    "    keras.layers.Flatten(input_shape=(28, 28)),\n",
    "    keras.layers.Dense(128, activation='relu'),\n",
    "    keras.layers.Dense(10, activation='softmax')\n",
    "])\n",
    "\n",
    "model.compile(optimizer='adam',loss='sparse_categorical_crossentropy',\n",
    "              metrics=['accuracy'])\n",
    "\n",
    "history= model.fit(X_train, y_train, epochs=20, batch_size=2048, validation_data=(X_valid, y_valid))"
   ]
  },
  {
   "cell_type": "code",
   "execution_count": 4,
   "id": "ae3c8fbe",
   "metadata": {},
   "outputs": [
    {
     "name": "stdout",
     "output_type": "stream",
     "text": [
      "Epoch 1/20\n",
      "21/21 [==============================] - 4s 129ms/step - loss: 0.9426 - accuracy: 0.6826 - val_loss: 1.0572 - val_accuracy: 0.6749\n",
      "Epoch 2/20\n",
      "21/21 [==============================] - 1s 48ms/step - loss: 0.5320 - accuracy: 0.8195 - val_loss: 0.8275 - val_accuracy: 0.7716\n",
      "Epoch 3/20\n",
      "21/21 [==============================] - 1s 44ms/step - loss: 0.4588 - accuracy: 0.8422 - val_loss: 0.7315 - val_accuracy: 0.8134\n",
      "Epoch 4/20\n",
      "21/21 [==============================] - 1s 44ms/step - loss: 0.4169 - accuracy: 0.8569 - val_loss: 0.6677 - val_accuracy: 0.8322\n",
      "Epoch 5/20\n",
      "21/21 [==============================] - 1s 39ms/step - loss: 0.3892 - accuracy: 0.8662 - val_loss: 0.6293 - val_accuracy: 0.8438\n",
      "Epoch 6/20\n",
      "21/21 [==============================] - 1s 40ms/step - loss: 0.3676 - accuracy: 0.8719 - val_loss: 0.5967 - val_accuracy: 0.8441\n",
      "Epoch 7/20\n",
      "21/21 [==============================] - 1s 39ms/step - loss: 0.3490 - accuracy: 0.8792 - val_loss: 0.5407 - val_accuracy: 0.8593\n",
      "Epoch 8/20\n",
      "21/21 [==============================] - 1s 39ms/step - loss: 0.3327 - accuracy: 0.8844 - val_loss: 0.5165 - val_accuracy: 0.8551\n",
      "Epoch 9/20\n",
      "21/21 [==============================] - 1s 40ms/step - loss: 0.3191 - accuracy: 0.8890 - val_loss: 0.4956 - val_accuracy: 0.8558\n",
      "Epoch 10/20\n",
      "21/21 [==============================] - 1s 43ms/step - loss: 0.3083 - accuracy: 0.8920 - val_loss: 0.4627 - val_accuracy: 0.8602\n",
      "Epoch 11/20\n",
      "21/21 [==============================] - 1s 45ms/step - loss: 0.3008 - accuracy: 0.8941 - val_loss: 0.4476 - val_accuracy: 0.8602\n",
      "Epoch 12/20\n",
      "21/21 [==============================] - 1s 45ms/step - loss: 0.2902 - accuracy: 0.8973 - val_loss: 0.4222 - val_accuracy: 0.8661\n",
      "Epoch 13/20\n",
      "21/21 [==============================] - 1s 43ms/step - loss: 0.2780 - accuracy: 0.9013 - val_loss: 0.4031 - val_accuracy: 0.8730\n",
      "Epoch 14/20\n",
      "21/21 [==============================] - 1s 45ms/step - loss: 0.2698 - accuracy: 0.9055 - val_loss: 0.3926 - val_accuracy: 0.8706\n",
      "Epoch 15/20\n",
      "21/21 [==============================] - 1s 45ms/step - loss: 0.2593 - accuracy: 0.9091 - val_loss: 0.3761 - val_accuracy: 0.8732\n",
      "Epoch 16/20\n",
      "21/21 [==============================] - 1s 45ms/step - loss: 0.2507 - accuracy: 0.9120 - val_loss: 0.3877 - val_accuracy: 0.8684\n",
      "Epoch 17/20\n",
      "21/21 [==============================] - 1s 43ms/step - loss: 0.2446 - accuracy: 0.9135 - val_loss: 0.3689 - val_accuracy: 0.8726\n",
      "Epoch 18/20\n",
      "21/21 [==============================] - 1s 39ms/step - loss: 0.2375 - accuracy: 0.9155 - val_loss: 0.3490 - val_accuracy: 0.8795\n",
      "Epoch 19/20\n",
      "21/21 [==============================] - 1s 39ms/step - loss: 0.2308 - accuracy: 0.9187 - val_loss: 0.3747 - val_accuracy: 0.8661\n",
      "Epoch 20/20\n",
      "21/21 [==============================] - 1s 38ms/step - loss: 0.2258 - accuracy: 0.9202 - val_loss: 0.3649 - val_accuracy: 0.8723\n"
     ]
    }
   ],
   "source": [
    "model = keras.Sequential([\n",
    "    keras.layers.Flatten(input_shape=(28, 28)),\n",
    "    keras.layers.Dense(128, activation='relu'),\n",
    "    # 여기에 batchnormalization layer를 추가\n",
    "    keras.layers.BatchNormalization(),\n",
    "    keras.layers.Dense(10, activation='softmax')\n",
    "])\n",
    "\n",
    "model.compile(optimizer='adam',loss='sparse_categorical_crossentropy',\n",
    "              metrics=['accuracy'])\n",
    "\n",
    "history= model.fit(X_train, y_train, epochs=20, batch_size=2048, validation_data=(X_valid, y_valid))"
   ]
  },
  {
   "cell_type": "code",
   "execution_count": 5,
   "id": "617168ac",
   "metadata": {},
   "outputs": [
    {
     "data": {
      "image/png": "[encoded data removed]",
      "text/plain": [
       "<Figure size 432x288 with 1 Axes>"
      ]
     },
     "metadata": {
      "needs_background": "light"
     },
     "output_type": "display_data"
    }
   ],
   "source": [
    "# loss값\n",
    "y_vloss = history.history['val_loss']\n",
    "y_loss = history.history['loss']\n",
    "x_len = np.arange(len(y_loss))\n",
    "\n",
    "plt.plot(x_len, y_vloss, marker='.', c='red', label=\"Validation-set Loss\")\n",
    "plt.plot(x_len, y_loss, marker='.', c='blue', label=\"Train-set Loss\")\n",
    "plt.legend(loc='upper right')\n",
    "plt.grid()\n",
    "plt.ylim(0,1)\n",
    "plt.title('Loss graph with batch normalization') \n",
    "plt.xlabel('epoch')\n",
    "plt.ylabel('loss')\n",
    "plt.show()"
   ]
  },
  {
   "cell_type": "code",
   "execution_count": 6,
   "id": "ea9f312d",
   "metadata": {},
   "outputs": [
    {
     "data": {
      "image/png": "[encoded data removed]",
      "text/plain": [
       "<Figure size 432x288 with 1 Axes>"
      ]
     },
     "metadata": {
      "needs_background": "light"
     },
     "output_type": "display_data"
    }
   ],
   "source": [
    "# accuracy값\n",
    "y_vacc = history.history['val_accuracy']\n",
    "y_acc = history.history['accuracy']\n",
    "x_len = np.arange(len(y_acc))\n",
    "\n",
    "plt.plot(x_len, y_vacc, marker='.', c='red', label=\"Validation-set accuracy\")\n",
    "plt.plot(x_len, y_acc, marker='.', c='blue', label=\"Train-set accuracy\")\n",
    "plt.legend(loc='lower right')\n",
    "plt.grid()\n",
    "plt.ylim(0.5,1) \n",
    "plt.title('Accurcy graph with batch normalization') \n",
    "plt.xlabel('epoch')\n",
    "plt.ylabel('accuracy')\n",
    "plt.show()"
   ]
  }
 ],
 "metadata": {
  "kernelspec": {
   "display_name": "Python 3 (ipykernel)",
   "language": "python",
   "name": "python3"
  },
  "language_info": {
   "codemirror_mode": {
    "name": "ipython",
    "version": 3
   },
   "file_extension": ".py",
   "mimetype": "text/x-python",
   "name": "python",
   "nbconvert_exporter": "python",
   "pygments_lexer": "ipython3",
   "version": "3.9.7"
  }
 },
 "nbformat": 4,
 "nbformat_minor": 5
}
