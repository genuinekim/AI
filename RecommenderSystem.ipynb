{
 "cells": [
  {
   "cell_type": "code",
   "execution_count": 2,
   "id": "e8405f3c",
   "metadata": {},
   "outputs": [
    {
     "data": {
      "text/html": [
       "<div>\n",
       "<style scoped>\n",
       "    .dataframe tbody tr th:only-of-type {\n",
       "        vertical-align: middle;\n",
       "    }\n",
       "\n",
       "    .dataframe tbody tr th {\n",
       "        vertical-align: top;\n",
       "    }\n",
       "\n",
       "    .dataframe thead th {\n",
       "        text-align: right;\n",
       "    }\n",
       "</style>\n",
       "<table border=\"1\" class=\"dataframe\">\n",
       "  <thead>\n",
       "    <tr style=\"text-align: right;\">\n",
       "      <th></th>\n",
       "      <th>user_id</th>\n",
       "      <th>artist_MBID</th>\n",
       "      <th>artist</th>\n",
       "      <th>play</th>\n",
       "    </tr>\n",
       "  </thead>\n",
       "  <tbody>\n",
       "    <tr>\n",
       "      <th>0</th>\n",
       "      <td>00000c289a1829a808ac09c00daf10bc3c4e223b</td>\n",
       "      <td>3bd73256-3905-4f3a-97e2-8b341527f805</td>\n",
       "      <td>betty blowtorch</td>\n",
       "      <td>2137</td>\n",
       "    </tr>\n",
       "    <tr>\n",
       "      <th>1</th>\n",
       "      <td>00000c289a1829a808ac09c00daf10bc3c4e223b</td>\n",
       "      <td>f2fb0ff0-5679-42ec-a55c-15109ce6e320</td>\n",
       "      <td>die Ärzte</td>\n",
       "      <td>1099</td>\n",
       "    </tr>\n",
       "    <tr>\n",
       "      <th>2</th>\n",
       "      <td>00000c289a1829a808ac09c00daf10bc3c4e223b</td>\n",
       "      <td>b3ae82c2-e60b-4551-a76d-6620f1b456aa</td>\n",
       "      <td>melissa etheridge</td>\n",
       "      <td>897</td>\n",
       "    </tr>\n",
       "    <tr>\n",
       "      <th>3</th>\n",
       "      <td>00000c289a1829a808ac09c00daf10bc3c4e223b</td>\n",
       "      <td>3d6bbeb7-f90e-4d10-b440-e153c0d10b53</td>\n",
       "      <td>elvenking</td>\n",
       "      <td>717</td>\n",
       "    </tr>\n",
       "    <tr>\n",
       "      <th>4</th>\n",
       "      <td>00000c289a1829a808ac09c00daf10bc3c4e223b</td>\n",
       "      <td>bbd2ffd7-17f4-4506-8572-c1ea58c3f9a8</td>\n",
       "      <td>juliette &amp; the licks</td>\n",
       "      <td>706</td>\n",
       "    </tr>\n",
       "    <tr>\n",
       "      <th>5</th>\n",
       "      <td>00000c289a1829a808ac09c00daf10bc3c4e223b</td>\n",
       "      <td>8bfac288-ccc5-448d-9573-c33ea2aa5c30</td>\n",
       "      <td>red hot chili peppers</td>\n",
       "      <td>691</td>\n",
       "    </tr>\n",
       "    <tr>\n",
       "      <th>6</th>\n",
       "      <td>00000c289a1829a808ac09c00daf10bc3c4e223b</td>\n",
       "      <td>6531c8b1-76ea-4141-b270-eb1ac5b41375</td>\n",
       "      <td>magica</td>\n",
       "      <td>545</td>\n",
       "    </tr>\n",
       "    <tr>\n",
       "      <th>7</th>\n",
       "      <td>00000c289a1829a808ac09c00daf10bc3c4e223b</td>\n",
       "      <td>21f3573f-10cf-44b3-aeaa-26cccd8448b5</td>\n",
       "      <td>the black dahlia murder</td>\n",
       "      <td>507</td>\n",
       "    </tr>\n",
       "    <tr>\n",
       "      <th>8</th>\n",
       "      <td>00000c289a1829a808ac09c00daf10bc3c4e223b</td>\n",
       "      <td>c5db90c4-580d-4f33-b364-fbaa5a3a58b5</td>\n",
       "      <td>the murmurs</td>\n",
       "      <td>424</td>\n",
       "    </tr>\n",
       "    <tr>\n",
       "      <th>9</th>\n",
       "      <td>00000c289a1829a808ac09c00daf10bc3c4e223b</td>\n",
       "      <td>0639533a-0402-40ba-b6e0-18b067198b73</td>\n",
       "      <td>lunachicks</td>\n",
       "      <td>403</td>\n",
       "    </tr>\n",
       "  </tbody>\n",
       "</table>\n",
       "</div>"
      ],
      "text/plain": [
       "                                    user_id  \\\n",
       "0  00000c289a1829a808ac09c00daf10bc3c4e223b   \n",
       "1  00000c289a1829a808ac09c00daf10bc3c4e223b   \n",
       "2  00000c289a1829a808ac09c00daf10bc3c4e223b   \n",
       "3  00000c289a1829a808ac09c00daf10bc3c4e223b   \n",
       "4  00000c289a1829a808ac09c00daf10bc3c4e223b   \n",
       "5  00000c289a1829a808ac09c00daf10bc3c4e223b   \n",
       "6  00000c289a1829a808ac09c00daf10bc3c4e223b   \n",
       "7  00000c289a1829a808ac09c00daf10bc3c4e223b   \n",
       "8  00000c289a1829a808ac09c00daf10bc3c4e223b   \n",
       "9  00000c289a1829a808ac09c00daf10bc3c4e223b   \n",
       "\n",
       "                            artist_MBID                   artist  play  \n",
       "0  3bd73256-3905-4f3a-97e2-8b341527f805          betty blowtorch  2137  \n",
       "1  f2fb0ff0-5679-42ec-a55c-15109ce6e320                die Ärzte  1099  \n",
       "2  b3ae82c2-e60b-4551-a76d-6620f1b456aa        melissa etheridge   897  \n",
       "3  3d6bbeb7-f90e-4d10-b440-e153c0d10b53                elvenking   717  \n",
       "4  bbd2ffd7-17f4-4506-8572-c1ea58c3f9a8     juliette & the licks   706  \n",
       "5  8bfac288-ccc5-448d-9573-c33ea2aa5c30    red hot chili peppers   691  \n",
       "6  6531c8b1-76ea-4141-b270-eb1ac5b41375                   magica   545  \n",
       "7  21f3573f-10cf-44b3-aeaa-26cccd8448b5  the black dahlia murder   507  \n",
       "8  c5db90c4-580d-4f33-b364-fbaa5a3a58b5              the murmurs   424  \n",
       "9  0639533a-0402-40ba-b6e0-18b067198b73               lunachicks   403  "
      ]
     },
     "execution_count": 2,
     "metadata": {},
     "output_type": "execute_result"
    }
   ],
   "source": [
    "import pandas as pd\n",
    "import os\n",
    "\n",
    "fname = os.getenv('HOME') + '/aiffel/recommendata_iu/data/lastfm-dataset-360K/usersha1-artmbid-artname-plays.tsv'\n",
    "col_names = ['user_id', 'artist_MBID','artist', 'play']\n",
    "data = pd.read_csv(fname, sep='\\t', names = col_names) # sep='\\t'로 주어야 tsv파일을 열 수 있음.\n",
    "data.head(10)"
   ]
  },
  {
   "cell_type": "code",
   "execution_count": 4,
   "id": "d72fb0e1",
   "metadata": {},
   "outputs": [
    {
     "data": {
      "text/html": [
       "<div>\n",
       "<style scoped>\n",
       "    .dataframe tbody tr th:only-of-type {\n",
       "        vertical-align: middle;\n",
       "    }\n",
       "\n",
       "    .dataframe tbody tr th {\n",
       "        vertical-align: top;\n",
       "    }\n",
       "\n",
       "    .dataframe thead th {\n",
       "        text-align: right;\n",
       "    }\n",
       "</style>\n",
       "<table border=\"1\" class=\"dataframe\">\n",
       "  <thead>\n",
       "    <tr style=\"text-align: right;\">\n",
       "      <th></th>\n",
       "      <th>user_id</th>\n",
       "      <th>artist</th>\n",
       "      <th>play</th>\n",
       "    </tr>\n",
       "  </thead>\n",
       "  <tbody>\n",
       "    <tr>\n",
       "      <th>0</th>\n",
       "      <td>00000c289a1829a808ac09c00daf10bc3c4e223b</td>\n",
       "      <td>betty blowtorch</td>\n",
       "      <td>2137</td>\n",
       "    </tr>\n",
       "    <tr>\n",
       "      <th>1</th>\n",
       "      <td>00000c289a1829a808ac09c00daf10bc3c4e223b</td>\n",
       "      <td>die Ärzte</td>\n",
       "      <td>1099</td>\n",
       "    </tr>\n",
       "    <tr>\n",
       "      <th>2</th>\n",
       "      <td>00000c289a1829a808ac09c00daf10bc3c4e223b</td>\n",
       "      <td>melissa etheridge</td>\n",
       "      <td>897</td>\n",
       "    </tr>\n",
       "    <tr>\n",
       "      <th>3</th>\n",
       "      <td>00000c289a1829a808ac09c00daf10bc3c4e223b</td>\n",
       "      <td>elvenking</td>\n",
       "      <td>717</td>\n",
       "    </tr>\n",
       "    <tr>\n",
       "      <th>4</th>\n",
       "      <td>00000c289a1829a808ac09c00daf10bc3c4e223b</td>\n",
       "      <td>juliette &amp; the licks</td>\n",
       "      <td>706</td>\n",
       "    </tr>\n",
       "    <tr>\n",
       "      <th>5</th>\n",
       "      <td>00000c289a1829a808ac09c00daf10bc3c4e223b</td>\n",
       "      <td>red hot chili peppers</td>\n",
       "      <td>691</td>\n",
       "    </tr>\n",
       "    <tr>\n",
       "      <th>6</th>\n",
       "      <td>00000c289a1829a808ac09c00daf10bc3c4e223b</td>\n",
       "      <td>magica</td>\n",
       "      <td>545</td>\n",
       "    </tr>\n",
       "    <tr>\n",
       "      <th>7</th>\n",
       "      <td>00000c289a1829a808ac09c00daf10bc3c4e223b</td>\n",
       "      <td>the black dahlia murder</td>\n",
       "      <td>507</td>\n",
       "    </tr>\n",
       "    <tr>\n",
       "      <th>8</th>\n",
       "      <td>00000c289a1829a808ac09c00daf10bc3c4e223b</td>\n",
       "      <td>the murmurs</td>\n",
       "      <td>424</td>\n",
       "    </tr>\n",
       "    <tr>\n",
       "      <th>9</th>\n",
       "      <td>00000c289a1829a808ac09c00daf10bc3c4e223b</td>\n",
       "      <td>lunachicks</td>\n",
       "      <td>403</td>\n",
       "    </tr>\n",
       "  </tbody>\n",
       "</table>\n",
       "</div>"
      ],
      "text/plain": [
       "                                    user_id                   artist  play\n",
       "0  00000c289a1829a808ac09c00daf10bc3c4e223b          betty blowtorch  2137\n",
       "1  00000c289a1829a808ac09c00daf10bc3c4e223b                die Ärzte  1099\n",
       "2  00000c289a1829a808ac09c00daf10bc3c4e223b        melissa etheridge   897\n",
       "3  00000c289a1829a808ac09c00daf10bc3c4e223b                elvenking   717\n",
       "4  00000c289a1829a808ac09c00daf10bc3c4e223b     juliette & the licks   706\n",
       "5  00000c289a1829a808ac09c00daf10bc3c4e223b    red hot chili peppers   691\n",
       "6  00000c289a1829a808ac09c00daf10bc3c4e223b                   magica   545\n",
       "7  00000c289a1829a808ac09c00daf10bc3c4e223b  the black dahlia murder   507\n",
       "8  00000c289a1829a808ac09c00daf10bc3c4e223b              the murmurs   424\n",
       "9  00000c289a1829a808ac09c00daf10bc3c4e223b               lunachicks   403"
      ]
     },
     "execution_count": 4,
     "metadata": {},
     "output_type": "execute_result"
    }
   ],
   "source": [
    "using_cols = ['user_id', 'artist', 'play'] # 사용하는 컬럼들만 남겨줌.\n",
    "data = data[using_cols]\n",
    "data.head(10)"
   ]
  },
  {
   "cell_type": "code",
   "execution_count": 5,
   "id": "d7ea7877",
   "metadata": {},
   "outputs": [
    {
     "data": {
      "text/html": [
       "<div>\n",
       "<style scoped>\n",
       "    .dataframe tbody tr th:only-of-type {\n",
       "        vertical-align: middle;\n",
       "    }\n",
       "\n",
       "    .dataframe tbody tr th {\n",
       "        vertical-align: top;\n",
       "    }\n",
       "\n",
       "    .dataframe thead th {\n",
       "        text-align: right;\n",
       "    }\n",
       "</style>\n",
       "<table border=\"1\" class=\"dataframe\">\n",
       "  <thead>\n",
       "    <tr style=\"text-align: right;\">\n",
       "      <th></th>\n",
       "      <th>user_id</th>\n",
       "      <th>artist</th>\n",
       "      <th>play</th>\n",
       "    </tr>\n",
       "  </thead>\n",
       "  <tbody>\n",
       "    <tr>\n",
       "      <th>0</th>\n",
       "      <td>00000c289a1829a808ac09c00daf10bc3c4e223b</td>\n",
       "      <td>betty blowtorch</td>\n",
       "      <td>2137</td>\n",
       "    </tr>\n",
       "    <tr>\n",
       "      <th>1</th>\n",
       "      <td>00000c289a1829a808ac09c00daf10bc3c4e223b</td>\n",
       "      <td>die ärzte</td>\n",
       "      <td>1099</td>\n",
       "    </tr>\n",
       "    <tr>\n",
       "      <th>2</th>\n",
       "      <td>00000c289a1829a808ac09c00daf10bc3c4e223b</td>\n",
       "      <td>melissa etheridge</td>\n",
       "      <td>897</td>\n",
       "    </tr>\n",
       "    <tr>\n",
       "      <th>3</th>\n",
       "      <td>00000c289a1829a808ac09c00daf10bc3c4e223b</td>\n",
       "      <td>elvenking</td>\n",
       "      <td>717</td>\n",
       "    </tr>\n",
       "    <tr>\n",
       "      <th>4</th>\n",
       "      <td>00000c289a1829a808ac09c00daf10bc3c4e223b</td>\n",
       "      <td>juliette &amp; the licks</td>\n",
       "      <td>706</td>\n",
       "    </tr>\n",
       "    <tr>\n",
       "      <th>5</th>\n",
       "      <td>00000c289a1829a808ac09c00daf10bc3c4e223b</td>\n",
       "      <td>red hot chili peppers</td>\n",
       "      <td>691</td>\n",
       "    </tr>\n",
       "    <tr>\n",
       "      <th>6</th>\n",
       "      <td>00000c289a1829a808ac09c00daf10bc3c4e223b</td>\n",
       "      <td>magica</td>\n",
       "      <td>545</td>\n",
       "    </tr>\n",
       "    <tr>\n",
       "      <th>7</th>\n",
       "      <td>00000c289a1829a808ac09c00daf10bc3c4e223b</td>\n",
       "      <td>the black dahlia murder</td>\n",
       "      <td>507</td>\n",
       "    </tr>\n",
       "    <tr>\n",
       "      <th>8</th>\n",
       "      <td>00000c289a1829a808ac09c00daf10bc3c4e223b</td>\n",
       "      <td>the murmurs</td>\n",
       "      <td>424</td>\n",
       "    </tr>\n",
       "    <tr>\n",
       "      <th>9</th>\n",
       "      <td>00000c289a1829a808ac09c00daf10bc3c4e223b</td>\n",
       "      <td>lunachicks</td>\n",
       "      <td>403</td>\n",
       "    </tr>\n",
       "  </tbody>\n",
       "</table>\n",
       "</div>"
      ],
      "text/plain": [
       "                                    user_id                   artist  play\n",
       "0  00000c289a1829a808ac09c00daf10bc3c4e223b          betty blowtorch  2137\n",
       "1  00000c289a1829a808ac09c00daf10bc3c4e223b                die ärzte  1099\n",
       "2  00000c289a1829a808ac09c00daf10bc3c4e223b        melissa etheridge   897\n",
       "3  00000c289a1829a808ac09c00daf10bc3c4e223b                elvenking   717\n",
       "4  00000c289a1829a808ac09c00daf10bc3c4e223b     juliette & the licks   706\n",
       "5  00000c289a1829a808ac09c00daf10bc3c4e223b    red hot chili peppers   691\n",
       "6  00000c289a1829a808ac09c00daf10bc3c4e223b                   magica   545\n",
       "7  00000c289a1829a808ac09c00daf10bc3c4e223b  the black dahlia murder   507\n",
       "8  00000c289a1829a808ac09c00daf10bc3c4e223b              the murmurs   424\n",
       "9  00000c289a1829a808ac09c00daf10bc3c4e223b               lunachicks   403"
      ]
     },
     "execution_count": 5,
     "metadata": {},
     "output_type": "execute_result"
    }
   ],
   "source": [
    "data['artist'] = data['artist'].str.lower() # 아티스트 문자열을 소문자로 바꿔줌.\n",
    "data.head(10)"
   ]
  },
  {
   "cell_type": "code",
   "execution_count": 6,
   "id": "5da9a011",
   "metadata": {},
   "outputs": [
    {
     "data": {
      "text/html": [
       "<div>\n",
       "<style scoped>\n",
       "    .dataframe tbody tr th:only-of-type {\n",
       "        vertical-align: middle;\n",
       "    }\n",
       "\n",
       "    .dataframe tbody tr th {\n",
       "        vertical-align: top;\n",
       "    }\n",
       "\n",
       "    .dataframe thead th {\n",
       "        text-align: right;\n",
       "    }\n",
       "</style>\n",
       "<table border=\"1\" class=\"dataframe\">\n",
       "  <thead>\n",
       "    <tr style=\"text-align: right;\">\n",
       "      <th></th>\n",
       "      <th>user_id</th>\n",
       "      <th>artist</th>\n",
       "      <th>play</th>\n",
       "    </tr>\n",
       "  </thead>\n",
       "  <tbody>\n",
       "    <tr>\n",
       "      <th>0</th>\n",
       "      <td>00000c289a1829a808ac09c00daf10bc3c4e223b</td>\n",
       "      <td>betty blowtorch</td>\n",
       "      <td>2137</td>\n",
       "    </tr>\n",
       "    <tr>\n",
       "      <th>1</th>\n",
       "      <td>00000c289a1829a808ac09c00daf10bc3c4e223b</td>\n",
       "      <td>die ärzte</td>\n",
       "      <td>1099</td>\n",
       "    </tr>\n",
       "    <tr>\n",
       "      <th>2</th>\n",
       "      <td>00000c289a1829a808ac09c00daf10bc3c4e223b</td>\n",
       "      <td>melissa etheridge</td>\n",
       "      <td>897</td>\n",
       "    </tr>\n",
       "    <tr>\n",
       "      <th>3</th>\n",
       "      <td>00000c289a1829a808ac09c00daf10bc3c4e223b</td>\n",
       "      <td>elvenking</td>\n",
       "      <td>717</td>\n",
       "    </tr>\n",
       "    <tr>\n",
       "      <th>4</th>\n",
       "      <td>00000c289a1829a808ac09c00daf10bc3c4e223b</td>\n",
       "      <td>juliette &amp; the licks</td>\n",
       "      <td>706</td>\n",
       "    </tr>\n",
       "    <tr>\n",
       "      <th>5</th>\n",
       "      <td>00000c289a1829a808ac09c00daf10bc3c4e223b</td>\n",
       "      <td>red hot chili peppers</td>\n",
       "      <td>691</td>\n",
       "    </tr>\n",
       "    <tr>\n",
       "      <th>6</th>\n",
       "      <td>00000c289a1829a808ac09c00daf10bc3c4e223b</td>\n",
       "      <td>magica</td>\n",
       "      <td>545</td>\n",
       "    </tr>\n",
       "    <tr>\n",
       "      <th>7</th>\n",
       "      <td>00000c289a1829a808ac09c00daf10bc3c4e223b</td>\n",
       "      <td>the black dahlia murder</td>\n",
       "      <td>507</td>\n",
       "    </tr>\n",
       "    <tr>\n",
       "      <th>8</th>\n",
       "      <td>00000c289a1829a808ac09c00daf10bc3c4e223b</td>\n",
       "      <td>the murmurs</td>\n",
       "      <td>424</td>\n",
       "    </tr>\n",
       "    <tr>\n",
       "      <th>9</th>\n",
       "      <td>00000c289a1829a808ac09c00daf10bc3c4e223b</td>\n",
       "      <td>lunachicks</td>\n",
       "      <td>403</td>\n",
       "    </tr>\n",
       "    <tr>\n",
       "      <th>10</th>\n",
       "      <td>00000c289a1829a808ac09c00daf10bc3c4e223b</td>\n",
       "      <td>walls of jericho</td>\n",
       "      <td>393</td>\n",
       "    </tr>\n",
       "    <tr>\n",
       "      <th>11</th>\n",
       "      <td>00000c289a1829a808ac09c00daf10bc3c4e223b</td>\n",
       "      <td>letzte instanz</td>\n",
       "      <td>387</td>\n",
       "    </tr>\n",
       "    <tr>\n",
       "      <th>12</th>\n",
       "      <td>00000c289a1829a808ac09c00daf10bc3c4e223b</td>\n",
       "      <td>goldfrapp</td>\n",
       "      <td>361</td>\n",
       "    </tr>\n",
       "    <tr>\n",
       "      <th>13</th>\n",
       "      <td>00000c289a1829a808ac09c00daf10bc3c4e223b</td>\n",
       "      <td>horrorpops</td>\n",
       "      <td>358</td>\n",
       "    </tr>\n",
       "    <tr>\n",
       "      <th>14</th>\n",
       "      <td>00000c289a1829a808ac09c00daf10bc3c4e223b</td>\n",
       "      <td>the butchies</td>\n",
       "      <td>329</td>\n",
       "    </tr>\n",
       "    <tr>\n",
       "      <th>15</th>\n",
       "      <td>00000c289a1829a808ac09c00daf10bc3c4e223b</td>\n",
       "      <td>jack off jill</td>\n",
       "      <td>316</td>\n",
       "    </tr>\n",
       "    <tr>\n",
       "      <th>16</th>\n",
       "      <td>00000c289a1829a808ac09c00daf10bc3c4e223b</td>\n",
       "      <td>babes in toyland</td>\n",
       "      <td>310</td>\n",
       "    </tr>\n",
       "    <tr>\n",
       "      <th>17</th>\n",
       "      <td>00000c289a1829a808ac09c00daf10bc3c4e223b</td>\n",
       "      <td>dropkick murphys</td>\n",
       "      <td>302</td>\n",
       "    </tr>\n",
       "    <tr>\n",
       "      <th>18</th>\n",
       "      <td>00000c289a1829a808ac09c00daf10bc3c4e223b</td>\n",
       "      <td>all:my:faults</td>\n",
       "      <td>288</td>\n",
       "    </tr>\n",
       "    <tr>\n",
       "      <th>19</th>\n",
       "      <td>00000c289a1829a808ac09c00daf10bc3c4e223b</td>\n",
       "      <td>le tigre</td>\n",
       "      <td>281</td>\n",
       "    </tr>\n",
       "    <tr>\n",
       "      <th>20</th>\n",
       "      <td>00000c289a1829a808ac09c00daf10bc3c4e223b</td>\n",
       "      <td>schandmaul</td>\n",
       "      <td>244</td>\n",
       "    </tr>\n",
       "    <tr>\n",
       "      <th>21</th>\n",
       "      <td>00000c289a1829a808ac09c00daf10bc3c4e223b</td>\n",
       "      <td>edguy</td>\n",
       "      <td>232</td>\n",
       "    </tr>\n",
       "    <tr>\n",
       "      <th>22</th>\n",
       "      <td>00000c289a1829a808ac09c00daf10bc3c4e223b</td>\n",
       "      <td>maximum the hormone</td>\n",
       "      <td>231</td>\n",
       "    </tr>\n",
       "    <tr>\n",
       "      <th>23</th>\n",
       "      <td>00000c289a1829a808ac09c00daf10bc3c4e223b</td>\n",
       "      <td>all ends</td>\n",
       "      <td>229</td>\n",
       "    </tr>\n",
       "    <tr>\n",
       "      <th>24</th>\n",
       "      <td>00000c289a1829a808ac09c00daf10bc3c4e223b</td>\n",
       "      <td>jack johnson</td>\n",
       "      <td>227</td>\n",
       "    </tr>\n",
       "    <tr>\n",
       "      <th>25</th>\n",
       "      <td>00000c289a1829a808ac09c00daf10bc3c4e223b</td>\n",
       "      <td>eluveitie</td>\n",
       "      <td>222</td>\n",
       "    </tr>\n",
       "    <tr>\n",
       "      <th>26</th>\n",
       "      <td>00000c289a1829a808ac09c00daf10bc3c4e223b</td>\n",
       "      <td>rasputina</td>\n",
       "      <td>220</td>\n",
       "    </tr>\n",
       "    <tr>\n",
       "      <th>27</th>\n",
       "      <td>00000c289a1829a808ac09c00daf10bc3c4e223b</td>\n",
       "      <td>london after midnight</td>\n",
       "      <td>210</td>\n",
       "    </tr>\n",
       "    <tr>\n",
       "      <th>28</th>\n",
       "      <td>00000c289a1829a808ac09c00daf10bc3c4e223b</td>\n",
       "      <td>the killers</td>\n",
       "      <td>208</td>\n",
       "    </tr>\n",
       "    <tr>\n",
       "      <th>29</th>\n",
       "      <td>00000c289a1829a808ac09c00daf10bc3c4e223b</td>\n",
       "      <td>mutyumu</td>\n",
       "      <td>205</td>\n",
       "    </tr>\n",
       "    <tr>\n",
       "      <th>30</th>\n",
       "      <td>00000c289a1829a808ac09c00daf10bc3c4e223b</td>\n",
       "      <td>judas priest</td>\n",
       "      <td>198</td>\n",
       "    </tr>\n",
       "    <tr>\n",
       "      <th>31</th>\n",
       "      <td>00000c289a1829a808ac09c00daf10bc3c4e223b</td>\n",
       "      <td>rob zombie</td>\n",
       "      <td>198</td>\n",
       "    </tr>\n",
       "    <tr>\n",
       "      <th>32</th>\n",
       "      <td>00000c289a1829a808ac09c00daf10bc3c4e223b</td>\n",
       "      <td>the bosshoss</td>\n",
       "      <td>189</td>\n",
       "    </tr>\n",
       "    <tr>\n",
       "      <th>33</th>\n",
       "      <td>00000c289a1829a808ac09c00daf10bc3c4e223b</td>\n",
       "      <td>blue öyster cult</td>\n",
       "      <td>185</td>\n",
       "    </tr>\n",
       "    <tr>\n",
       "      <th>34</th>\n",
       "      <td>00000c289a1829a808ac09c00daf10bc3c4e223b</td>\n",
       "      <td>sandra nasic</td>\n",
       "      <td>183</td>\n",
       "    </tr>\n",
       "    <tr>\n",
       "      <th>35</th>\n",
       "      <td>00000c289a1829a808ac09c00daf10bc3c4e223b</td>\n",
       "      <td>john mayer</td>\n",
       "      <td>182</td>\n",
       "    </tr>\n",
       "    <tr>\n",
       "      <th>36</th>\n",
       "      <td>00000c289a1829a808ac09c00daf10bc3c4e223b</td>\n",
       "      <td>sleater-kinney</td>\n",
       "      <td>175</td>\n",
       "    </tr>\n",
       "    <tr>\n",
       "      <th>37</th>\n",
       "      <td>00000c289a1829a808ac09c00daf10bc3c4e223b</td>\n",
       "      <td>the who</td>\n",
       "      <td>168</td>\n",
       "    </tr>\n",
       "    <tr>\n",
       "      <th>38</th>\n",
       "      <td>00000c289a1829a808ac09c00daf10bc3c4e223b</td>\n",
       "      <td>disciple</td>\n",
       "      <td>154</td>\n",
       "    </tr>\n",
       "    <tr>\n",
       "      <th>39</th>\n",
       "      <td>00000c289a1829a808ac09c00daf10bc3c4e223b</td>\n",
       "      <td>tanzwut</td>\n",
       "      <td>153</td>\n",
       "    </tr>\n",
       "    <tr>\n",
       "      <th>40</th>\n",
       "      <td>00000c289a1829a808ac09c00daf10bc3c4e223b</td>\n",
       "      <td>guano apes</td>\n",
       "      <td>151</td>\n",
       "    </tr>\n",
       "    <tr>\n",
       "      <th>41</th>\n",
       "      <td>00000c289a1829a808ac09c00daf10bc3c4e223b</td>\n",
       "      <td>the rolling stones</td>\n",
       "      <td>150</td>\n",
       "    </tr>\n",
       "    <tr>\n",
       "      <th>42</th>\n",
       "      <td>00000c289a1829a808ac09c00daf10bc3c4e223b</td>\n",
       "      <td>little big town</td>\n",
       "      <td>145</td>\n",
       "    </tr>\n",
       "    <tr>\n",
       "      <th>43</th>\n",
       "      <td>00000c289a1829a808ac09c00daf10bc3c4e223b</td>\n",
       "      <td>team dresch</td>\n",
       "      <td>137</td>\n",
       "    </tr>\n",
       "    <tr>\n",
       "      <th>44</th>\n",
       "      <td>00000c289a1829a808ac09c00daf10bc3c4e223b</td>\n",
       "      <td>betty</td>\n",
       "      <td>135</td>\n",
       "    </tr>\n",
       "    <tr>\n",
       "      <th>45</th>\n",
       "      <td>00000c289a1829a808ac09c00daf10bc3c4e223b</td>\n",
       "      <td>l7</td>\n",
       "      <td>135</td>\n",
       "    </tr>\n",
       "    <tr>\n",
       "      <th>46</th>\n",
       "      <td>00000c289a1829a808ac09c00daf10bc3c4e223b</td>\n",
       "      <td>bif naked</td>\n",
       "      <td>134</td>\n",
       "    </tr>\n",
       "    <tr>\n",
       "      <th>47</th>\n",
       "      <td>00000c289a1829a808ac09c00daf10bc3c4e223b</td>\n",
       "      <td>girlschool</td>\n",
       "      <td>134</td>\n",
       "    </tr>\n",
       "    <tr>\n",
       "      <th>48</th>\n",
       "      <td>00000c289a1829a808ac09c00daf10bc3c4e223b</td>\n",
       "      <td>the wallflowers</td>\n",
       "      <td>131</td>\n",
       "    </tr>\n",
       "  </tbody>\n",
       "</table>\n",
       "</div>"
      ],
      "text/plain": [
       "                                     user_id                   artist  play\n",
       "0   00000c289a1829a808ac09c00daf10bc3c4e223b          betty blowtorch  2137\n",
       "1   00000c289a1829a808ac09c00daf10bc3c4e223b                die ärzte  1099\n",
       "2   00000c289a1829a808ac09c00daf10bc3c4e223b        melissa etheridge   897\n",
       "3   00000c289a1829a808ac09c00daf10bc3c4e223b                elvenking   717\n",
       "4   00000c289a1829a808ac09c00daf10bc3c4e223b     juliette & the licks   706\n",
       "5   00000c289a1829a808ac09c00daf10bc3c4e223b    red hot chili peppers   691\n",
       "6   00000c289a1829a808ac09c00daf10bc3c4e223b                   magica   545\n",
       "7   00000c289a1829a808ac09c00daf10bc3c4e223b  the black dahlia murder   507\n",
       "8   00000c289a1829a808ac09c00daf10bc3c4e223b              the murmurs   424\n",
       "9   00000c289a1829a808ac09c00daf10bc3c4e223b               lunachicks   403\n",
       "10  00000c289a1829a808ac09c00daf10bc3c4e223b         walls of jericho   393\n",
       "11  00000c289a1829a808ac09c00daf10bc3c4e223b           letzte instanz   387\n",
       "12  00000c289a1829a808ac09c00daf10bc3c4e223b                goldfrapp   361\n",
       "13  00000c289a1829a808ac09c00daf10bc3c4e223b               horrorpops   358\n",
       "14  00000c289a1829a808ac09c00daf10bc3c4e223b             the butchies   329\n",
       "15  00000c289a1829a808ac09c00daf10bc3c4e223b            jack off jill   316\n",
       "16  00000c289a1829a808ac09c00daf10bc3c4e223b         babes in toyland   310\n",
       "17  00000c289a1829a808ac09c00daf10bc3c4e223b         dropkick murphys   302\n",
       "18  00000c289a1829a808ac09c00daf10bc3c4e223b            all:my:faults   288\n",
       "19  00000c289a1829a808ac09c00daf10bc3c4e223b                 le tigre   281\n",
       "20  00000c289a1829a808ac09c00daf10bc3c4e223b               schandmaul   244\n",
       "21  00000c289a1829a808ac09c00daf10bc3c4e223b                    edguy   232\n",
       "22  00000c289a1829a808ac09c00daf10bc3c4e223b      maximum the hormone   231\n",
       "23  00000c289a1829a808ac09c00daf10bc3c4e223b                 all ends   229\n",
       "24  00000c289a1829a808ac09c00daf10bc3c4e223b             jack johnson   227\n",
       "25  00000c289a1829a808ac09c00daf10bc3c4e223b                eluveitie   222\n",
       "26  00000c289a1829a808ac09c00daf10bc3c4e223b                rasputina   220\n",
       "27  00000c289a1829a808ac09c00daf10bc3c4e223b    london after midnight   210\n",
       "28  00000c289a1829a808ac09c00daf10bc3c4e223b              the killers   208\n",
       "29  00000c289a1829a808ac09c00daf10bc3c4e223b                  mutyumu   205\n",
       "30  00000c289a1829a808ac09c00daf10bc3c4e223b             judas priest   198\n",
       "31  00000c289a1829a808ac09c00daf10bc3c4e223b               rob zombie   198\n",
       "32  00000c289a1829a808ac09c00daf10bc3c4e223b             the bosshoss   189\n",
       "33  00000c289a1829a808ac09c00daf10bc3c4e223b         blue öyster cult   185\n",
       "34  00000c289a1829a808ac09c00daf10bc3c4e223b             sandra nasic   183\n",
       "35  00000c289a1829a808ac09c00daf10bc3c4e223b               john mayer   182\n",
       "36  00000c289a1829a808ac09c00daf10bc3c4e223b           sleater-kinney   175\n",
       "37  00000c289a1829a808ac09c00daf10bc3c4e223b                  the who   168\n",
       "38  00000c289a1829a808ac09c00daf10bc3c4e223b                 disciple   154\n",
       "39  00000c289a1829a808ac09c00daf10bc3c4e223b                  tanzwut   153\n",
       "40  00000c289a1829a808ac09c00daf10bc3c4e223b               guano apes   151\n",
       "41  00000c289a1829a808ac09c00daf10bc3c4e223b       the rolling stones   150\n",
       "42  00000c289a1829a808ac09c00daf10bc3c4e223b          little big town   145\n",
       "43  00000c289a1829a808ac09c00daf10bc3c4e223b              team dresch   137\n",
       "44  00000c289a1829a808ac09c00daf10bc3c4e223b                    betty   135\n",
       "45  00000c289a1829a808ac09c00daf10bc3c4e223b                       l7   135\n",
       "46  00000c289a1829a808ac09c00daf10bc3c4e223b                bif naked   134\n",
       "47  00000c289a1829a808ac09c00daf10bc3c4e223b               girlschool   134\n",
       "48  00000c289a1829a808ac09c00daf10bc3c4e223b          the wallflowers   131"
      ]
     },
     "execution_count": 6,
     "metadata": {},
     "output_type": "execute_result"
    }
   ],
   "source": [
    "condition = (data['user_id'] == data.loc[0, 'user_id']) # 첫 번째 유저가 듣는 아티스트의 노래\n",
    "data.loc[condition]"
   ]
  },
  {
   "cell_type": "code",
   "execution_count": 7,
   "id": "d100a058",
   "metadata": {},
   "outputs": [
    {
     "data": {
      "text/plain": [
       "358868"
      ]
     },
     "execution_count": 7,
     "metadata": {},
     "output_type": "execute_result"
    }
   ],
   "source": [
    "# 유저 수\n",
    "data['user_id'].nunique()"
   ]
  },
  {
   "cell_type": "code",
   "execution_count": 8,
   "id": "5e6d9edc",
   "metadata": {},
   "outputs": [
    {
     "data": {
      "text/plain": [
       "291346"
      ]
     },
     "execution_count": 8,
     "metadata": {},
     "output_type": "execute_result"
    }
   ],
   "source": [
    "# 아티스트 수\n",
    "data['artist'].nunique()"
   ]
  },
  {
   "cell_type": "code",
   "execution_count": 9,
   "id": "5f5d74ec",
   "metadata": {},
   "outputs": [
    {
     "data": {
      "text/plain": [
       "artist\n",
       "radiohead                77254\n",
       "the beatles              76245\n",
       "coldplay                 66658\n",
       "red hot chili peppers    48924\n",
       "muse                     46954\n",
       "metallica                45233\n",
       "pink floyd               44443\n",
       "the killers              41229\n",
       "linkin park              39773\n",
       "nirvana                  39479\n",
       "system of a down         37267\n",
       "queen                    34174\n",
       "u2                       33206\n",
       "daft punk                33001\n",
       "the cure                 32624\n",
       "led zeppelin             32295\n",
       "placebo                  32072\n",
       "depeche mode             31916\n",
       "david bowie              31862\n",
       "bob dylan                31799\n",
       "death cab for cutie      31482\n",
       "arctic monkeys           30348\n",
       "foo fighters             30144\n",
       "air                      29795\n",
       "the rolling stones       29754\n",
       "nine inch nails          28946\n",
       "sigur rós                28901\n",
       "green day                28732\n",
       "massive attack           28691\n",
       "moby                     28232\n",
       "Name: user_id, dtype: int64"
      ]
     },
     "execution_count": 9,
     "metadata": {},
     "output_type": "execute_result"
    }
   ],
   "source": [
    "# 인기 많은 아티스트\n",
    "artist_count = data.groupby('artist')['user_id'].count()\n",
    "artist_count.sort_values(ascending=False).head(30)"
   ]
  },
  {
   "cell_type": "code",
   "execution_count": 10,
   "id": "7b1aed65",
   "metadata": {},
   "outputs": [
    {
     "data": {
      "text/plain": [
       "count    358868.000000\n",
       "mean         48.863234\n",
       "std           8.524272\n",
       "min           1.000000\n",
       "25%          46.000000\n",
       "50%          49.000000\n",
       "75%          51.000000\n",
       "max         166.000000\n",
       "Name: artist, dtype: float64"
      ]
     },
     "execution_count": 10,
     "metadata": {},
     "output_type": "execute_result"
    }
   ],
   "source": [
    "# 유저별 몇 명의 아티스트를 듣고 있는지에 대한 통계\n",
    "user_count = data.groupby('user_id')['artist'].count()\n",
    "user_count.describe()"
   ]
  },
  {
   "cell_type": "code",
   "execution_count": 11,
   "id": "5a4ccc5b",
   "metadata": {},
   "outputs": [
    {
     "data": {
      "text/plain": [
       "count    358868.000000\n",
       "mean        142.187676\n",
       "std         213.089902\n",
       "min           1.000000\n",
       "25%          32.000000\n",
       "50%          83.000000\n",
       "75%         180.000000\n",
       "max       50142.000000\n",
       "Name: play, dtype: float64"
      ]
     },
     "execution_count": 11,
     "metadata": {},
     "output_type": "execute_result"
    }
   ],
   "source": [
    "# 유저별 play횟수 중앙값에 대한 통계\n",
    "user_median = data.groupby('user_id')['play'].median()\n",
    "user_median.describe()"
   ]
  },
  {
   "cell_type": "code",
   "execution_count": 14,
   "id": "81ea1a8f",
   "metadata": {},
   "outputs": [
    {
     "data": {
      "text/html": [
       "<div>\n",
       "<style scoped>\n",
       "    .dataframe tbody tr th:only-of-type {\n",
       "        vertical-align: middle;\n",
       "    }\n",
       "\n",
       "    .dataframe tbody tr th {\n",
       "        vertical-align: top;\n",
       "    }\n",
       "\n",
       "    .dataframe thead th {\n",
       "        text-align: right;\n",
       "    }\n",
       "</style>\n",
       "<table border=\"1\" class=\"dataframe\">\n",
       "  <thead>\n",
       "    <tr style=\"text-align: right;\">\n",
       "      <th></th>\n",
       "      <th>user_id</th>\n",
       "      <th>artist</th>\n",
       "      <th>play</th>\n",
       "    </tr>\n",
       "  </thead>\n",
       "  <tbody>\n",
       "    <tr>\n",
       "      <th>17535650</th>\n",
       "      <td>sep 20, 2008</td>\n",
       "      <td>turbostaat</td>\n",
       "      <td>12</td>\n",
       "    </tr>\n",
       "    <tr>\n",
       "      <th>17535651</th>\n",
       "      <td>sep 20, 2008</td>\n",
       "      <td>cuba missouri</td>\n",
       "      <td>11</td>\n",
       "    </tr>\n",
       "    <tr>\n",
       "      <th>17535652</th>\n",
       "      <td>sep 20, 2008</td>\n",
       "      <td>little man tate</td>\n",
       "      <td>11</td>\n",
       "    </tr>\n",
       "    <tr>\n",
       "      <th>17535653</th>\n",
       "      <td>sep 20, 2008</td>\n",
       "      <td>sigur rós</td>\n",
       "      <td>10</td>\n",
       "    </tr>\n",
       "    <tr>\n",
       "      <th>17535654</th>\n",
       "      <td>sep 20, 2008</td>\n",
       "      <td>the smiths</td>\n",
       "      <td>10</td>\n",
       "    </tr>\n",
       "    <tr>\n",
       "      <th>0</th>\n",
       "      <td>zimin</td>\n",
       "      <td>black eyed peas</td>\n",
       "      <td>30</td>\n",
       "    </tr>\n",
       "    <tr>\n",
       "      <th>1</th>\n",
       "      <td>zimin</td>\n",
       "      <td>maroon5</td>\n",
       "      <td>30</td>\n",
       "    </tr>\n",
       "    <tr>\n",
       "      <th>2</th>\n",
       "      <td>zimin</td>\n",
       "      <td>jason mraz</td>\n",
       "      <td>30</td>\n",
       "    </tr>\n",
       "    <tr>\n",
       "      <th>3</th>\n",
       "      <td>zimin</td>\n",
       "      <td>coldplay</td>\n",
       "      <td>30</td>\n",
       "    </tr>\n",
       "    <tr>\n",
       "      <th>4</th>\n",
       "      <td>zimin</td>\n",
       "      <td>beyoncé</td>\n",
       "      <td>30</td>\n",
       "    </tr>\n",
       "  </tbody>\n",
       "</table>\n",
       "</div>"
      ],
      "text/plain": [
       "               user_id           artist  play\n",
       "17535650  sep 20, 2008       turbostaat    12\n",
       "17535651  sep 20, 2008    cuba missouri    11\n",
       "17535652  sep 20, 2008  little man tate    11\n",
       "17535653  sep 20, 2008        sigur rós    10\n",
       "17535654  sep 20, 2008       the smiths    10\n",
       "0                zimin  black eyed peas    30\n",
       "1                zimin          maroon5    30\n",
       "2                zimin       jason mraz    30\n",
       "3                zimin         coldplay    30\n",
       "4                zimin          beyoncé    30"
      ]
     },
     "execution_count": 14,
     "metadata": {},
     "output_type": "execute_result"
    }
   ],
   "source": [
    "# 사용자 초기 정보 세팅\n",
    "my_favorite = ['black eyed peas', 'maroon5' ,'jason mraz' ,'coldplay' ,'beyoncé']\n",
    "\n",
    "# zimin이라는 user_id가 위 아티스트의 노래를 30회씩 들었다고 가정함.\n",
    "my_playlist = pd.DataFrame({'user_id': ['zimin']*5, 'artist':my_favorite, 'play':[30]*5})\n",
    "\n",
    "if not data.isin({'user_id':['zimin']})['user_id'].any(): # user_id에 'zimin'이라는 데이터가 없다면 임의로 만든 my_favorite 데이터를 추가해줌.\n",
    "    data = data.append(my_playlist)\n",
    "    \n",
    "data.tail(10)"
   ]
  },
  {
   "cell_type": "code",
   "execution_count": 16,
   "id": "d19105f3",
   "metadata": {},
   "outputs": [],
   "source": [
    "# 고유한 유저와 아티스트를 찾아내는 코드\n",
    "user_unique = data['user_id'].unique()\n",
    "artist_unique = data['artist'].unique()\n",
    "\n",
    "# 유저와 아티스트를 인덱싱 하는 코드\n",
    "user_to_idx = {v:k for k,v in enumerate(user_unique)}\n",
    "artist_to_idx = {v:k for k,v in enumerate(artist_unique)}"
   ]
  },
  {
   "cell_type": "code",
   "execution_count": 17,
   "id": "2a56cfd1",
   "metadata": {},
   "outputs": [
    {
     "name": "stdout",
     "output_type": "stream",
     "text": [
      "358868\n",
      "376\n"
     ]
    }
   ],
   "source": [
    "print(user_to_idx['zimin'])\n",
    "print(artist_to_idx['black eyed peas'])"
   ]
  },
  {
   "cell_type": "code",
   "execution_count": 18,
   "id": "43f0e7b1",
   "metadata": {},
   "outputs": [
    {
     "name": "stdout",
     "output_type": "stream",
     "text": [
      "user_id column indexing OK!!\n",
      "aritst column indexing OK!!\n"
     ]
    },
    {
     "data": {
      "text/html": [
       "<div>\n",
       "<style scoped>\n",
       "    .dataframe tbody tr th:only-of-type {\n",
       "        vertical-align: middle;\n",
       "    }\n",
       "\n",
       "    .dataframe tbody tr th {\n",
       "        vertical-align: top;\n",
       "    }\n",
       "\n",
       "    .dataframe thead th {\n",
       "        text-align: right;\n",
       "    }\n",
       "</style>\n",
       "<table border=\"1\" class=\"dataframe\">\n",
       "  <thead>\n",
       "    <tr style=\"text-align: right;\">\n",
       "      <th></th>\n",
       "      <th>user_id</th>\n",
       "      <th>artist</th>\n",
       "      <th>play</th>\n",
       "    </tr>\n",
       "  </thead>\n",
       "  <tbody>\n",
       "    <tr>\n",
       "      <th>0</th>\n",
       "      <td>0</td>\n",
       "      <td>0</td>\n",
       "      <td>2137</td>\n",
       "    </tr>\n",
       "    <tr>\n",
       "      <th>1</th>\n",
       "      <td>0</td>\n",
       "      <td>1</td>\n",
       "      <td>1099</td>\n",
       "    </tr>\n",
       "    <tr>\n",
       "      <th>2</th>\n",
       "      <td>0</td>\n",
       "      <td>2</td>\n",
       "      <td>897</td>\n",
       "    </tr>\n",
       "    <tr>\n",
       "      <th>3</th>\n",
       "      <td>0</td>\n",
       "      <td>3</td>\n",
       "      <td>717</td>\n",
       "    </tr>\n",
       "    <tr>\n",
       "      <th>4</th>\n",
       "      <td>0</td>\n",
       "      <td>4</td>\n",
       "      <td>706</td>\n",
       "    </tr>\n",
       "    <tr>\n",
       "      <th>...</th>\n",
       "      <td>...</td>\n",
       "      <td>...</td>\n",
       "      <td>...</td>\n",
       "    </tr>\n",
       "    <tr>\n",
       "      <th>0</th>\n",
       "      <td>358868</td>\n",
       "      <td>376</td>\n",
       "      <td>30</td>\n",
       "    </tr>\n",
       "    <tr>\n",
       "      <th>1</th>\n",
       "      <td>358868</td>\n",
       "      <td>270115</td>\n",
       "      <td>30</td>\n",
       "    </tr>\n",
       "    <tr>\n",
       "      <th>2</th>\n",
       "      <td>358868</td>\n",
       "      <td>3746</td>\n",
       "      <td>30</td>\n",
       "    </tr>\n",
       "    <tr>\n",
       "      <th>3</th>\n",
       "      <td>358868</td>\n",
       "      <td>62</td>\n",
       "      <td>30</td>\n",
       "    </tr>\n",
       "    <tr>\n",
       "      <th>4</th>\n",
       "      <td>358868</td>\n",
       "      <td>396</td>\n",
       "      <td>30</td>\n",
       "    </tr>\n",
       "  </tbody>\n",
       "</table>\n",
       "<p>17535660 rows × 3 columns</p>\n",
       "</div>"
      ],
      "text/plain": [
       "    user_id  artist  play\n",
       "0         0       0  2137\n",
       "1         0       1  1099\n",
       "2         0       2   897\n",
       "3         0       3   717\n",
       "4         0       4   706\n",
       "..      ...     ...   ...\n",
       "0    358868     376    30\n",
       "1    358868  270115    30\n",
       "2    358868    3746    30\n",
       "3    358868      62    30\n",
       "4    358868     396    30\n",
       "\n",
       "[17535660 rows x 3 columns]"
      ]
     },
     "execution_count": 18,
     "metadata": {},
     "output_type": "execute_result"
    }
   ],
   "source": [
    "temp_user_data = data['user_id'].map(user_to_idx.get).dropna()\n",
    "if len(temp_user_data) == len(data):\n",
    "    print('user_id column indexing OK!!')\n",
    "    data['user_id'] = temp_user_data\n",
    "else:\n",
    "    print('user_id column indexing Fail!!')\n",
    "    \n",
    "temp_artist_data = data['artist'].map(artist_to_idx.get).dropna()\n",
    "if len(temp_artist_data) == len(data):\n",
    "    print('aritst column indexing OK!!')\n",
    "    data['artist'] = temp_artist_data\n",
    "else:\n",
    "    print('artist column indexing Fail!!')\n",
    "    \n",
    "data"
   ]
  },
  {
   "cell_type": "code",
   "execution_count": 19,
   "id": "1eeb3363",
   "metadata": {},
   "outputs": [
    {
     "name": "stdout",
     "output_type": "stream",
     "text": [
      "147740,17535660\n",
      "Ratio of only_one over all data is 0.84%\n"
     ]
    }
   ],
   "source": [
    "# 1회만 플레이한 데이터의 비율\n",
    "only_one = data[data['play']<2]\n",
    "one, all_data = len(only_one), len(data)\n",
    "print(f'{one},{all_data}')\n",
    "print(f'Ratio of only_one over all data is {one/all_data:.2%}')"
   ]
  },
  {
   "cell_type": "code",
   "execution_count": 20,
   "id": "fff4187d",
   "metadata": {},
   "outputs": [
    {
     "data": {
      "text/plain": [
       "<358869x291347 sparse matrix of type '<class 'numpy.int64'>'\n",
       "\twith 17535578 stored elements in Compressed Sparse Row format>"
      ]
     },
     "execution_count": 20,
     "metadata": {},
     "output_type": "execute_result"
    }
   ],
   "source": [
    "# CSR (Compressed Sparse Row) Matrix\n",
    "from scipy.sparse import csr_matrix\n",
    "\n",
    "num_user = data['user_id'].nunique()\n",
    "num_artist = data['artist'].nunique()\n",
    "\n",
    "csr_data = csr_matrix((data.play, (data.user_id, data.artist)), shape = (num_user, num_artist))\n",
    "csr_data"
   ]
  },
  {
   "cell_type": "code",
   "execution_count": 21,
   "id": "1ff26dcd",
   "metadata": {},
   "outputs": [],
   "source": [
    "from implicit.als import AlternatingLeastSquares\n",
    "import os\n",
    "import numpy as np\n",
    "\n",
    "# Implicit AlternatingLeastSquares 모델의 선언  (factors = user와 item의 벡터 차원)\n",
    "als_model = AlternatingLeastSquares(factors=100, regularization=0.01, use_gpu=False, iterations=15, dtype=np.float32)"
   ]
  },
  {
   "cell_type": "code",
   "execution_count": 22,
   "id": "ca7933d4",
   "metadata": {},
   "outputs": [
    {
     "data": {
      "text/plain": [
       "<291347x358869 sparse matrix of type '<class 'numpy.int64'>'\n",
       "\twith 17535578 stored elements in Compressed Sparse Column format>"
      ]
     },
     "execution_count": 22,
     "metadata": {},
     "output_type": "execute_result"
    }
   ],
   "source": [
    "csr_data_transpose = csr_data.T\n",
    "csr_data_transpose"
   ]
  },
  {
   "cell_type": "code",
   "execution_count": 23,
   "id": "bd8cd5ca",
   "metadata": {},
   "outputs": [
    {
     "data": {
      "application/vnd.jupyter.widget-view+json": {
       "model_id": "32a1b9b238c5499997e26f00edb695ff",
       "version_major": 2,
       "version_minor": 0
      },
      "text/plain": [
       "  0%|          | 0/15 [00:00<?, ?it/s]"
      ]
     },
     "metadata": {},
     "output_type": "display_data"
    }
   ],
   "source": [
    "# 모델 훈련\n",
    "als_model.fit(csr_data_transpose)"
   ]
  },
  {
   "cell_type": "code",
   "execution_count": 24,
   "id": "9972fc7b",
   "metadata": {},
   "outputs": [],
   "source": [
    "# zimin 벡터와 black eyed peas의 벡터를 어떻게 만들고 있는지\n",
    "zimin, black_eyed_peas = user_to_idx['zimin'], artist_to_idx['black eyed peas'] \n",
    "zimin_vector, black_eyed_peas_vector = als_model.user_factors[zimin], als_model.item_factors[black_eyed_peas]"
   ]
  },
  {
   "cell_type": "code",
   "execution_count": 25,
   "id": "8ef40b0f",
   "metadata": {},
   "outputs": [
    {
     "data": {
      "text/plain": [
       "array([ 0.76132077,  1.1782776 , -0.6166541 ,  0.3467529 , -0.45008954,\n",
       "       -0.3965559 ,  0.18357642, -0.33652842, -0.46917427,  0.84711915,\n",
       "       -0.3631135 , -0.0327185 , -0.83133376,  0.29064643, -0.03964568,\n",
       "        1.0648712 , -1.2303592 ,  0.5615266 , -0.08651974,  0.31098178,\n",
       "        0.6067371 ,  0.07704746,  1.8009377 ,  1.0327476 , -0.9482664 ,\n",
       "        0.42598173,  0.25145486, -0.08461119, -0.17675091,  1.5078886 ,\n",
       "        1.1006594 , -1.2628244 ,  0.31085306, -0.11341365, -0.36885494,\n",
       "        0.5105985 ,  0.75037295,  0.24972644, -0.37711006,  0.9635734 ,\n",
       "       -0.92745835,  0.12255936,  0.16787687, -0.27499506, -0.00828968,\n",
       "        0.8668057 , -0.02253243, -0.67646307, -0.97170377,  1.2112887 ,\n",
       "        0.45391876,  0.3326502 ,  0.6963566 ,  1.1631428 , -0.19191512,\n",
       "        0.3353506 ,  0.03384484, -1.0416486 ,  0.1734217 , -1.0814941 ,\n",
       "       -0.51784444,  0.62007326, -0.5025942 , -0.28630146, -1.0473336 ,\n",
       "        0.1738636 ,  1.6230191 , -0.1815978 , -0.63799363, -0.42599654,\n",
       "        0.4690376 , -0.05283963, -0.73089015,  0.08171904, -0.54786485,\n",
       "        0.71751064, -0.670506  , -0.6981967 , -0.24345632,  0.07256678,\n",
       "       -0.83592176,  0.97074103, -0.59309614,  0.24657966, -0.86431104,\n",
       "       -0.6297917 , -0.15867016,  0.34095964,  0.01102918, -1.2156545 ,\n",
       "       -0.13701418,  0.5863968 ,  0.9153924 , -0.25290388, -0.01057089,\n",
       "       -0.8461626 ,  0.46710765,  0.30241048, -0.64539236,  0.85017663],\n",
       "      dtype=float32)"
      ]
     },
     "execution_count": 25,
     "metadata": {},
     "output_type": "execute_result"
    }
   ],
   "source": [
    "zimin_vector"
   ]
  },
  {
   "cell_type": "code",
   "execution_count": 26,
   "id": "fe79fba6",
   "metadata": {},
   "outputs": [
    {
     "data": {
      "text/plain": [
       "array([ 0.01189456,  0.01532102,  0.01512224,  0.0269378 , -0.00075379,\n",
       "       -0.00690983,  0.00141757, -0.00232543,  0.00319016,  0.00914412,\n",
       "       -0.0088042 ,  0.00909489, -0.01332489,  0.00302437,  0.00727103,\n",
       "        0.00816512, -0.0039206 ,  0.02616334,  0.00845786, -0.00766581,\n",
       "        0.02450564,  0.00403817,  0.04267665,  0.01564836, -0.01836249,\n",
       "        0.01815652,  0.03075843, -0.00484053, -0.00153673,  0.0201375 ,\n",
       "        0.0323693 , -0.00432105,  0.00481152, -0.00185916, -0.00791652,\n",
       "        0.01689128,  0.01453638,  0.00076129,  0.00421561,  0.02748526,\n",
       "       -0.00939483, -0.00254463, -0.0049639 , -0.00566669, -0.00480024,\n",
       "       -0.00226352, -0.00510379,  0.0052995 ,  0.00018011,  0.02693589,\n",
       "       -0.00178751,  0.01549863,  0.00604689,  0.02150031, -0.00016792,\n",
       "        0.00060578,  0.01629929,  0.00160429,  0.02271576,  0.01001502,\n",
       "       -0.00431834,  0.01405862, -0.00283787, -0.00094552, -0.00777954,\n",
       "        0.00375552,  0.00437243, -0.00116274,  0.00675768, -0.00606176,\n",
       "        0.00979783,  0.0141424 , -0.00014939, -0.00044458,  0.00309029,\n",
       "        0.02153796,  0.00689605, -0.00548832, -0.00428174,  0.00735394,\n",
       "       -0.00394745,  0.0305967 , -0.00067656,  0.00745639,  0.01517031,\n",
       "        0.00264473,  0.0034306 ,  0.00752303,  0.00786813, -0.00395581,\n",
       "        0.00947938,  0.01760384,  0.01699165,  0.00844336,  0.00771459,\n",
       "        0.00349143,  0.01159851,  0.00662546,  0.00556002,  0.00835424],\n",
       "      dtype=float32)"
      ]
     },
     "execution_count": 26,
     "metadata": {},
     "output_type": "execute_result"
    }
   ],
   "source": [
    "black_eyed_peas_vector"
   ]
  },
  {
   "cell_type": "code",
   "execution_count": 27,
   "id": "684b5e50",
   "metadata": {},
   "outputs": [
    {
     "data": {
      "text/plain": [
       "0.50480235"
      ]
     },
     "execution_count": 27,
     "metadata": {},
     "output_type": "execute_result"
    }
   ],
   "source": [
    "# 두 벡터를 곱하면 어떤 값이 나오는지\n",
    "np.dot(zimin_vector, black_eyed_peas_vector)"
   ]
  },
  {
   "cell_type": "code",
   "execution_count": 28,
   "id": "2faa13bf",
   "metadata": {},
   "outputs": [
    {
     "data": {
      "text/plain": [
       "0.34346738"
      ]
     },
     "execution_count": 28,
     "metadata": {},
     "output_type": "execute_result"
    }
   ],
   "source": [
    "# queen에 대한 선호도\n",
    "queen = artist_to_idx['queen']\n",
    "queen_vector = als_model.item_factors[queen]\n",
    "np.dot(zimin_vector, queen_vector)"
   ]
  },
  {
   "cell_type": "code",
   "execution_count": 29,
   "id": "dfaacdfe",
   "metadata": {},
   "outputs": [
    {
     "data": {
      "text/plain": [
       "[(62, 1.0000002),\n",
       " (277, 0.98807645),\n",
       " (28, 0.9817193),\n",
       " (5, 0.97980964),\n",
       " (473, 0.9716704),\n",
       " (217, 0.9714852),\n",
       " (247, 0.9690969),\n",
       " (490, 0.9620642),\n",
       " (418, 0.96098304),\n",
       " (694, 0.955131),\n",
       " (1018, 0.9540864),\n",
       " (910, 0.9529364),\n",
       " (268, 0.94738376),\n",
       " (782, 0.9468836),\n",
       " (75, 0.9445583)]"
      ]
     },
     "execution_count": 29,
     "metadata": {},
     "output_type": "execute_result"
    }
   ],
   "source": [
    "favorite_artist = 'coldplay'\n",
    "artist_id = artist_to_idx[favorite_artist]\n",
    "similar_artist = als_model.similar_items(artist_id, N=15) # coldplay와 비슷한 아티스트를 찾음.\n",
    "similar_artist\n",
    "# (아티스트 id, 유사도)를 튜플로 반환함."
   ]
  },
  {
   "cell_type": "code",
   "execution_count": 30,
   "id": "b80652db",
   "metadata": {},
   "outputs": [
    {
     "data": {
      "text/plain": [
       "['coldplay',\n",
       " 'muse',\n",
       " 'the killers',\n",
       " 'red hot chili peppers',\n",
       " 'placebo',\n",
       " 'radiohead',\n",
       " 'the beatles',\n",
       " 'oasis',\n",
       " 'u2',\n",
       " 'foo fighters',\n",
       " 'the smashing pumpkins',\n",
       " 'nirvana',\n",
       " 'pink floyd',\n",
       " 'the white stripes',\n",
       " 'queen']"
      ]
     },
     "execution_count": 30,
     "metadata": {},
     "output_type": "execute_result"
    }
   ],
   "source": [
    "# index로부터 artist 이름을 얻는 dict를 생성함.\n",
    "idx_to_artist = {v:k for k,v in artist_to_idx.items()}\n",
    "[idx_to_artist[i[0]] for i in similar_artist]"
   ]
  },
  {
   "cell_type": "code",
   "execution_count": 31,
   "id": "d70300c1",
   "metadata": {},
   "outputs": [],
   "source": [
    "def get_similar_artist(artist_name: str):\n",
    "    artist_id = artist_to_idx[artist_name]\n",
    "    similar_artist = als_model.similar_items(artist_id)\n",
    "    similar_artist = [idx_to_artist[i[0]] for i in similar_artist]\n",
    "    return similar_artist"
   ]
  },
  {
   "cell_type": "code",
   "execution_count": 32,
   "id": "f0905fc5",
   "metadata": {},
   "outputs": [
    {
     "data": {
      "text/plain": [
       "['2pac',\n",
       " 'dr. dre',\n",
       " 'notorious b.i.g.',\n",
       " '50 cent',\n",
       " 'nas',\n",
       " 'snoop dogg',\n",
       " 'the game',\n",
       " 'jay-z',\n",
       " 'ludacris',\n",
       " 'ice cube']"
      ]
     },
     "execution_count": 32,
     "metadata": {},
     "output_type": "execute_result"
    }
   ],
   "source": [
    "get_similar_artist('2pac')"
   ]
  },
  {
   "cell_type": "code",
   "execution_count": 33,
   "id": "31ef4240",
   "metadata": {},
   "outputs": [
    {
     "data": {
      "text/plain": [
       "['lady gaga',\n",
       " 'britney spears',\n",
       " 'rihanna',\n",
       " 'katy perry',\n",
       " 'beyoncé',\n",
       " 'the pussycat dolls',\n",
       " 'christina aguilera',\n",
       " 'justin timberlake',\n",
       " 'kelly clarkson',\n",
       " 'leona lewis']"
      ]
     },
     "execution_count": 33,
     "metadata": {},
     "output_type": "execute_result"
    }
   ],
   "source": [
    "get_similar_artist('lady gaga')"
   ]
  },
  {
   "cell_type": "code",
   "execution_count": 34,
   "id": "4925b2ce",
   "metadata": {},
   "outputs": [
    {
     "data": {
      "text/plain": [
       "[(350, 0.4556296),\n",
       " (369, 0.4526798),\n",
       " (354, 0.42570007),\n",
       " (1800, 0.42362553),\n",
       " (550, 0.42145586),\n",
       " (627, 0.4024527),\n",
       " (391, 0.39237514),\n",
       " (355, 0.38784584),\n",
       " (2249, 0.38346833),\n",
       " (382, 0.37939176),\n",
       " (564, 0.37520054),\n",
       " (5555, 0.37134698),\n",
       " (409, 0.36961383),\n",
       " (274, 0.3695495),\n",
       " (901, 0.36910683),\n",
       " (247, 0.36784074),\n",
       " (621, 0.36649945),\n",
       " (5, 0.36344004),\n",
       " (618, 0.36164677),\n",
       " (418, 0.35978898)]"
      ]
     },
     "execution_count": 34,
     "metadata": {},
     "output_type": "execute_result"
    }
   ],
   "source": [
    "user = user_to_idx['zimin']\n",
    "artist_recommended = als_model.recommend(user, csr_data, N=20, filter_already_liked_items=True)\n",
    "artist_recommended"
   ]
  },
  {
   "cell_type": "code",
   "execution_count": 35,
   "id": "4e1282fb",
   "metadata": {},
   "outputs": [
    {
     "data": {
      "text/plain": [
       "['rihanna',\n",
       " 'justin timberlake',\n",
       " 'nelly furtado',\n",
       " 'lady gaga',\n",
       " 'britney spears',\n",
       " 'maroon 5',\n",
       " 'christina aguilera',\n",
       " 'madonna',\n",
       " 'katy perry',\n",
       " 'mika',\n",
       " 'kanye west',\n",
       " 'timbaland',\n",
       " 'amy winehouse',\n",
       " 'michael jackson',\n",
       " 'pink',\n",
       " 'the beatles',\n",
       " 'alicia keys',\n",
       " 'red hot chili peppers',\n",
       " 'the pussycat dolls',\n",
       " 'u2']"
      ]
     },
     "execution_count": 35,
     "metadata": {},
     "output_type": "execute_result"
    }
   ],
   "source": [
    "[idx_to_artist[i[0]] for i in artist_recommended]"
   ]
  },
  {
   "cell_type": "code",
   "execution_count": 36,
   "id": "5160fc47",
   "metadata": {},
   "outputs": [],
   "source": [
    "rihanna = artist_to_idx['rihanna']\n",
    "explain = als_model.explain(user, csr_data, itemid=rihanna)"
   ]
  },
  {
   "cell_type": "code",
   "execution_count": 37,
   "id": "a02d3aaa",
   "metadata": {},
   "outputs": [
    {
     "data": {
      "text/plain": [
       "[('beyoncé', 0.2251586210747576),\n",
       " ('black eyed peas', 0.14480381708128778),\n",
       " ('coldplay', 0.04555182898778115),\n",
       " ('jason mraz', 0.0424266699277317),\n",
       " ('maroon5', -0.00027321561903276834)]"
      ]
     },
     "execution_count": 37,
     "metadata": {},
     "output_type": "execute_result"
    }
   ],
   "source": [
    "[(idx_to_artist[i[0]], i[1]) for i in explain[1]]"
   ]
  }
 ],
 "metadata": {
  "kernelspec": {
   "display_name": "Python 3 (ipykernel)",
   "language": "python",
   "name": "python3"
  },
  "language_info": {
   "codemirror_mode": {
    "name": "ipython",
    "version": 3
   },
   "file_extension": ".py",
   "mimetype": "text/x-python",
   "name": "python",
   "nbconvert_exporter": "python",
   "pygments_lexer": "ipython3",
   "version": "3.9.7"
  }
 },
 "nbformat": 4,
 "nbformat_minor": 5
}
