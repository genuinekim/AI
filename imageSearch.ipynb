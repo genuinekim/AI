{
 "cells": [
  {
   "cell_type": "code",
   "execution_count": 1,
   "id": "707944f0",
   "metadata": {},
   "outputs": [],
   "source": [
    "import os\n",
    "import pickle\n",
    "import cv2\n",
    "import numpy as np\n",
    "from matplotlib import pyplot as plt\n",
    "from tqdm import tqdm\n",
    "from PIL import Image\n",
    "\n",
    "#이미지 데이터베이스 구축을 위해 CIFAR-100 데이터셋 활용\n",
    "dir_path = os.getenv('HOME')+'/aiffel/python_image_proc/data/cifar-100-python'\n",
    "train_file_path = os.path.join(dir_path, 'train')\n",
    "\n",
    "# 이미지를 저장할 하위 디렉토리를 생성 \n",
    "images_dir_path = os.getenv('HOME')+'/aiffel/python_image_proc/cifar-images'\n",
    "if not os.path.exists(images_dir_path):\n",
    "    os.mkdir(images_dir_path) "
   ]
  },
  {
   "cell_type": "code",
   "execution_count": 8,
   "id": "89aded9b",
   "metadata": {},
   "outputs": [
    {
     "name": "stdout",
     "output_type": "stream",
     "text": [
      "<class 'dict'>\n"
     ]
    },
    {
     "data": {
      "text/plain": [
       "dict_keys([b'filenames', b'batch_label', b'fine_labels', b'coarse_labels', b'data'])"
      ]
     },
     "execution_count": 8,
     "metadata": {},
     "output_type": "execute_result"
    }
   ],
   "source": [
    "# 이미지 파일을 열어옴.\n",
    "with open(train_file_path, 'rb') as f:\n",
    "    train = pickle.load(f, encoding='bytes')\n",
    "    \n",
    "print(type(train))  \n",
    "train.keys()"
   ]
  },
  {
   "cell_type": "code",
   "execution_count": 11,
   "id": "e29440fc",
   "metadata": {},
   "outputs": [
    {
     "data": {
      "text/plain": [
       "array([[255, 255, 255, ...,  10,  59,  79],\n",
       "       [255, 253, 253, ..., 253, 253, 255],\n",
       "       [250, 248, 247, ..., 194, 207, 228],\n",
       "       [124, 131, 135, ..., 232, 236, 231],\n",
       "       [ 43,  32,  87, ...,  60,  29,  37]], dtype=uint8)"
      ]
     },
     "execution_count": 11,
     "metadata": {},
     "output_type": "execute_result"
    }
   ],
   "source": [
    "train[b'data'][0:5] "
   ]
  },
  {
   "cell_type": "code",
   "execution_count": 12,
   "id": "416bcdd3",
   "metadata": {},
   "outputs": [
    {
     "data": {
      "text/plain": [
       "(3072,)"
      ]
     },
     "execution_count": 12,
     "metadata": {},
     "output_type": "execute_result"
    }
   ],
   "source": [
    "train[b'data'][1].shape "
   ]
  },
  {
   "cell_type": "code",
   "execution_count": 17,
   "id": "5c4d99bf",
   "metadata": {},
   "outputs": [
    {
     "data": {
      "text/plain": [
       "[b'bos_taurus_s_000507.png',\n",
       " b'stegosaurus_s_000125.png',\n",
       " b'mcintosh_s_000643.png',\n",
       " b'altar_boy_s_001435.png',\n",
       " b'cichlid_s_000031.png']"
      ]
     },
     "execution_count": 17,
     "metadata": {},
     "output_type": "execute_result"
    }
   ],
   "source": [
    "train[b'filenames'][0:5]"
   ]
  },
  {
   "cell_type": "code",
   "execution_count": 23,
   "id": "d247c6c4",
   "metadata": {},
   "outputs": [
    {
     "name": "stderr",
     "output_type": "stream",
     "text": [
      "100%|██████████| 50000/50000 [01:01<00:00, 807.98it/s]\n"
     ]
    }
   ],
   "source": [
    "# 32X32의 이미지 파일 50000개를 생성합니다. \n",
    "for i in tqdm(range(len(train[b'filenames']))):\n",
    "    filename = train[b'filenames'][i].decode() # byte를 str로 디코딩함.\n",
    "    data = train[b'data'][i].reshape([32, 32, 3], order='F') # # 32 x 32 x 3으로 reshape한 후, 앞선 차원부터 데이터를 채움.\n",
    "    image = Image.fromarray(data.swapaxes(0, 1)) # 이미지의 x축과 y축을 바꿔줌.\n",
    "    image.save(os.path.join(images_dir_path, filename))"
   ]
  },
  {
   "cell_type": "code",
   "execution_count": 30,
   "id": "fa508f2a",
   "metadata": {},
   "outputs": [],
   "source": [
    "# 파일명을 인자로 받아 해당 이미지와 히스토그램을 출력해 주는 함수\n",
    "def draw_color_histogram_from_image(file_name):\n",
    "    image_path = os.path.join(images_dir_path, file_name)\n",
    "    \n",
    "    img = Image.open(image_path)  # 이미지 열기\n",
    "    cv_image = cv2.imread(image_path) # 파일로부터 이미지를 읽어옴.\n",
    "\n",
    "    f = plt.figure(figsize=(10,3))\n",
    "    im1 = f.add_subplot(1,2,1)\n",
    "    im1.imshow(img)\n",
    "    im1.set_title(\"Image\")\n",
    "\n",
    "    im2 = f.add_subplot(1,2,2)\n",
    "    color = ('b','g','r')\n",
    "    for i,col in enumerate(color): # 0:blue, 1:green, 2:red\n",
    "        histr = cv2.calcHist([cv_image],[i],None,[256],[0,256]) # 히스토그램 그리기\n",
    "        im2.plot(histr, color = col)   #  채널 색상과 맞춰서 그림.\n",
    "    im2.set_title(\"Histogram\")"
   ]
  },
  {
   "cell_type": "code",
   "execution_count": 31,
   "id": "cf86d1d5",
   "metadata": {},
   "outputs": [
    {
     "data": {
      "image/png": "[encoded data removed]",
      "text/plain": [
       "<Figure size 720x216 with 2 Axes>"
      ]
     },
     "metadata": {
      "needs_background": "light"
     },
     "output_type": "display_data"
    }
   ],
   "source": [
    "draw_color_histogram_from_image('adriatic_s_001807.png') # 파란색이 가장 많이 쓰임."
   ]
  },
  {
   "cell_type": "code",
   "execution_count": 39,
   "id": "e4110fb9",
   "metadata": {},
   "outputs": [],
   "source": [
    "# 이미지 파일 1개에 대해 히스토그램을 만드는 함수\n",
    "def get_histogram(image):  \n",
    "    histogram = []\n",
    "\n",
    "    for i in range(3):\n",
    "        channel_histogram = cv2.calcHist(images=[image],\n",
    "                                         channels=[i], #채널별 히스토그램을 생성함.\n",
    "                                         mask=None,\n",
    "                                         histSize=[4],  # 히스토그램의 구간을 4개로 함.\n",
    "                                         ranges=[0, 256])\n",
    "        histogram.append(channel_histogram)  \n",
    "\n",
    "    histogram = np.concatenate(histogram)\n",
    "    histogram = cv2.normalize(histogram, histogram)\n",
    "\n",
    "    return histogram "
   ]
  },
  {
   "cell_type": "code",
   "execution_count": 40,
   "id": "e8a34f32",
   "metadata": {},
   "outputs": [],
   "source": [
    "def build_histogram_db():\n",
    "    histogram_db = {}\n",
    "\n",
    "    path = images_dir_path\n",
    "    file_list = os.listdir(images_dir_path)  # 디렉토리에 모아 둔 이미지 파일들을 전부 리스트업함.\n",
    "\n",
    "    for file_name in tqdm(file_list):\n",
    "        file_path = os.path.join(images_dir_path, file_name)\n",
    "        image = cv2.imread(file_path)\n",
    "\n",
    "        histogram = get_histogram(image)\n",
    "\n",
    "        histogram_db[file_name] = histogram\n",
    "\n",
    "    return histogram_db  # 이미지 이름을 key로 하고, 히스토그램을 value로 하는 딕셔너리 histogram_db를 반환"
   ]
  },
  {
   "cell_type": "code",
   "execution_count": 51,
   "id": "fdd1fa4f",
   "metadata": {},
   "outputs": [
    {
     "name": "stderr",
     "output_type": "stream",
     "text": [
      "100%|██████████| 49999/49999 [03:29<00:00, 238.48it/s]\n"
     ]
    },
    {
     "data": {
      "text/plain": [
       "array([[0.        ],\n",
       "       [0.        ],\n",
       "       [0.29744893],\n",
       "       [0.5828624 ],\n",
       "       [0.        ],\n",
       "       [0.17107612],\n",
       "       [0.41608465],\n",
       "       [0.29315054],\n",
       "       [0.        ],\n",
       "       [0.34301192],\n",
       "       [0.37224102],\n",
       "       [0.16505837]], dtype=float32)"
      ]
     },
     "execution_count": 51,
     "metadata": {},
     "output_type": "execute_result"
    }
   ],
   "source": [
    "histogram_db = build_histogram_db()\n",
    "histogram_db['adriatic_s_001807.png']"
   ]
  },
  {
   "cell_type": "code",
   "execution_count": 45,
   "id": "093c884f",
   "metadata": {},
   "outputs": [],
   "source": [
    "def get_target_histogram():\n",
    "    filename = input(\"이미지 파일명을 입력하세요: \")\n",
    "    if filename not in histogram_db:\n",
    "        return print('유효하지 않은 이미지 파일명입니다.')\n",
    "    return histogram_db[filename]"
   ]
  },
  {
   "cell_type": "code",
   "execution_count": 50,
   "id": "c6da7268",
   "metadata": {},
   "outputs": [
    {
     "name": "stdout",
     "output_type": "stream",
     "text": [
      "이미지 파일명을 입력하세요: adriatic_s_001807.png\n"
     ]
    },
    {
     "data": {
      "text/plain": [
       "array([[0.        ],\n",
       "       [0.        ],\n",
       "       [0.29744893],\n",
       "       [0.5828624 ],\n",
       "       [0.        ],\n",
       "       [0.17107612],\n",
       "       [0.41608465],\n",
       "       [0.29315054],\n",
       "       [0.        ],\n",
       "       [0.34301192],\n",
       "       [0.37224102],\n",
       "       [0.16505837]], dtype=float32)"
      ]
     },
     "execution_count": 50,
     "metadata": {},
     "output_type": "execute_result"
    }
   ],
   "source": [
    "# CIFAR-100 히스토그램 중 입력된 이미지 이름에 해당하는 히스토그램을 입력 이미지로 선택하여 target_histogram이라는 변수명으로 지정\n",
    "target_histogram = get_target_histogram()\n",
    "target_histogram"
   ]
  },
  {
   "cell_type": "code",
   "execution_count": 52,
   "id": "8e079f65",
   "metadata": {},
   "outputs": [],
   "source": [
    "def search(histogram_db, target_histogram, top_k=5): #유사도 순서상으로 상위 5개 이미지만 선택함.\n",
    "    results = {}\n",
    "\n",
    "    # 입력 이미지와 검색 대상 이미지 하나하나의 히스토그램 간 유사도를 계산\n",
    "    for file_name, histogram in tqdm(histogram_db.items()):\n",
    "        distance = cv2.compareHist(H1 = target_histogram,      \n",
    "                                   H2 = histogram,\n",
    "                                   method = cv2.HISTCMP_CHISQR)\n",
    "\n",
    "        results[file_name] = distance\n",
    "\n",
    "    results = dict(sorted(results.items(), key=lambda item: item[1])[:top_k])\n",
    "\n",
    "    return results"
   ]
  },
  {
   "cell_type": "code",
   "execution_count": 53,
   "id": "5da78f00",
   "metadata": {},
   "outputs": [
    {
     "name": "stderr",
     "output_type": "stream",
     "text": [
      "100%|██████████| 49999/49999 [00:00<00:00, 156625.82it/s]\n"
     ]
    },
    {
     "data": {
      "text/plain": [
       "{'adriatic_s_001807.png': 0.0,\n",
       " 'baby_s_001654.png': 0.047506706444185816,\n",
       " 'fogbank_s_000423.png': 0.059270738493642845,\n",
       " 'tank_s_000442.png': 0.060966690827361725,\n",
       " 'dessert_plate_s_000124.png': 0.06113711905561663}"
      ]
     },
     "execution_count": 53,
     "metadata": {},
     "output_type": "execute_result"
    }
   ],
   "source": [
    "result = search(histogram_db, target_histogram)\n",
    "result"
   ]
  },
  {
   "cell_type": "code",
   "execution_count": 54,
   "id": "3a5d7e09",
   "metadata": {},
   "outputs": [],
   "source": [
    "# result를 입력받아 5개의 이미지를 화면에 출력하는 함수\n",
    "def show_result(result):\n",
    "    f = plt.figure(figsize=(10,3))\n",
    "    \n",
    "    for idx, filename in enumerate(result.keys()):    \n",
    "        img_path = os.path.join(images_dir_path, filename)\n",
    "        \n",
    "        im = f.add_subplot(1,len(result),idx+1)\n",
    "        \n",
    "        img = Image.open(img_path)\n",
    "        im.imshow(img)"
   ]
  },
  {
   "cell_type": "code",
   "execution_count": 56,
   "id": "17cae226",
   "metadata": {},
   "outputs": [
    {
     "name": "stdout",
     "output_type": "stream",
     "text": [
      "이미지 파일명을 입력하세요: stegosaurus_s_000125.png\n"
     ]
    },
    {
     "name": "stderr",
     "output_type": "stream",
     "text": [
      "100%|██████████| 49999/49999 [00:00<00:00, 225732.36it/s]\n"
     ]
    },
    {
     "data": {
      "image/png": "[encoded data removed]",
      "text/plain": [
       "<Figure size 720x216 with 5 Axes>"
      ]
     },
     "metadata": {
      "needs_background": "light"
     },
     "output_type": "display_data"
    }
   ],
   "source": [
    "target_histogram = get_target_histogram()\n",
    "result = search(histogram_db, target_histogram)\n",
    "show_result(result)"
   ]
  }
 ],
 "metadata": {
  "kernelspec": {
   "display_name": "Python 3 (ipykernel)",
   "language": "python",
   "name": "python3"
  },
  "language_info": {
   "codemirror_mode": {
    "name": "ipython",
    "version": 3
   },
   "file_extension": ".py",
   "mimetype": "text/x-python",
   "name": "python",
   "nbconvert_exporter": "python",
   "pygments_lexer": "ipython3",
   "version": "3.9.7"
  }
 },
 "nbformat": 4,
 "nbformat_minor": 5
}
