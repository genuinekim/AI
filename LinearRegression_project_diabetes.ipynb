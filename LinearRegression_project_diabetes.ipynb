{
 "cells": [
  {
   "cell_type": "code",
   "execution_count": 92,
   "id": "ee83583e",
   "metadata": {},
   "outputs": [],
   "source": [
    "# 사이킷런에서 제공하는 당뇨병(diabetes) 환자 데이터\n",
    "from sklearn.datasets import load_diabetes\n",
    "diabetes = load_diabetes()"
   ]
  },
  {
   "cell_type": "code",
   "execution_count": 93,
   "id": "1d7792eb",
   "metadata": {},
   "outputs": [
    {
     "data": {
      "text/plain": [
       "dict_keys(['data', 'target', 'frame', 'DESCR', 'feature_names', 'data_filename', 'target_filename', 'data_module'])"
      ]
     },
     "execution_count": 93,
     "metadata": {},
     "output_type": "execute_result"
    }
   ],
   "source": [
    "diabetes.keys()"
   ]
  },
  {
   "cell_type": "code",
   "execution_count": 94,
   "id": "e6f8c265",
   "metadata": {},
   "outputs": [
    {
     "name": "stdout",
     "output_type": "stream",
     "text": [
      "(442, 10)\n",
      "(442,)\n"
     ]
    }
   ],
   "source": [
    "df_x = diabetes.data\n",
    "df_y = diabetes.target\n",
    "\n",
    "print(df_x.shape) # 10개의 특성을 가진 입력값이 총 442개 있음.\n",
    "print(df_y.shape)"
   ]
  },
  {
   "cell_type": "code",
   "execution_count": 95,
   "id": "6817f4eb",
   "metadata": {},
   "outputs": [
    {
     "name": "stdout",
     "output_type": "stream",
     "text": [
      "['age', 'sex', 'bmi', 'bp', 's1', 's2', 's3', 's4', 's5', 's6']\n"
     ]
    }
   ],
   "source": [
    "print(diabetes.feature_names) # 특성들의 이름을 출력"
   ]
  },
  {
   "cell_type": "code",
   "execution_count": 96,
   "id": "a7c5e8e7",
   "metadata": {},
   "outputs": [],
   "source": [
    "import numpy as np  \n",
    "X = np.array(df_x) # 특성 값\n",
    "y = np.array(df_y) # 타깃 값"
   ]
  },
  {
   "cell_type": "code",
   "execution_count": 97,
   "id": "edd42c65",
   "metadata": {},
   "outputs": [],
   "source": [
    "# train 데이터와 test 데이터로 분리\n",
    "from sklearn.model_selection import train_test_split\n",
    "X_train, X_test, y_train, y_test = train_test_split(X, y, test_size=0.2, random_state= 10 )"
   ]
  },
  {
   "cell_type": "code",
   "execution_count": 98,
   "id": "05fa2439",
   "metadata": {},
   "outputs": [],
   "source": [
    "# 모델 준비\n",
    "# y = x1w1 + x2w2 +  ... + x9w9 + x10w10 + b\n",
    "W = np.random.rand(10) # 10개의 특성값(x)에 대응하는 10개의 가중치(w) 준비\n",
    "b = np.random.rand()  # 1개의 상수 b 준비"
   ]
  },
  {
   "cell_type": "code",
   "execution_count": 99,
   "id": "f56953c7",
   "metadata": {},
   "outputs": [],
   "source": [
    "# 타깃 값을 예측하는 모델(일차 함수) 구현\n",
    "def model(X, W, b):\n",
    "    predictions = 0\n",
    "    for i in range(10):\n",
    "        predictions += X[:, i] * W[i]  \n",
    "    predictions += b\n",
    "    return predictions"
   ]
  },
  {
   "cell_type": "code",
   "execution_count": 100,
   "id": "5e94275e",
   "metadata": {},
   "outputs": [],
   "source": [
    "# Mean Square Error\n",
    "def MSE(a, b):\n",
    "    mse = ((a - b) ** 2).mean()  # 오차의 제곱의 평균 값\n",
    "    return mse\n",
    "\n",
    "# 손실함수 loss 정의\n",
    "def loss(X, W, b, y):\n",
    "    predictions = model(X, W, b)\n",
    "    L = MSE(predictions, y) # 예측값과 실제 정답(타깃)의 차이 정도를 계산함.\n",
    "    return L\n"
   ]
  },
  {
   "cell_type": "code",
   "execution_count": 101,
   "id": "09311160",
   "metadata": {},
   "outputs": [],
   "source": [
    "# 기울기를 구하는 gradient 함수 구현\n",
    "\n",
    "def gradient(X, W, b, y):\n",
    "    # N은 데이터 포인트의 개수\n",
    "    N = len(y) \n",
    "    \n",
    "    # 모델이 예측한 값 준비\n",
    "    y_pred = model(X, W, b)\n",
    "    \n",
    "    # 특성값 x가 여러 개(다변수)이므로 편미분 공식 활용\n",
    "    dW = 1/N * 2 * X.T.dot(y_pred - y)  # w의 기울기\n",
    "    db = 2 * (y_pred - y).mean()  # b의 기울기\n",
    "    \n",
    "    return dW, db\n"
   ]
  },
  {
   "cell_type": "code",
   "execution_count": 110,
   "id": "28f15703",
   "metadata": {},
   "outputs": [],
   "source": [
    "#하이퍼 파라미터인 학습률 설정\n",
    "LEARNING_RATE = 1"
   ]
  },
  {
   "cell_type": "code",
   "execution_count": 119,
   "id": "c68765d7",
   "metadata": {},
   "outputs": [
    {
     "name": "stdout",
     "output_type": "stream",
     "text": [
      "Iteration 100 : Loss 2851.0318\n",
      "Iteration 200 : Loss 2851.0318\n",
      "Iteration 300 : Loss 2851.0317\n",
      "Iteration 400 : Loss 2851.0317\n",
      "Iteration 500 : Loss 2851.0316\n",
      "Iteration 600 : Loss 2851.0316\n",
      "Iteration 700 : Loss 2851.0315\n",
      "Iteration 800 : Loss 2851.0315\n",
      "Iteration 900 : Loss 2851.0314\n",
      "Iteration 1000 : Loss 2851.0314\n",
      "Iteration 1100 : Loss 2851.0313\n",
      "Iteration 1200 : Loss 2851.0313\n",
      "Iteration 1300 : Loss 2851.0312\n",
      "Iteration 1400 : Loss 2851.0312\n",
      "Iteration 1500 : Loss 2851.0311\n",
      "Iteration 1600 : Loss 2851.0311\n",
      "Iteration 1700 : Loss 2851.0310\n",
      "Iteration 1800 : Loss 2851.0310\n",
      "Iteration 1900 : Loss 2851.0309\n",
      "Iteration 2000 : Loss 2851.0309\n",
      "Iteration 2100 : Loss 2851.0308\n",
      "Iteration 2200 : Loss 2851.0308\n",
      "Iteration 2300 : Loss 2851.0307\n",
      "Iteration 2400 : Loss 2851.0307\n",
      "Iteration 2500 : Loss 2851.0306\n",
      "Iteration 2600 : Loss 2851.0306\n",
      "Iteration 2700 : Loss 2851.0306\n",
      "Iteration 2800 : Loss 2851.0305\n",
      "Iteration 2900 : Loss 2851.0305\n",
      "Iteration 3000 : Loss 2851.0304\n",
      "Iteration 3100 : Loss 2851.0304\n",
      "Iteration 3200 : Loss 2851.0303\n",
      "Iteration 3300 : Loss 2851.0303\n",
      "Iteration 3400 : Loss 2851.0303\n",
      "Iteration 3500 : Loss 2851.0302\n",
      "Iteration 3600 : Loss 2851.0302\n",
      "Iteration 3700 : Loss 2851.0301\n",
      "Iteration 3800 : Loss 2851.0301\n",
      "Iteration 3900 : Loss 2851.0301\n",
      "Iteration 4000 : Loss 2851.0300\n",
      "Iteration 4100 : Loss 2851.0300\n",
      "Iteration 4200 : Loss 2851.0299\n",
      "Iteration 4300 : Loss 2851.0299\n",
      "Iteration 4400 : Loss 2851.0299\n",
      "Iteration 4500 : Loss 2851.0298\n",
      "Iteration 4600 : Loss 2851.0298\n",
      "Iteration 4700 : Loss 2851.0297\n",
      "Iteration 4800 : Loss 2851.0297\n",
      "Iteration 4900 : Loss 2851.0297\n",
      "Iteration 5000 : Loss 2851.0296\n",
      "Iteration 5100 : Loss 2851.0296\n",
      "Iteration 5200 : Loss 2851.0296\n",
      "Iteration 5300 : Loss 2851.0295\n",
      "Iteration 5400 : Loss 2851.0295\n",
      "Iteration 5500 : Loss 2851.0295\n",
      "Iteration 5600 : Loss 2851.0294\n",
      "Iteration 5700 : Loss 2851.0294\n",
      "Iteration 5800 : Loss 2851.0294\n",
      "Iteration 5900 : Loss 2851.0293\n",
      "Iteration 6000 : Loss 2851.0293\n",
      "Iteration 6100 : Loss 2851.0293\n",
      "Iteration 6200 : Loss 2851.0292\n",
      "Iteration 6300 : Loss 2851.0292\n",
      "Iteration 6400 : Loss 2851.0292\n",
      "Iteration 6500 : Loss 2851.0291\n",
      "Iteration 6600 : Loss 2851.0291\n",
      "Iteration 6700 : Loss 2851.0291\n",
      "Iteration 6800 : Loss 2851.0290\n",
      "Iteration 6900 : Loss 2851.0290\n",
      "Iteration 7000 : Loss 2851.0290\n",
      "Iteration 7100 : Loss 2851.0289\n",
      "Iteration 7200 : Loss 2851.0289\n",
      "Iteration 7300 : Loss 2851.0289\n",
      "Iteration 7400 : Loss 2851.0288\n",
      "Iteration 7500 : Loss 2851.0288\n",
      "Iteration 7600 : Loss 2851.0288\n",
      "Iteration 7700 : Loss 2851.0288\n",
      "Iteration 7800 : Loss 2851.0287\n",
      "Iteration 7900 : Loss 2851.0287\n",
      "Iteration 8000 : Loss 2851.0287\n",
      "Iteration 8100 : Loss 2851.0286\n",
      "Iteration 8200 : Loss 2851.0286\n",
      "Iteration 8300 : Loss 2851.0286\n",
      "Iteration 8400 : Loss 2851.0286\n",
      "Iteration 8500 : Loss 2851.0285\n",
      "Iteration 8600 : Loss 2851.0285\n",
      "Iteration 8700 : Loss 2851.0285\n",
      "Iteration 8800 : Loss 2851.0284\n",
      "Iteration 8900 : Loss 2851.0284\n",
      "Iteration 9000 : Loss 2851.0284\n",
      "Iteration 9100 : Loss 2851.0284\n",
      "Iteration 9200 : Loss 2851.0283\n",
      "Iteration 9300 : Loss 2851.0283\n",
      "Iteration 9400 : Loss 2851.0283\n",
      "Iteration 9500 : Loss 2851.0283\n",
      "Iteration 9600 : Loss 2851.0282\n",
      "Iteration 9700 : Loss 2851.0282\n",
      "Iteration 9800 : Loss 2851.0282\n",
      "Iteration 9900 : Loss 2851.0282\n",
      "Iteration 10000 : Loss 2851.0281\n",
      "Iteration 10100 : Loss 2851.0281\n",
      "Iteration 10200 : Loss 2851.0281\n",
      "Iteration 10300 : Loss 2851.0281\n",
      "Iteration 10400 : Loss 2851.0280\n",
      "Iteration 10500 : Loss 2851.0280\n",
      "Iteration 10600 : Loss 2851.0280\n",
      "Iteration 10700 : Loss 2851.0280\n",
      "Iteration 10800 : Loss 2851.0280\n",
      "Iteration 10900 : Loss 2851.0279\n",
      "Iteration 11000 : Loss 2851.0279\n",
      "Iteration 11100 : Loss 2851.0279\n",
      "Iteration 11200 : Loss 2851.0279\n",
      "Iteration 11300 : Loss 2851.0278\n",
      "Iteration 11400 : Loss 2851.0278\n",
      "Iteration 11500 : Loss 2851.0278\n",
      "Iteration 11600 : Loss 2851.0278\n",
      "Iteration 11700 : Loss 2851.0278\n",
      "Iteration 11800 : Loss 2851.0277\n",
      "Iteration 11900 : Loss 2851.0277\n",
      "Iteration 12000 : Loss 2851.0277\n",
      "Iteration 12100 : Loss 2851.0277\n",
      "Iteration 12200 : Loss 2851.0277\n",
      "Iteration 12300 : Loss 2851.0276\n",
      "Iteration 12400 : Loss 2851.0276\n",
      "Iteration 12500 : Loss 2851.0276\n",
      "Iteration 12600 : Loss 2851.0276\n",
      "Iteration 12700 : Loss 2851.0276\n",
      "Iteration 12800 : Loss 2851.0275\n",
      "Iteration 12900 : Loss 2851.0275\n",
      "Iteration 13000 : Loss 2851.0275\n",
      "Iteration 13100 : Loss 2851.0275\n",
      "Iteration 13200 : Loss 2851.0275\n",
      "Iteration 13300 : Loss 2851.0274\n",
      "Iteration 13400 : Loss 2851.0274\n",
      "Iteration 13500 : Loss 2851.0274\n",
      "Iteration 13600 : Loss 2851.0274\n",
      "Iteration 13700 : Loss 2851.0274\n",
      "Iteration 13800 : Loss 2851.0274\n",
      "Iteration 13900 : Loss 2851.0273\n",
      "Iteration 14000 : Loss 2851.0273\n",
      "Iteration 14100 : Loss 2851.0273\n",
      "Iteration 14200 : Loss 2851.0273\n",
      "Iteration 14300 : Loss 2851.0273\n",
      "Iteration 14400 : Loss 2851.0273\n",
      "Iteration 14500 : Loss 2851.0272\n",
      "Iteration 14600 : Loss 2851.0272\n",
      "Iteration 14700 : Loss 2851.0272\n",
      "Iteration 14800 : Loss 2851.0272\n",
      "Iteration 14900 : Loss 2851.0272\n",
      "Iteration 15000 : Loss 2851.0272\n",
      "Iteration 15100 : Loss 2851.0271\n",
      "Iteration 15200 : Loss 2851.0271\n",
      "Iteration 15300 : Loss 2851.0271\n",
      "Iteration 15400 : Loss 2851.0271\n",
      "Iteration 15500 : Loss 2851.0271\n",
      "Iteration 15600 : Loss 2851.0271\n",
      "Iteration 15700 : Loss 2851.0270\n",
      "Iteration 15800 : Loss 2851.0270\n",
      "Iteration 15900 : Loss 2851.0270\n",
      "Iteration 16000 : Loss 2851.0270\n",
      "Iteration 16100 : Loss 2851.0270\n",
      "Iteration 16200 : Loss 2851.0270\n",
      "Iteration 16300 : Loss 2851.0270\n",
      "Iteration 16400 : Loss 2851.0269\n",
      "Iteration 16500 : Loss 2851.0269\n",
      "Iteration 16600 : Loss 2851.0269\n",
      "Iteration 16700 : Loss 2851.0269\n",
      "Iteration 16800 : Loss 2851.0269\n",
      "Iteration 16900 : Loss 2851.0269\n",
      "Iteration 17000 : Loss 2851.0269\n",
      "Iteration 17100 : Loss 2851.0268\n",
      "Iteration 17200 : Loss 2851.0268\n",
      "Iteration 17300 : Loss 2851.0268\n",
      "Iteration 17400 : Loss 2851.0268\n",
      "Iteration 17500 : Loss 2851.0268\n",
      "Iteration 17600 : Loss 2851.0268\n",
      "Iteration 17700 : Loss 2851.0268\n",
      "Iteration 17800 : Loss 2851.0268\n",
      "Iteration 17900 : Loss 2851.0267\n",
      "Iteration 18000 : Loss 2851.0267\n",
      "Iteration 18100 : Loss 2851.0267\n",
      "Iteration 18200 : Loss 2851.0267\n",
      "Iteration 18300 : Loss 2851.0267\n",
      "Iteration 18400 : Loss 2851.0267\n",
      "Iteration 18500 : Loss 2851.0267\n",
      "Iteration 18600 : Loss 2851.0267\n",
      "Iteration 18700 : Loss 2851.0266\n",
      "Iteration 18800 : Loss 2851.0266\n",
      "Iteration 18900 : Loss 2851.0266\n",
      "Iteration 19000 : Loss 2851.0266\n",
      "Iteration 19100 : Loss 2851.0266\n",
      "Iteration 19200 : Loss 2851.0266\n",
      "Iteration 19300 : Loss 2851.0266\n",
      "Iteration 19400 : Loss 2851.0266\n",
      "Iteration 19500 : Loss 2851.0266\n",
      "Iteration 19600 : Loss 2851.0265\n",
      "Iteration 19700 : Loss 2851.0265\n",
      "Iteration 19800 : Loss 2851.0265\n",
      "Iteration 19900 : Loss 2851.0265\n",
      "Iteration 20000 : Loss 2851.0265\n",
      "Iteration 20100 : Loss 2851.0265\n",
      "Iteration 20200 : Loss 2851.0265\n",
      "Iteration 20300 : Loss 2851.0265\n",
      "Iteration 20400 : Loss 2851.0265\n",
      "Iteration 20500 : Loss 2851.0264\n",
      "Iteration 20600 : Loss 2851.0264\n",
      "Iteration 20700 : Loss 2851.0264\n",
      "Iteration 20800 : Loss 2851.0264\n",
      "Iteration 20900 : Loss 2851.0264\n",
      "Iteration 21000 : Loss 2851.0264\n",
      "Iteration 21100 : Loss 2851.0264\n",
      "Iteration 21200 : Loss 2851.0264\n",
      "Iteration 21300 : Loss 2851.0264\n",
      "Iteration 21400 : Loss 2851.0264\n",
      "Iteration 21500 : Loss 2851.0263\n",
      "Iteration 21600 : Loss 2851.0263\n",
      "Iteration 21700 : Loss 2851.0263\n",
      "Iteration 21800 : Loss 2851.0263\n",
      "Iteration 21900 : Loss 2851.0263\n",
      "Iteration 22000 : Loss 2851.0263\n",
      "Iteration 22100 : Loss 2851.0263\n",
      "Iteration 22200 : Loss 2851.0263\n",
      "Iteration 22300 : Loss 2851.0263\n",
      "Iteration 22400 : Loss 2851.0263\n",
      "Iteration 22500 : Loss 2851.0263\n",
      "Iteration 22600 : Loss 2851.0262\n",
      "Iteration 22700 : Loss 2851.0262\n",
      "Iteration 22800 : Loss 2851.0262\n",
      "Iteration 22900 : Loss 2851.0262\n",
      "Iteration 23000 : Loss 2851.0262\n",
      "Iteration 23100 : Loss 2851.0262\n",
      "Iteration 23200 : Loss 2851.0262\n",
      "Iteration 23300 : Loss 2851.0262\n",
      "Iteration 23400 : Loss 2851.0262\n",
      "Iteration 23500 : Loss 2851.0262\n",
      "Iteration 23600 : Loss 2851.0262\n",
      "Iteration 23700 : Loss 2851.0262\n",
      "Iteration 23800 : Loss 2851.0262\n",
      "Iteration 23900 : Loss 2851.0261\n",
      "Iteration 24000 : Loss 2851.0261\n",
      "Iteration 24100 : Loss 2851.0261\n",
      "Iteration 24200 : Loss 2851.0261\n",
      "Iteration 24300 : Loss 2851.0261\n",
      "Iteration 24400 : Loss 2851.0261\n",
      "Iteration 24500 : Loss 2851.0261\n",
      "Iteration 24600 : Loss 2851.0261\n",
      "Iteration 24700 : Loss 2851.0261\n",
      "Iteration 24800 : Loss 2851.0261\n",
      "Iteration 24900 : Loss 2851.0261\n",
      "Iteration 25000 : Loss 2851.0261\n",
      "Iteration 25100 : Loss 2851.0261\n",
      "Iteration 25200 : Loss 2851.0260\n",
      "Iteration 25300 : Loss 2851.0260\n",
      "Iteration 25400 : Loss 2851.0260\n",
      "Iteration 25500 : Loss 2851.0260\n",
      "Iteration 25600 : Loss 2851.0260\n",
      "Iteration 25700 : Loss 2851.0260\n",
      "Iteration 25800 : Loss 2851.0260\n",
      "Iteration 25900 : Loss 2851.0260\n",
      "Iteration 26000 : Loss 2851.0260\n",
      "Iteration 26100 : Loss 2851.0260\n",
      "Iteration 26200 : Loss 2851.0260\n",
      "Iteration 26300 : Loss 2851.0260\n",
      "Iteration 26400 : Loss 2851.0260\n",
      "Iteration 26500 : Loss 2851.0260\n"
     ]
    },
    {
     "name": "stdout",
     "output_type": "stream",
     "text": [
      "Iteration 26600 : Loss 2851.0260\n",
      "Iteration 26700 : Loss 2851.0260\n",
      "Iteration 26800 : Loss 2851.0259\n",
      "Iteration 26900 : Loss 2851.0259\n",
      "Iteration 27000 : Loss 2851.0259\n",
      "Iteration 27100 : Loss 2851.0259\n",
      "Iteration 27200 : Loss 2851.0259\n",
      "Iteration 27300 : Loss 2851.0259\n",
      "Iteration 27400 : Loss 2851.0259\n",
      "Iteration 27500 : Loss 2851.0259\n",
      "Iteration 27600 : Loss 2851.0259\n",
      "Iteration 27700 : Loss 2851.0259\n",
      "Iteration 27800 : Loss 2851.0259\n",
      "Iteration 27900 : Loss 2851.0259\n",
      "Iteration 28000 : Loss 2851.0259\n",
      "Iteration 28100 : Loss 2851.0259\n",
      "Iteration 28200 : Loss 2851.0259\n",
      "Iteration 28300 : Loss 2851.0259\n",
      "Iteration 28400 : Loss 2851.0259\n",
      "Iteration 28500 : Loss 2851.0258\n",
      "Iteration 28600 : Loss 2851.0258\n",
      "Iteration 28700 : Loss 2851.0258\n",
      "Iteration 28800 : Loss 2851.0258\n",
      "Iteration 28900 : Loss 2851.0258\n",
      "Iteration 29000 : Loss 2851.0258\n",
      "Iteration 29100 : Loss 2851.0258\n",
      "Iteration 29200 : Loss 2851.0258\n",
      "Iteration 29300 : Loss 2851.0258\n",
      "Iteration 29400 : Loss 2851.0258\n",
      "Iteration 29500 : Loss 2851.0258\n",
      "Iteration 29600 : Loss 2851.0258\n",
      "Iteration 29700 : Loss 2851.0258\n",
      "Iteration 29800 : Loss 2851.0258\n",
      "Iteration 29900 : Loss 2851.0258\n"
     ]
    }
   ],
   "source": [
    "#정의된 손실함수와 기울기 함수로 모델을 학습\n",
    "losses = []\n",
    "\n",
    "for i in range(1, 30000): \n",
    "    dW, db = gradient(X_train, W, b, y_train)  \n",
    "    W -= LEARNING_RATE * dW  # 기울기가 양수이면 점점 뒤로 움직임.\n",
    "    b -= LEARNING_RATE * db  # 기울기가 음수이면 점점 앞으로 움직임.\n",
    "    L = loss(X_train, W, b, y_train)  \n",
    "    losses.append(L) # 손실값(오차값)을 기록함.\n",
    "    if i % 100 == 0:\n",
    "        print('Iteration %d : Loss %0.4f' % (i, L))  # loss값이 충분히 떨어질 때까지 학습을 진행함.\n"
   ]
  },
  {
   "cell_type": "code",
   "execution_count": 115,
   "id": "e3e6822a",
   "metadata": {},
   "outputs": [
    {
     "data": {
      "image/png": "[encoded data removed]",
      "text/plain": [
       "<Figure size 432x288 with 1 Axes>"
      ]
     },
     "metadata": {
      "needs_background": "light"
     },
     "output_type": "display_data"
    }
   ],
   "source": [
    "import matplotlib.pyplot as plt\n",
    "plt.plot(losses)\n",
    "plt.show()"
   ]
  },
  {
   "cell_type": "code",
   "execution_count": 116,
   "id": "22199a72",
   "metadata": {},
   "outputs": [
    {
     "data": {
      "text/plain": [
       "2913.0765871676863"
      ]
     },
     "execution_count": 116,
     "metadata": {},
     "output_type": "execute_result"
    }
   ],
   "source": [
    "# test 데이터에 대한 성능 확인\n",
    "prediction = model(X_test, W, b)\n",
    "mse = loss(X_test, W, b, y_test)\n",
    "mse"
   ]
  },
  {
   "cell_type": "code",
   "execution_count": 117,
   "id": "bfaadbde",
   "metadata": {},
   "outputs": [
    {
     "data": {
      "image/png": "[encoded data removed]",
      "text/plain": [
       "<Figure size 432x288 with 1 Axes>"
      ]
     },
     "metadata": {
      "needs_background": "light"
     },
     "output_type": "display_data"
    }
   ],
   "source": [
    "# 정답 데이터와 예측한 데이터 시각화하기\n",
    "plt.scatter(X_test[:, 0], y_test) \n",
    "plt.scatter(X_test[:, 0], prediction) \n",
    "plt.show()\n"
   ]
  }
 ],
 "metadata": {
  "kernelspec": {
   "display_name": "Python 3 (ipykernel)",
   "language": "python",
   "name": "python3"
  },
  "language_info": {
   "codemirror_mode": {
    "name": "ipython",
    "version": 3
   },
   "file_extension": ".py",
   "mimetype": "text/x-python",
   "name": "python",
   "nbconvert_exporter": "python",
   "pygments_lexer": "ipython3",
   "version": "3.9.7"
  }
 },
 "nbformat": 4,
 "nbformat_minor": 5
}
